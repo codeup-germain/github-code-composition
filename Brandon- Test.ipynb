{
 "cells": [
  {
   "cell_type": "markdown",
   "id": "61cb9cc5",
   "metadata": {},
   "source": [
    "Test"
   ]
  },
  {
   "cell_type": "code",
   "execution_count": 1,
   "id": "cb68661a",
   "metadata": {},
   "outputs": [],
   "source": [
    "import pandas as pd\n",
    "import numpy as np\n",
    "import matplotlib.pyplot as plt\n",
    "import seaborn as sns\n"
   ]
  },
  {
   "cell_type": "code",
   "execution_count": 3,
   "id": "599ffab2",
   "metadata": {},
   "outputs": [],
   "source": [
    "df= pd.read_csv('git_urls.csv')"
   ]
  },
  {
   "cell_type": "code",
   "execution_count": 10,
   "id": "f88200fa",
   "metadata": {},
   "outputs": [
    {
     "data": {
      "text/plain": [
       "repos    231\n",
       "dtype: int64"
      ]
     },
     "execution_count": 10,
     "metadata": {},
     "output_type": "execute_result"
    }
   ],
   "source": [
    "#Cutis sent this csv of 290 repos, of the 290, 231 of them are unique we will add this to brookes list of unique repo\n",
    "df.nunique()"
   ]
  },
  {
   "cell_type": "code",
   "execution_count": 8,
   "id": "05f41e4e",
   "metadata": {},
   "outputs": [
    {
     "data": {
      "text/plain": [
       "(290, 1)"
      ]
     },
     "execution_count": 8,
     "metadata": {},
     "output_type": "execute_result"
    }
   ],
   "source": [
    "df.shape"
   ]
  },
  {
   "cell_type": "code",
   "execution_count": null,
   "id": "bd679286",
   "metadata": {},
   "outputs": [],
   "source": []
  }
 ],
 "metadata": {
  "kernelspec": {
   "display_name": "Python 3",
   "language": "python",
   "name": "python3"
  },
  "language_info": {
   "codemirror_mode": {
    "name": "ipython",
    "version": 3
   },
   "file_extension": ".py",
   "mimetype": "text/x-python",
   "name": "python",
   "nbconvert_exporter": "python",
   "pygments_lexer": "ipython3",
   "version": "3.8.8"
  }
 },
 "nbformat": 4,
 "nbformat_minor": 5
}
