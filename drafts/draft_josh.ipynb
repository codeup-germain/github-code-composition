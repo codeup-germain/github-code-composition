{
 "cells": [
  {
   "cell_type": "code",
   "execution_count": 1,
   "id": "b44ca195",
   "metadata": {},
   "outputs": [],
   "source": [
    "import pandas as pd\n",
    "import numpy as np\n",
    "import matplotlib.pyplot as plt\n",
    "\n",
    "import unicodedata\n",
    "import re\n",
    "import json\n",
    "\n",
    "import nltk\n",
    "from nltk.tokenize.toktok import ToktokTokenizer\n",
    "from nltk.corpus import stopwords\n",
    "from nltk import sent_tokenize\n",
    "from prepare import prepare"
   ]
  },
  {
   "cell_type": "code",
   "execution_count": 2,
   "id": "50bab94e",
   "metadata": {},
   "outputs": [],
   "source": [
    "with open('data.json') as json_file:\n",
    "    data = json.load(json_file)"
   ]
  },
  {
   "cell_type": "code",
   "execution_count": 111,
   "id": "ab49decd",
   "metadata": {},
   "outputs": [],
   "source": [
    "df = pd.DataFrame(data)"
   ]
  },
  {
   "cell_type": "code",
   "execution_count": 4,
   "id": "c715ff7e",
   "metadata": {},
   "outputs": [
    {
     "name": "stdout",
     "output_type": "stream",
     "text": [
      "<class 'pandas.core.frame.DataFrame'>\n",
      "RangeIndex: 123 entries, 0 to 122\n",
      "Data columns (total 3 columns):\n",
      " #   Column           Non-Null Count  Dtype \n",
      "---  ------           --------------  ----- \n",
      " 0   repo             123 non-null    object\n",
      " 1   language         121 non-null    object\n",
      " 2   readme_contents  123 non-null    object\n",
      "dtypes: object(3)\n",
      "memory usage: 3.0+ KB\n"
     ]
    }
   ],
   "source": [
    "df.info()"
   ]
  },
  {
   "cell_type": "code",
   "execution_count": 5,
   "id": "e23ba7c9",
   "metadata": {},
   "outputs": [],
   "source": [
    "df = df[df.language != \"Shell\"]"
   ]
  },
  {
   "cell_type": "code",
   "execution_count": 6,
   "id": "ed522566",
   "metadata": {},
   "outputs": [],
   "source": [
    "df = df[df.language != \"Java\"]"
   ]
  },
  {
   "cell_type": "code",
   "execution_count": 7,
   "id": "8292fbe2",
   "metadata": {},
   "outputs": [],
   "source": [
    "df = df[df.language != \"Ruby\"]"
   ]
  },
  {
   "cell_type": "code",
   "execution_count": 8,
   "id": "17301cfd",
   "metadata": {},
   "outputs": [],
   "source": [
    "df.language = df.language.astype('string')"
   ]
  },
  {
   "cell_type": "code",
   "execution_count": 9,
   "id": "85e207b6",
   "metadata": {},
   "outputs": [
    {
     "name": "stdout",
     "output_type": "stream",
     "text": [
      "<class 'pandas.core.frame.DataFrame'>\n",
      "Int64Index: 106 entries, 0 to 122\n",
      "Data columns (total 3 columns):\n",
      " #   Column           Non-Null Count  Dtype \n",
      "---  ------           --------------  ----- \n",
      " 0   repo             106 non-null    object\n",
      " 1   language         104 non-null    string\n",
      " 2   readme_contents  106 non-null    object\n",
      "dtypes: object(2), string(1)\n",
      "memory usage: 3.3+ KB\n"
     ]
    }
   ],
   "source": [
    "df.info()"
   ]
  },
  {
   "cell_type": "code",
   "execution_count": 10,
   "id": "13b9cac1",
   "metadata": {},
   "outputs": [],
   "source": [
    "df = df[~df['language'].isnull()]"
   ]
  },
  {
   "cell_type": "code",
   "execution_count": 11,
   "id": "78800e67",
   "metadata": {},
   "outputs": [
    {
     "data": {
      "text/plain": [
       "HTML          29\n",
       "C#            27\n",
       "Python        25\n",
       "JavaScript    23\n",
       "Name: language, dtype: Int64"
      ]
     },
     "execution_count": 11,
     "metadata": {},
     "output_type": "execute_result"
    }
   ],
   "source": [
    "df.language.value_counts(dropna=False)"
   ]
  },
  {
   "cell_type": "code",
   "execution_count": 12,
   "id": "dbd5f18e",
   "metadata": {},
   "outputs": [
    {
     "data": {
      "text/plain": [
       "str"
      ]
     },
     "execution_count": 12,
     "metadata": {},
     "output_type": "execute_result"
    }
   ],
   "source": [
    "type(df.language[0])"
   ]
  },
  {
   "cell_type": "markdown",
   "id": "7217978c",
   "metadata": {},
   "source": [
    "# Check out prepare for prepare details"
   ]
  },
  {
   "cell_type": "code",
   "execution_count": 13,
   "id": "b163b7c7",
   "metadata": {
    "scrolled": false
   },
   "outputs": [],
   "source": [
    "train, validate, test = prepare(df)"
   ]
  },
  {
   "cell_type": "code",
   "execution_count": 14,
   "id": "59a76e53",
   "metadata": {},
   "outputs": [
    {
     "data": {
      "text/plain": [
       "(348, 150, 126)"
      ]
     },
     "execution_count": 14,
     "metadata": {},
     "output_type": "execute_result"
    }
   ],
   "source": [
    "train.size, validate.size, test.size"
   ]
  },
  {
   "cell_type": "code",
   "execution_count": 15,
   "id": "418bfd43",
   "metadata": {},
   "outputs": [
    {
     "data": {
      "text/html": [
       "<div>\n",
       "<style scoped>\n",
       "    .dataframe tbody tr th:only-of-type {\n",
       "        vertical-align: middle;\n",
       "    }\n",
       "\n",
       "    .dataframe tbody tr th {\n",
       "        vertical-align: top;\n",
       "    }\n",
       "\n",
       "    .dataframe thead th {\n",
       "        text-align: right;\n",
       "    }\n",
       "</style>\n",
       "<table border=\"1\" class=\"dataframe\">\n",
       "  <thead>\n",
       "    <tr style=\"text-align: right;\">\n",
       "      <th></th>\n",
       "      <th>repo</th>\n",
       "      <th>language</th>\n",
       "      <th>readme_contents</th>\n",
       "      <th>clean</th>\n",
       "      <th>stemmed</th>\n",
       "      <th>lemmatized</th>\n",
       "    </tr>\n",
       "  </thead>\n",
       "  <tbody>\n",
       "    <tr>\n",
       "      <th>76</th>\n",
       "      <td>Ryujinx/Ryujinx</td>\n",
       "      <td>C#</td>\n",
       "      <td>\\n&lt;h1&gt;\\n    &lt;img src=\"https://i.imgur.com/G6Ml...</td>\n",
       "      <td>h1 img srchttpsiimgurcomg6mlecopng ryujinx hre...</td>\n",
       "      <td>h1 img srchttpsiimgurcomg6mlecopng ryujinx hre...</td>\n",
       "      <td>h1 img srchttpsiimgurcomg6mlecopng ryujinx hre...</td>\n",
       "    </tr>\n",
       "    <tr>\n",
       "      <th>73</th>\n",
       "      <td>egametang/ET</td>\n",
       "      <td>C#</td>\n",
       "      <td># [中文](https://github.com/egametang/Egametang/...</td>\n",
       "      <td>httpsgithubcomegametangegametangblobmasterread...</td>\n",
       "      <td>httpsgithubcomegametangegametangblobmasterread...</td>\n",
       "      <td>httpsgithubcomegametangegametangblobmasterread...</td>\n",
       "    </tr>\n",
       "    <tr>\n",
       "      <th>91</th>\n",
       "      <td>bombomby/optick</td>\n",
       "      <td>C#</td>\n",
       "      <td># [Optick: C++ Profiler For Games](https://opt...</td>\n",
       "      <td>optick c profiler gameshttpsoptickdev githubht...</td>\n",
       "      <td>optick c profil gameshttpsoptickdev githubhttp...</td>\n",
       "      <td>optick c profiler gameshttpsoptickdev githubht...</td>\n",
       "    </tr>\n",
       "    <tr>\n",
       "      <th>1</th>\n",
       "      <td>cl2333/Grokking-the-Coding-Interview-Patterns-...</td>\n",
       "      <td>Python</td>\n",
       "      <td># [Grokking-the-Coding-Interview-Patterns-for-...</td>\n",
       "      <td>grokkingthecodinginterviewpatternsforcodingque...</td>\n",
       "      <td>grokkingthecodinginterviewpatternsforcodingque...</td>\n",
       "      <td>grokkingthecodinginterviewpatternsforcodingque...</td>\n",
       "    </tr>\n",
       "    <tr>\n",
       "      <th>102</th>\n",
       "      <td>gustavoguanabara/html-css</td>\n",
       "      <td>HTML</td>\n",
       "      <td>&lt;img src=\"imagens/mascote.png\" align=\"right\" w...</td>\n",
       "      <td>img srcimagensmascotepng alignright width300 c...</td>\n",
       "      <td>img srcimagensmascotepng alignright width300 c...</td>\n",
       "      <td>img srcimagensmascotepng alignright width300 c...</td>\n",
       "    </tr>\n",
       "  </tbody>\n",
       "</table>\n",
       "</div>"
      ],
      "text/plain": [
       "                                                  repo language  \\\n",
       "76                                     Ryujinx/Ryujinx       C#   \n",
       "73                                        egametang/ET       C#   \n",
       "91                                     bombomby/optick       C#   \n",
       "1    cl2333/Grokking-the-Coding-Interview-Patterns-...   Python   \n",
       "102                          gustavoguanabara/html-css     HTML   \n",
       "\n",
       "                                       readme_contents  \\\n",
       "76   \\n<h1>\\n    <img src=\"https://i.imgur.com/G6Ml...   \n",
       "73   # [中文](https://github.com/egametang/Egametang/...   \n",
       "91   # [Optick: C++ Profiler For Games](https://opt...   \n",
       "1    # [Grokking-the-Coding-Interview-Patterns-for-...   \n",
       "102  <img src=\"imagens/mascote.png\" align=\"right\" w...   \n",
       "\n",
       "                                                 clean  \\\n",
       "76   h1 img srchttpsiimgurcomg6mlecopng ryujinx hre...   \n",
       "73   httpsgithubcomegametangegametangblobmasterread...   \n",
       "91   optick c profiler gameshttpsoptickdev githubht...   \n",
       "1    grokkingthecodinginterviewpatternsforcodingque...   \n",
       "102  img srcimagensmascotepng alignright width300 c...   \n",
       "\n",
       "                                               stemmed  \\\n",
       "76   h1 img srchttpsiimgurcomg6mlecopng ryujinx hre...   \n",
       "73   httpsgithubcomegametangegametangblobmasterread...   \n",
       "91   optick c profil gameshttpsoptickdev githubhttp...   \n",
       "1    grokkingthecodinginterviewpatternsforcodingque...   \n",
       "102  img srcimagensmascotepng alignright width300 c...   \n",
       "\n",
       "                                            lemmatized  \n",
       "76   h1 img srchttpsiimgurcomg6mlecopng ryujinx hre...  \n",
       "73   httpsgithubcomegametangegametangblobmasterread...  \n",
       "91   optick c profiler gameshttpsoptickdev githubht...  \n",
       "1    grokkingthecodinginterviewpatternsforcodingque...  \n",
       "102  img srcimagensmascotepng alignright width300 c...  "
      ]
     },
     "execution_count": 15,
     "metadata": {},
     "output_type": "execute_result"
    }
   ],
   "source": [
    "train.head()"
   ]
  },
  {
   "cell_type": "code",
   "execution_count": null,
   "id": "3c948622",
   "metadata": {},
   "outputs": [],
   "source": []
  },
  {
   "cell_type": "markdown",
   "id": "027512fd",
   "metadata": {},
   "source": [
    "# No duplicates"
   ]
  },
  {
   "cell_type": "code",
   "execution_count": 16,
   "id": "e889adf5",
   "metadata": {},
   "outputs": [
    {
     "data": {
      "text/html": [
       "<div>\n",
       "<style scoped>\n",
       "    .dataframe tbody tr th:only-of-type {\n",
       "        vertical-align: middle;\n",
       "    }\n",
       "\n",
       "    .dataframe tbody tr th {\n",
       "        vertical-align: top;\n",
       "    }\n",
       "\n",
       "    .dataframe thead th {\n",
       "        text-align: right;\n",
       "    }\n",
       "</style>\n",
       "<table border=\"1\" class=\"dataframe\">\n",
       "  <thead>\n",
       "    <tr style=\"text-align: right;\">\n",
       "      <th></th>\n",
       "      <th>repo</th>\n",
       "      <th>language</th>\n",
       "      <th>readme_contents</th>\n",
       "    </tr>\n",
       "  </thead>\n",
       "  <tbody>\n",
       "  </tbody>\n",
       "</table>\n",
       "</div>"
      ],
      "text/plain": [
       "Empty DataFrame\n",
       "Columns: [repo, language, readme_contents]\n",
       "Index: []"
      ]
     },
     "execution_count": 16,
     "metadata": {},
     "output_type": "execute_result"
    }
   ],
   "source": [
    "df[df.duplicated()]"
   ]
  },
  {
   "cell_type": "markdown",
   "id": "cf6b4b85",
   "metadata": {},
   "source": [
    "# Exploration"
   ]
  },
  {
   "cell_type": "code",
   "execution_count": 101,
   "id": "5495f0f0",
   "metadata": {},
   "outputs": [],
   "source": [
    "def clean(text):\n",
    "    'A simple function to cleanup text data'\n",
    "    \n",
    "    ADDITIONAL_STOPWORDS = []\n",
    "    wnl = nltk.stem.WordNetLemmatizer()\n",
    "    stopwords = nltk.corpus.stopwords.words('english') + ADDITIONAL_STOPWORDS\n",
    "    text = (unicodedata.normalize('NFKD', text)\n",
    "             .encode('ascii', 'ignore')\n",
    "             .decode('utf-8', 'ignore')\n",
    "             .lower())\n",
    "    words = re.sub(r'[^\\w\\s]', '', text).split()\n",
    "    return [wnl.lemmatize(word) for word in words if word not in stopwords]"
   ]
  },
  {
   "cell_type": "code",
   "execution_count": 18,
   "id": "6a026e5c",
   "metadata": {},
   "outputs": [
    {
     "data": {
      "text/html": [
       "<div>\n",
       "<style scoped>\n",
       "    .dataframe tbody tr th:only-of-type {\n",
       "        vertical-align: middle;\n",
       "    }\n",
       "\n",
       "    .dataframe tbody tr th {\n",
       "        vertical-align: top;\n",
       "    }\n",
       "\n",
       "    .dataframe thead th {\n",
       "        text-align: right;\n",
       "    }\n",
       "</style>\n",
       "<table border=\"1\" class=\"dataframe\">\n",
       "  <thead>\n",
       "    <tr style=\"text-align: right;\">\n",
       "      <th></th>\n",
       "      <th>n</th>\n",
       "      <th>percent</th>\n",
       "    </tr>\n",
       "  </thead>\n",
       "  <tbody>\n",
       "    <tr>\n",
       "      <th>HTML</th>\n",
       "      <td>29</td>\n",
       "      <td>0.278846</td>\n",
       "    </tr>\n",
       "    <tr>\n",
       "      <th>C#</th>\n",
       "      <td>27</td>\n",
       "      <td>0.259615</td>\n",
       "    </tr>\n",
       "    <tr>\n",
       "      <th>Python</th>\n",
       "      <td>25</td>\n",
       "      <td>0.240385</td>\n",
       "    </tr>\n",
       "    <tr>\n",
       "      <th>JavaScript</th>\n",
       "      <td>23</td>\n",
       "      <td>0.221154</td>\n",
       "    </tr>\n",
       "  </tbody>\n",
       "</table>\n",
       "</div>"
      ],
      "text/plain": [
       "             n   percent\n",
       "HTML        29  0.278846\n",
       "C#          27  0.259615\n",
       "Python      25  0.240385\n",
       "JavaScript  23  0.221154"
      ]
     },
     "execution_count": 18,
     "metadata": {},
     "output_type": "execute_result"
    }
   ],
   "source": [
    "def show_counts_and_ratios(df, column):\n",
    "    \"\"\"\n",
    "    Takes in a dataframe and a string of a single column\n",
    "    Returns a dataframe with absolute value counts and percentage value counts\n",
    "    \"\"\"\n",
    "    labels = pd.concat([df[column].value_counts(),\n",
    "                    df[column].value_counts(normalize=True)], axis=1)\n",
    "    labels.columns = ['n', 'percent']\n",
    "    labels\n",
    "    return labels\n",
    "\n",
    "show_counts_and_ratios(df, \"language\")"
   ]
  },
  {
   "cell_type": "code",
   "execution_count": 102,
   "id": "529a2811",
   "metadata": {},
   "outputs": [],
   "source": [
    "python_words = clean(' '.join(train[train.language == 'Python'].readme_contents))"
   ]
  },
  {
   "cell_type": "code",
   "execution_count": 103,
   "id": "421bcf4f",
   "metadata": {},
   "outputs": [],
   "source": [
    "p_words = pd.DataFrame(python_words)"
   ]
  },
  {
   "cell_type": "code",
   "execution_count": 104,
   "id": "5a99a191",
   "metadata": {},
   "outputs": [
    {
     "data": {
      "text/plain": [
       "video                     200\n",
       "youtubedl                 150\n",
       "file                      135\n",
       "use                       117\n",
       "format                    102\n",
       "                         ... \n",
       "botwritingyourfirstbot      1\n",
       "liked                       1\n",
       "bottelegramshodan           1\n",
       "likewise                    1\n",
       "july                        1\n",
       "Length: 4263, dtype: int64"
      ]
     },
     "execution_count": 104,
     "metadata": {},
     "output_type": "execute_result"
    }
   ],
   "source": [
    "p_words.value_counts()"
   ]
  },
  {
   "cell_type": "code",
   "execution_count": 108,
   "id": "6ef34554",
   "metadata": {},
   "outputs": [],
   "source": [
    "words = []\n",
    "for word in list(train[train.language == 'Python'].lemmatized):\n",
    "    words.extend(word.split())"
   ]
  },
  {
   "cell_type": "code",
   "execution_count": 109,
   "id": "935743c9",
   "metadata": {},
   "outputs": [],
   "source": [
    "python_words = pd.DataFrame(words)"
   ]
  },
  {
   "cell_type": "code",
   "execution_count": 110,
   "id": "1b53c8cf",
   "metadata": {},
   "outputs": [
    {
     "data": {
      "text/plain": [
       "'            524\n",
       "video        202\n",
       "youtubedl    154\n",
       "file         135\n",
       "use          117\n",
       "            ... \n",
       "btt            1\n",
       "likewise       1\n",
       "limited        1\n",
       "limitrate      1\n",
       "joining        1\n",
       "Length: 4216, dtype: int64"
      ]
     },
     "execution_count": 110,
     "metadata": {},
     "output_type": "execute_result"
    }
   ],
   "source": [
    "python_words.value_counts()"
   ]
  },
  {
   "cell_type": "code",
   "execution_count": 20,
   "id": "5b0f8b04",
   "metadata": {},
   "outputs": [],
   "source": [
    "c_sharp_words = clean(' '.join(df[df.language == 'C#'].readme_contents))"
   ]
  },
  {
   "cell_type": "code",
   "execution_count": 21,
   "id": "b85afdda",
   "metadata": {},
   "outputs": [],
   "source": [
    "html_words = clean(' '.join(df[df.language == 'HTML'].readme_contents))"
   ]
  },
  {
   "cell_type": "code",
   "execution_count": 22,
   "id": "f0d4bc5a",
   "metadata": {},
   "outputs": [],
   "source": [
    "javascript_words = clean(' '.join(df[df.language == 'JavaScript'].readme_contents))"
   ]
  },
  {
   "cell_type": "code",
   "execution_count": 23,
   "id": "1db0213f",
   "metadata": {},
   "outputs": [],
   "source": [
    "java_words = clean(' '.join(df[df.language == 'Java'].readme_contents))"
   ]
  },
  {
   "cell_type": "code",
   "execution_count": 24,
   "id": "4d466608",
   "metadata": {},
   "outputs": [],
   "source": [
    "ruby_words = clean(' '.join(df[df.language == 'Ruby'].readme_contents))"
   ]
  },
  {
   "cell_type": "code",
   "execution_count": 25,
   "id": "e01ffe17",
   "metadata": {},
   "outputs": [],
   "source": [
    "shell_words = clean(' '.join(df[df.language == 'Shell'].readme_contents))"
   ]
  },
  {
   "cell_type": "markdown",
   "id": "d8d919b4",
   "metadata": {},
   "source": [
    "### Freq"
   ]
  },
  {
   "cell_type": "code",
   "execution_count": 26,
   "id": "6022c399",
   "metadata": {},
   "outputs": [],
   "source": [
    "python_freq = pd.Series(python_words).value_counts()"
   ]
  },
  {
   "cell_type": "code",
   "execution_count": 27,
   "id": "23d73aac",
   "metadata": {},
   "outputs": [],
   "source": [
    "c_sharp_freq = pd.Series(c_sharp_words).value_counts()"
   ]
  },
  {
   "cell_type": "code",
   "execution_count": 28,
   "id": "70e6a165",
   "metadata": {},
   "outputs": [],
   "source": [
    "html_freq = pd.Series(html_words).value_counts()"
   ]
  },
  {
   "cell_type": "code",
   "execution_count": 29,
   "id": "42a06042",
   "metadata": {},
   "outputs": [],
   "source": [
    "javascript_freq = pd.Series(javascript_words).value_counts()"
   ]
  },
  {
   "cell_type": "code",
   "execution_count": 30,
   "id": "c980271d",
   "metadata": {},
   "outputs": [
    {
     "name": "stderr",
     "output_type": "stream",
     "text": [
      "<ipython-input-30-4efbc507a9de>:1: DeprecationWarning: The default dtype for empty Series will be 'object' instead of 'float64' in a future version. Specify a dtype explicitly to silence this warning.\n",
      "  java_freq = pd.Series(java_words).value_counts()\n"
     ]
    }
   ],
   "source": [
    "java_freq = pd.Series(java_words).value_counts()"
   ]
  },
  {
   "cell_type": "code",
   "execution_count": 31,
   "id": "ae5f807a",
   "metadata": {},
   "outputs": [
    {
     "name": "stderr",
     "output_type": "stream",
     "text": [
      "<ipython-input-31-3c920b4893cb>:1: DeprecationWarning: The default dtype for empty Series will be 'object' instead of 'float64' in a future version. Specify a dtype explicitly to silence this warning.\n",
      "  ruby_freq = pd.Series(ruby_words).value_counts()\n"
     ]
    }
   ],
   "source": [
    "ruby_freq = pd.Series(ruby_words).value_counts()"
   ]
  },
  {
   "cell_type": "code",
   "execution_count": 32,
   "id": "aaefea21",
   "metadata": {},
   "outputs": [
    {
     "name": "stderr",
     "output_type": "stream",
     "text": [
      "<ipython-input-32-84670517d0d1>:1: DeprecationWarning: The default dtype for empty Series will be 'object' instead of 'float64' in a future version. Specify a dtype explicitly to silence this warning.\n",
      "  shell_freq = pd.Series(shell_words).value_counts()\n"
     ]
    }
   ],
   "source": [
    "shell_freq = pd.Series(shell_words).value_counts()"
   ]
  },
  {
   "cell_type": "code",
   "execution_count": 33,
   "id": "b842ef00",
   "metadata": {},
   "outputs": [
    {
     "data": {
      "text/plain": [
       "yes        1615\n",
       "unknown     909\n",
       "apikey      558\n",
       "video       489\n",
       "python      447\n",
       "dtype: int64"
      ]
     },
     "execution_count": 33,
     "metadata": {},
     "output_type": "execute_result"
    }
   ],
   "source": [
    "python_freq.head()"
   ]
  },
  {
   "cell_type": "code",
   "execution_count": 34,
   "id": "a597117a",
   "metadata": {},
   "outputs": [
    {
     "data": {
      "text/plain": [
       "new       192\n",
       "c         188\n",
       "use       186\n",
       "var       185\n",
       "csharp    156\n",
       "dtype: int64"
      ]
     },
     "execution_count": 34,
     "metadata": {},
     "output_type": "execute_result"
    }
   ],
   "source": [
    "c_sharp_freq.head()"
   ]
  },
  {
   "cell_type": "code",
   "execution_count": 35,
   "id": "4bae7ba7",
   "metadata": {},
   "outputs": [
    {
     "data": {
      "text/plain": [
       "html        97\n",
       "use         76\n",
       "file        76\n",
       "15001700    62\n",
       "dom         51\n",
       "dtype: int64"
      ]
     },
     "execution_count": 35,
     "metadata": {},
     "output_type": "execute_result"
    }
   ],
   "source": [
    "html_freq.head()"
   ]
  },
  {
   "cell_type": "code",
   "execution_count": 36,
   "id": "7a974062",
   "metadata": {},
   "outputs": [
    {
     "data": {
      "text/plain": [
       "javascript    309\n",
       "function      276\n",
       "const         261\n",
       "1             240\n",
       "bad           205\n",
       "dtype: int64"
      ]
     },
     "execution_count": 36,
     "metadata": {},
     "output_type": "execute_result"
    }
   ],
   "source": [
    "javascript_freq.head()"
   ]
  },
  {
   "cell_type": "code",
   "execution_count": 37,
   "id": "b8765162",
   "metadata": {},
   "outputs": [
    {
     "data": {
      "text/plain": [
       "Series([], dtype: int64)"
      ]
     },
     "execution_count": 37,
     "metadata": {},
     "output_type": "execute_result"
    }
   ],
   "source": [
    "java_freq.head()"
   ]
  },
  {
   "cell_type": "markdown",
   "id": "e94fd3e4",
   "metadata": {},
   "source": [
    "### Ruby and Shell only have one observation so we can either drop or go find more"
   ]
  },
  {
   "cell_type": "code",
   "execution_count": 38,
   "id": "45d1825b",
   "metadata": {},
   "outputs": [
    {
     "data": {
      "text/plain": [
       "Series([], dtype: int64)"
      ]
     },
     "execution_count": 38,
     "metadata": {},
     "output_type": "execute_result"
    }
   ],
   "source": [
    "ruby_freq.head()"
   ]
  },
  {
   "cell_type": "code",
   "execution_count": 39,
   "id": "6d8748f2",
   "metadata": {},
   "outputs": [
    {
     "data": {
      "text/plain": [
       "Series([], dtype: int64)"
      ]
     },
     "execution_count": 39,
     "metadata": {},
     "output_type": "execute_result"
    }
   ],
   "source": [
    "shell_freq.head()"
   ]
  },
  {
   "cell_type": "code",
   "execution_count": null,
   "id": "2f69f178",
   "metadata": {},
   "outputs": [],
   "source": []
  }
 ],
 "metadata": {
  "kernelspec": {
   "display_name": "Python 3",
   "language": "python",
   "name": "python3"
  },
  "language_info": {
   "codemirror_mode": {
    "name": "ipython",
    "version": 3
   },
   "file_extension": ".py",
   "mimetype": "text/x-python",
   "name": "python",
   "nbconvert_exporter": "python",
   "pygments_lexer": "ipython3",
   "version": "3.8.8"
  }
 },
 "nbformat": 4,
 "nbformat_minor": 5
}
