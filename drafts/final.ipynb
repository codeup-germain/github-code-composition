{
 "cells": [
  {
   "cell_type": "code",
   "execution_count": 5,
   "id": "180acee4",
   "metadata": {},
   "outputs": [],
   "source": [
    "# Standard Data Science Utility Belt\n",
    "import pandas as pd\n",
    "import numpy as np\n",
    "import seaborn as sns\n",
    "import matplotlib.pyplot as plt\n",
    "\n",
    "# User defined methods\n",
    "from acquire import acquire\n",
    "from prepare import prepare\n",
    "\n",
    "# Modeling Stuff\n",
    "\n",
    "import unicodedata\n",
    "import re\n",
    "import json\n",
    "\n",
    "import nltk\n",
    "from nltk.tokenize.toktok import ToktokTokenizer\n",
    "from nltk.corpus import stopwords\n",
    "from nltk import sent_tokenize\n",
    "import sklearn.preprocessing\n",
    "import re\n",
    "from scipy import stats\n",
    "from sklearn.feature_extraction.text import CountVectorizer\n",
    "from sklearn.feature_extraction.text import TfidfVectorizer\n",
    "from sklearn.model_selection import train_test_split\n",
    "from sklearn.tree import DecisionTreeClassifier\n",
    "from sklearn.naive_bayes import MultinomialNB\n",
    "from sklearn.ensemble import RandomForestClassifier\n",
    "from sklearn.naive_bayes import MultinomialNB\n",
    "from sklearn.svm import LinearSVC\n",
    "from sklearn.neighbors import KNeighborsClassifier\n",
    "from sklearn.metrics import classification_report, confusion_matrix, recall_score, plot_confusion_matrix\n",
    "from sklearn.linear_model import LogisticRegression\n",
    "from sklearn import svm\n",
    "from sklearn.linear_model import LinearRegression\n",
    "from sklearn.feature_selection import RFE\n",
    "from model import  vectorizer_split, tfidf_split, test_a_model, make_models_and_print_metrics_test_data, print_metrics\n",
    "# Viewing Options\n",
    "pd.set_option(\"display.max_rows\", None, \"display.max_columns\", None) \n",
    "pd.reset_option(\"display.max_rows\", \"display.max_columns\")\n",
    "\n",
    "# Ignore Warnings\n",
    "import warnings\n",
    "warnings.filterwarnings(\"ignore\")"
   ]
  },
  {
   "cell_type": "markdown",
   "id": "53bd0737",
   "metadata": {},
   "source": [
    "# Project Planning"
   ]
  },
  {
   "cell_type": "markdown",
   "id": "0e80556d",
   "metadata": {},
   "source": [
    "### Project and Goals\n",
    "\n",
    "    To construct a classification model that would accurately predict the programming language that was used in a GitHub repository by scraping their respective readme.md files."
   ]
  },
  {
   "cell_type": "markdown",
   "id": "907257a8",
   "metadata": {},
   "source": [
    "### Original Hypothesis\n",
    "\n",
    "    The best predictor for language would be the frequency of referencing that language in the README.md"
   ]
  },
  {
   "cell_type": "markdown",
   "id": "bebe6587",
   "metadata": {},
   "source": [
    "### Domain Knowledge Quick Tip\n",
    "    You can add a README file to a repository to communicate important information about your project. A README, along with a repository license, citation file, contribution guidelines, and a code of conduct, communicates expectations for your project and helps you manage contributions\n",
    "    \n",
    "    A README is often the first item a visitor will see when visiting your repository. README files typically include information on: What the project does, why the project is useful, how users can get started with the project, where users can get help with your project, and who maintains and contributes to the project"
   ]
  },
  {
   "cell_type": "markdown",
   "id": "adc6dc65",
   "metadata": {},
   "source": [
    "### The Plan\n",
    "    \n",
    "    Create a github community for our team.\n",
    "    \n",
    "    Setup a Repository for our project\n",
    "    \n",
    "    Split up responsibilities among Josh C., Brooke, Curtis, and Brandon\n",
    "    \n",
    "    Acquire a list of repositories names by web scrapping github\n",
    "    \n",
    "    Use the github API to pull the data using the prebuilt acquire.py script\n",
    "    \n",
    "    Clean the data\n",
    "    \n",
    "        - Lowercase\n",
    "        - Character encoding\n",
    "        - Drop anything that isn't an ASCII\n",
    "        - Remove anything that is not a through z, a number, a single quote, or whitespace\n",
    "        - Tokenize\n",
    "        - Document\n",
    "    \n",
    "    Explore the data\n",
    "    \n",
    "        - Find trends\n",
    "        - Make graphs\n",
    "        - Ask questions\n",
    "        - Answer those questions\n",
    "        - Document findings\n",
    "        \n",
    "    Model the data\n",
    "    \n",
    "        - Using aclassification methodologies\n",
    "        - Create at least three models\n",
    "        - Document findings\n",
    "        \n",
    "    Evaluate the data\n",
    "    \n",
    "        - Analize the results of our model. Look for drop offs in train/validate\n",
    "        \n",
    "    Run the best model\n",
    "    \n",
    "        - Run our best validate model on data our model has not seen\n",
    "        - Document results\n",
    "        \n",
    "    Work Deliverables\n",
    "    \n",
    "        - Final Notebook\n",
    "        - Slide Deck\n",
    "        - Video\n",
    "    "
   ]
  },
  {
   "cell_type": "markdown",
   "id": "81f4d0bd",
   "metadata": {},
   "source": [
    "# Executive Summary - Conclusions & Next Steps"
   ]
  },
  {
   "cell_type": "markdown",
   "id": "45b25dde",
   "metadata": {},
   "source": [
    "### Conclusion\n",
    "    Our model could accuratley predict the language of the repos by 62% which had beat double the baseline model of 31%. Further cleaning of common words or stop words may improve the accuracy of the model. C# gave our models the hardest time with misclassifications of every other langauge falling under the C# moniker. "
   ]
  },
  {
   "cell_type": "markdown",
   "id": "744b2c15",
   "metadata": {},
   "source": [
    "### Recommendation\n",
    "\n",
    "    We Recommend adding more GitHub repositories README.md files to the dataset to help prevent overfitting and to possibly increase the model accuracy"
   ]
  },
  {
   "cell_type": "markdown",
   "id": "8f0c7e29",
   "metadata": {},
   "source": [
    "### Key Takeaways\n",
    "\n",
    "    123 entries in total\n",
    "\n",
    "    List of repos we gathered were mostly coded HTML, C#, Python, and JavaScript\n",
    "\n",
    "    C# gave or models the biggest problem causing the most misclassifications because was shared common words, could try filtering those common words to improve accuracy"
   ]
  },
  {
   "cell_type": "markdown",
   "id": "a6406d56",
   "metadata": {},
   "source": [
    "# Data Acquisition"
   ]
  },
  {
   "cell_type": "code",
   "execution_count": 3,
   "id": "8716187d",
   "metadata": {},
   "outputs": [],
   "source": [
    "df = acquire()"
   ]
  },
  {
   "cell_type": "markdown",
   "id": "fd4311a7",
   "metadata": {},
   "source": [
    "### .info(), .head(), .describe()"
   ]
  },
  {
   "cell_type": "code",
   "execution_count": 4,
   "id": "1b08bbee",
   "metadata": {},
   "outputs": [
    {
     "name": "stdout",
     "output_type": "stream",
     "text": [
      "<class 'pandas.core.frame.DataFrame'>\n",
      "RangeIndex: 121 entries, 0 to 120\n",
      "Data columns (total 3 columns):\n",
      " #   Column           Non-Null Count  Dtype \n",
      "---  ------           --------------  ----- \n",
      " 0   repo             121 non-null    object\n",
      " 1   language         119 non-null    object\n",
      " 2   readme_contents  121 non-null    object\n",
      "dtypes: object(3)\n",
      "memory usage: 3.0+ KB\n"
     ]
    }
   ],
   "source": [
    "df.info()"
   ]
  },
  {
   "cell_type": "code",
   "execution_count": 5,
   "id": "c22b4170",
   "metadata": {},
   "outputs": [
    {
     "data": {
      "text/html": [
       "<div>\n",
       "<style scoped>\n",
       "    .dataframe tbody tr th:only-of-type {\n",
       "        vertical-align: middle;\n",
       "    }\n",
       "\n",
       "    .dataframe tbody tr th {\n",
       "        vertical-align: top;\n",
       "    }\n",
       "\n",
       "    .dataframe thead th {\n",
       "        text-align: right;\n",
       "    }\n",
       "</style>\n",
       "<table border=\"1\" class=\"dataframe\">\n",
       "  <thead>\n",
       "    <tr style=\"text-align: right;\">\n",
       "      <th></th>\n",
       "      <th>repo</th>\n",
       "      <th>language</th>\n",
       "      <th>readme_contents</th>\n",
       "    </tr>\n",
       "  </thead>\n",
       "  <tbody>\n",
       "    <tr>\n",
       "      <th>0</th>\n",
       "      <td>iterativv/NostalgiaForInfinity</td>\n",
       "      <td>Python</td>\n",
       "      <td># NostalgiaForInfinity\\nTrading strategy for t...</td>\n",
       "    </tr>\n",
       "    <tr>\n",
       "      <th>1</th>\n",
       "      <td>cl2333/Grokking-the-Coding-Interview-Patterns-...</td>\n",
       "      <td>Python</td>\n",
       "      <td># [Grokking-the-Coding-Interview-Patterns-for-...</td>\n",
       "    </tr>\n",
       "    <tr>\n",
       "      <th>2</th>\n",
       "      <td>edeng23/binance-trade-bot</td>\n",
       "      <td>Python</td>\n",
       "      <td># binance-trade-bot\\n\\n![github](https://img.s...</td>\n",
       "    </tr>\n",
       "    <tr>\n",
       "      <th>3</th>\n",
       "      <td>donnemartin/system-design-primer</td>\n",
       "      <td>Python</td>\n",
       "      <td>*[English](README.md) ∙ [日本語](README-ja.md) ∙ ...</td>\n",
       "    </tr>\n",
       "    <tr>\n",
       "      <th>4</th>\n",
       "      <td>dortania/OpenCore-Legacy-Patcher</td>\n",
       "      <td>Python</td>\n",
       "      <td>&lt;div align=\"center\"&gt;\\n             &lt;img src=\"i...</td>\n",
       "    </tr>\n",
       "  </tbody>\n",
       "</table>\n",
       "</div>"
      ],
      "text/plain": [
       "                                                repo language  \\\n",
       "0                     iterativv/NostalgiaForInfinity   Python   \n",
       "1  cl2333/Grokking-the-Coding-Interview-Patterns-...   Python   \n",
       "2                          edeng23/binance-trade-bot   Python   \n",
       "3                   donnemartin/system-design-primer   Python   \n",
       "4                   dortania/OpenCore-Legacy-Patcher   Python   \n",
       "\n",
       "                                     readme_contents  \n",
       "0  # NostalgiaForInfinity\\nTrading strategy for t...  \n",
       "1  # [Grokking-the-Coding-Interview-Patterns-for-...  \n",
       "2  # binance-trade-bot\\n\\n![github](https://img.s...  \n",
       "3  *[English](README.md) ∙ [日本語](README-ja.md) ∙ ...  \n",
       "4  <div align=\"center\">\\n             <img src=\"i...  "
      ]
     },
     "execution_count": 5,
     "metadata": {},
     "output_type": "execute_result"
    }
   ],
   "source": [
    "df.head()"
   ]
  },
  {
   "cell_type": "code",
   "execution_count": 6,
   "id": "b217f1be",
   "metadata": {},
   "outputs": [
    {
     "data": {
      "text/html": [
       "<div>\n",
       "<style scoped>\n",
       "    .dataframe tbody tr th:only-of-type {\n",
       "        vertical-align: middle;\n",
       "    }\n",
       "\n",
       "    .dataframe tbody tr th {\n",
       "        vertical-align: top;\n",
       "    }\n",
       "\n",
       "    .dataframe thead th {\n",
       "        text-align: right;\n",
       "    }\n",
       "</style>\n",
       "<table border=\"1\" class=\"dataframe\">\n",
       "  <thead>\n",
       "    <tr style=\"text-align: right;\">\n",
       "      <th></th>\n",
       "      <th>count</th>\n",
       "      <th>unique</th>\n",
       "      <th>top</th>\n",
       "      <th>freq</th>\n",
       "    </tr>\n",
       "  </thead>\n",
       "  <tbody>\n",
       "    <tr>\n",
       "      <th>repo</th>\n",
       "      <td>121</td>\n",
       "      <td>121</td>\n",
       "      <td>w3c/html</td>\n",
       "      <td>1</td>\n",
       "    </tr>\n",
       "    <tr>\n",
       "      <th>language</th>\n",
       "      <td>119</td>\n",
       "      <td>5</td>\n",
       "      <td>HTML</td>\n",
       "      <td>29</td>\n",
       "    </tr>\n",
       "    <tr>\n",
       "      <th>readme_contents</th>\n",
       "      <td>121</td>\n",
       "      <td>119</td>\n",
       "      <td></td>\n",
       "      <td>3</td>\n",
       "    </tr>\n",
       "  </tbody>\n",
       "</table>\n",
       "</div>"
      ],
      "text/plain": [
       "                count unique       top freq\n",
       "repo              121    121  w3c/html    1\n",
       "language          119      5      HTML   29\n",
       "readme_contents   121    119              3"
      ]
     },
     "execution_count": 6,
     "metadata": {},
     "output_type": "execute_result"
    }
   ],
   "source": [
    "df.describe().T"
   ]
  },
  {
   "cell_type": "markdown",
   "id": "185dfe09",
   "metadata": {},
   "source": [
    "### Distribution - \"language\""
   ]
  },
  {
   "cell_type": "code",
   "execution_count": 7,
   "id": "809104a9",
   "metadata": {},
   "outputs": [
    {
     "data": {
      "image/png": "[encoded data removed]",
      "text/plain": [
       "<Figure size 432x288 with 1 Axes>"
      ]
     },
     "metadata": {},
     "output_type": "display_data"
    }
   ],
   "source": [
    "sns.set(font_scale = 1)\n",
    "df['language'].hist()\n",
    "plt.title('Language Distribution')\n",
    "plt.show()"
   ]
  },
  {
   "cell_type": "markdown",
   "id": "64c43f2a",
   "metadata": {},
   "source": [
    "### Data Dictionary"
   ]
  },
  {
   "cell_type": "code",
   "execution_count": 8,
   "id": "24d39a51",
   "metadata": {},
   "outputs": [],
   "source": [
    "#print(get_data_dictionary(df).to_markdown())"
   ]
  },
  {
   "cell_type": "markdown",
   "id": "57a13a11",
   "metadata": {},
   "source": [
    "## Target Feature - 'language'"
   ]
  },
  {
   "cell_type": "code",
   "execution_count": 9,
   "id": "707c487b",
   "metadata": {},
   "outputs": [
    {
     "data": {
      "text/plain": [
       "HTML          29\n",
       "C#            27\n",
       "Python        25\n",
       "JavaScript    23\n",
       "Java          15\n",
       "NaN            2\n",
       "Name: language, dtype: int64"
      ]
     },
     "execution_count": 9,
     "metadata": {},
     "output_type": "execute_result"
    }
   ],
   "source": [
    "df.language.value_counts(dropna = False)"
   ]
  },
  {
   "cell_type": "markdown",
   "id": "a983fc2f",
   "metadata": {},
   "source": [
    "### Acquire takeaway\n",
    "    - 123 entries in total\n",
    "    - mostly HTML, C#, Python and JavaScript\n",
    "    - only three columns"
   ]
  },
  {
   "cell_type": "markdown",
   "id": "c6821303",
   "metadata": {},
   "source": [
    "# Prepare\n",
    "\n",
    "#### Dropped Columns\n",
    "\n",
    "    No Columns were dropped.\n",
    "\n",
    "#### Handle Nulls\n",
    "\n",
    "    There were only two null observations for our target feature.  They got dropped. \n",
    "\n",
    "#### Convert Data Types\n",
    "\n",
    "    No features needed converting of data type. \n",
    "\n",
    "#### Rename\n",
    "\n",
    "    No columns were renamed.\n",
    "\n",
    "#### Engineered Features\n",
    "\n",
    "    Three features were engineered: clean, stemmed, and lemmatized. \n",
    "    \n",
    "    'clean'\n",
    "        - All text was converted to lowercase letters from readme_contents\n",
    "        - Removed any inconsistencies in unicode character encoding from readme_contents\n",
    "        - Dropped anything that isn't an ASCII character from readme_contents\n",
    "        - Removed anything that is not a through z, a number, a single quote, or whitespace from readme_contents\n",
    "        - Tokenized the readme_contents.  This means, breaking text down into discrete words, punctuation, etc.\n",
    "        - Removed stop words from readme_contents.  These are usually words that end up having the maximum frequency if you do a simple term or word frequency in a corpus. \n",
    "    \n",
    "    'stemmed'\n",
    "        - We create new words by attaching affixes in a process known as inflection. For example, \"calls\", \"called\", and \"calling\" all share the base stem \"call\". Stemmed from clean.\n",
    "        \n",
    "    'lemmatized'\n",
    "        - Lemmatization is very similar to stemming, however, the base form in this case is known as the root word, but not the root stem. The difference is that the root word is always a lexicographically correct word (present in the dictionary), but the root stem may not be so. Lemmatized from clean.\n",
    "\n",
    "#### Removed Outliers\n",
    "\n",
    "    - Java only had 15 observations so any repo project written in java got dropped.\n",
    "    - Ruby only had 1 observation so any repo project written in ruby got dropped.\n",
    "    - Shell only had 1 observation so any repo with project written in shell got dropped.\n",
    "        \n",
    "#### Scaling\n",
    "\n",
    "    No scaling was preformed.\n",
    "        \n",
    "#### Split\n",
    "\n",
    "    Split data into three data frames:\n",
    "    \n",
    "        - train\n",
    "        - validate\n",
    "        - test\n",
    "        \n",
    "    Used a random_state of 123\n",
    "    Stratified on our target feature, language\n",
    "\n",
    "### Prepare Takeaway\n",
    "\n",
    "    - All features and observations have no null or empty values.\n",
    "    - test_train_split were stratified on my target feature language"
   ]
  },
  {
   "cell_type": "markdown",
   "id": "fb6cb8ea",
   "metadata": {},
   "source": [
    "# Exploration"
   ]
  },
  {
   "cell_type": "code",
   "execution_count": 6,
   "id": "950bb417",
   "metadata": {},
   "outputs": [],
   "source": [
    "train, validate, test = prepare(acquire())"
   ]
  },
  {
   "cell_type": "markdown",
   "id": "5bf876ef",
   "metadata": {},
   "source": [
    "### First, let's explore the initial hypothesis that ReadME's refer to their own language frequently."
   ]
  },
  {
   "cell_type": "markdown",
   "id": "7898a4ea",
   "metadata": {},
   "source": [
    "### Additional hypotheses to explore:\n",
    "\n",
    "    Does the average length of ReadME's differ significantly per language?\n",
    "    \n",
    "    Are there any top bigrams or trigrams per language in train that stand out as meaningful?"
   ]
  },
  {
   "cell_type": "markdown",
   "id": "50be6cbe",
   "metadata": {},
   "source": [
    "****\n",
    "Exploring inital hypothesis of is the language of the ReadME referenced with high frequency?"
   ]
  },
  {
   "cell_type": "code",
   "execution_count": 7,
   "id": "3cb3137a",
   "metadata": {},
   "outputs": [],
   "source": [
    "ADDITIONAL_STOPWORDS = ['9']\n",
    "\n",
    "def clean_up(text):\n",
    "    'A simple function to cleanup text data'\n",
    "    wnl = nltk.stem.WordNetLemmatizer()\n",
    "    stopwords = nltk.corpus.stopwords.words('english') + ADDITIONAL_STOPWORDS\n",
    "    text = (unicodedata.normalize('NFKD', text)\n",
    "             .encode('ascii', 'ignore')\n",
    "             .decode('utf-8', 'ignore')\n",
    "             .lower())\n",
    "    words = re.sub(r'[^\\w\\s]', '', text).split()\n",
    "    return [wnl.lemmatize(word) for word in words if word not in stopwords]"
   ]
  },
  {
   "cell_type": "code",
   "execution_count": 8,
   "id": "cad7f66a",
   "metadata": {},
   "outputs": [],
   "source": [
    "html_words = clean_up(' '.join(train[train.language == 'HTML'].clean))\n",
    "python_words = clean_up(' '.join(train[train.language == 'Python'].clean))\n",
    "C_sharp_words = clean_up(' '.join(train[train.language == 'C#'].clean))\n",
    "JavaScript_words = clean_up(' '.join(train[train.language == 'JavaScript'].clean))"
   ]
  },
  {
   "cell_type": "code",
   "execution_count": 9,
   "id": "a0a7a5e2",
   "metadata": {},
   "outputs": [],
   "source": [
    "all_words = clean_up(' '.join(train.clean))"
   ]
  },
  {
   "cell_type": "code",
   "execution_count": 10,
   "id": "6c707b72",
   "metadata": {},
   "outputs": [],
   "source": [
    "html_freq = pd.Series(html_words).value_counts()\n",
    "python_freq = pd.Series(python_words).value_counts()\n",
    "C_sharp_freq = pd.Series(C_sharp_words).value_counts()\n",
    "JavaScript_freq = pd.Series(JavaScript_words).value_counts()"
   ]
  },
  {
   "cell_type": "code",
   "execution_count": 13,
   "id": "185fea16",
   "metadata": {},
   "outputs": [],
   "source": [
    "all_freq = pd.Series(all_words).value_counts()"
   ]
  },
  {
   "cell_type": "code",
   "execution_count": 14,
   "id": "c36445a9",
   "metadata": {},
   "outputs": [
    {
     "name": "stdout",
     "output_type": "stream",
     "text": [
      "Top Ten Words for HMTL ReadMEs\n",
      "file              64\n",
      "15001700          62\n",
      "use               58\n",
      "html              58\n",
      "dom               50\n",
      "targetblankimg    40\n",
      "20002200          38\n",
      "html5             36\n",
      "php               30\n",
      "option            29\n",
      "dtype: int64\n",
      "--------------\n",
      "Top Ten Words for Python ReadMEs\n",
      "yes        1615\n",
      "unknown     906\n",
      "apikey      560\n",
      "video       487\n",
      "python      399\n",
      "data        387\n",
      "api         333\n",
      "file        304\n",
      "format      290\n",
      "library     218\n",
      "dtype: int64\n",
      "--------------\n",
      "Top Ten Words for C# ReadMEs\n",
      "string         143\n",
      "var            141\n",
      "use            139\n",
      "csharp         133\n",
      "c              130\n",
      "redis          129\n",
      "new            122\n",
      "public         115\n",
      "type           106\n",
      "messagepack    103\n",
      "dtype: int64\n",
      "--------------\n",
      "Top Ten Words for JavaScript ReadMEs\n",
      "const         263\n",
      "javascript    246\n",
      "function      223\n",
      "bad           201\n",
      "good          184\n",
      "1             178\n",
      "return        126\n",
      "foo           116\n",
      "use           104\n",
      "eslint         93\n",
      "dtype: int64\n",
      "--------------\n",
      "Top Ten Words for ALL ReadMEs\n",
      "yes        1616\n",
      "unknown     907\n",
      "apikey      562\n",
      "use         515\n",
      "video       492\n",
      "data        482\n",
      "file        435\n",
      "python      404\n",
      "api         398\n",
      "string      340\n",
      "dtype: int64\n"
     ]
    }
   ],
   "source": [
    "print('Top Ten Words for HMTL ReadMEs')\n",
    "print(html_freq.head(10))\n",
    "print (\"--------------\")\n",
    "print('Top Ten Words for Python ReadMEs')\n",
    "print(python_freq.head(10))\n",
    "print (\"--------------\")\n",
    "print('Top Ten Words for C# ReadMEs')\n",
    "print(C_sharp_freq.head(10))\n",
    "print (\"--------------\")\n",
    "print('Top Ten Words for JavaScript ReadMEs')\n",
    "print(JavaScript_freq.head(10))\n",
    "print (\"--------------\")\n",
    "print('Top Ten Words for ALL ReadMEs')\n",
    "print(all_freq.head(10))"
   ]
  },
  {
   "cell_type": "markdown",
   "id": "19764706",
   "metadata": {},
   "source": [
    "## Takeaway from top ten words:\n",
    "\n",
    "    Top ten words seems to confirm the hypothesis that each ReadME does indeed refer to its own language with high frequency.\n",
    "    \n",
    "    Additionally, domain specific words for thier own language do tend to show up more frequently for each ReadME."
   ]
  },
  {
   "cell_type": "markdown",
   "id": "3566d8b2",
   "metadata": {},
   "source": [
    "### Now exploring the average character length by language:"
   ]
  },
  {
   "cell_type": "code",
   "execution_count": 15,
   "id": "917bec4a",
   "metadata": {},
   "outputs": [],
   "source": [
    "train['length'] = [len(i) for i in train.clean]"
   ]
  },
  {
   "cell_type": "code",
   "execution_count": 16,
   "id": "81490c3f",
   "metadata": {},
   "outputs": [
    {
     "name": "stdout",
     "output_type": "stream",
     "text": [
      "The mean character length for HTML ReadME\n",
      "length    3247.071429\n",
      "dtype: float64\n",
      "----------------------------\n",
      "The mean character length for Python ReadME\n",
      "length    27273.4\n",
      "dtype: float64\n",
      "----------------------------\n",
      "The mean character length for C# ReadME\n",
      "length    9206.0\n",
      "dtype: float64\n",
      "----------------------------\n",
      "The mean character length for JavaScript ReadME\n",
      "length    11612.9\n",
      "dtype: float64\n",
      "----------------------------\n"
     ]
    }
   ],
   "source": [
    "print('The mean character length for HTML ReadME')\n",
    "print(train[train.language == 'HTML'].mean())\n",
    "print('----------------------------')\n",
    "print('The mean character length for Python ReadME')\n",
    "print(train[train.language == 'Python'].mean())\n",
    "print('----------------------------')\n",
    "print('The mean character length for C# ReadME')\n",
    "print(train[train.language == 'C#'].mean())\n",
    "print('----------------------------')\n",
    "print('The mean character length for JavaScript ReadME')\n",
    "print(train[train.language == 'JavaScript'].mean())\n",
    "print('----------------------------')"
   ]
  },
  {
   "cell_type": "code",
   "execution_count": 17,
   "id": "b197acdc",
   "metadata": {},
   "outputs": [
    {
     "data": {
      "text/html": [
       "<div>\n",
       "<style scoped>\n",
       "    .dataframe tbody tr th:only-of-type {\n",
       "        vertical-align: middle;\n",
       "    }\n",
       "\n",
       "    .dataframe tbody tr th {\n",
       "        vertical-align: top;\n",
       "    }\n",
       "\n",
       "    .dataframe thead th {\n",
       "        text-align: right;\n",
       "    }\n",
       "</style>\n",
       "<table border=\"1\" class=\"dataframe\">\n",
       "  <thead>\n",
       "    <tr style=\"text-align: right;\">\n",
       "      <th></th>\n",
       "      <th>length</th>\n",
       "    </tr>\n",
       "    <tr>\n",
       "      <th>language</th>\n",
       "      <th></th>\n",
       "    </tr>\n",
       "  </thead>\n",
       "  <tbody>\n",
       "    <tr>\n",
       "      <th>C#</th>\n",
       "      <td>9206.000000</td>\n",
       "    </tr>\n",
       "    <tr>\n",
       "      <th>HTML</th>\n",
       "      <td>3247.071429</td>\n",
       "    </tr>\n",
       "    <tr>\n",
       "      <th>JavaScript</th>\n",
       "      <td>11612.900000</td>\n",
       "    </tr>\n",
       "    <tr>\n",
       "      <th>Python</th>\n",
       "      <td>27273.400000</td>\n",
       "    </tr>\n",
       "    <tr>\n",
       "      <th>Ruby</th>\n",
       "      <td>3209.000000</td>\n",
       "    </tr>\n",
       "    <tr>\n",
       "      <th>Shell</th>\n",
       "      <td>1111.000000</td>\n",
       "    </tr>\n",
       "  </tbody>\n",
       "</table>\n",
       "</div>"
      ],
      "text/plain": [
       "                  length\n",
       "language                \n",
       "C#           9206.000000\n",
       "HTML         3247.071429\n",
       "JavaScript  11612.900000\n",
       "Python      27273.400000\n",
       "Ruby         3209.000000\n",
       "Shell        1111.000000"
      ]
     },
     "execution_count": 17,
     "metadata": {},
     "output_type": "execute_result"
    }
   ],
   "source": [
    "train.groupby(by = 'language').mean()"
   ]
  },
  {
   "cell_type": "markdown",
   "id": "b463374a",
   "metadata": {},
   "source": [
    "### Takeaway looking at character length of ReadMEs:\n",
    "\n",
    "    JavaScript ReadMEs appear to be the longest\n",
    "    \n",
    "    Python and C# are fairly similar in length\n",
    "    \n",
    "    HTML ReadMEs appear to be the shortest"
   ]
  },
  {
   "cell_type": "markdown",
   "id": "c3bac6ab",
   "metadata": {},
   "source": [
    "### Moving forward in Explore, let's see if there are bigrams or trigrams that stand out as meaningful:"
   ]
  },
  {
   "cell_type": "code",
   "execution_count": 18,
   "id": "a72ae7ea",
   "metadata": {},
   "outputs": [],
   "source": [
    "html_top_words = ' '.join(train[train['language'] == 'HTML'].clean)\n",
    "python_top_words = ' '.join(train[train['language'] == 'Python'].clean)\n",
    "c_sharp_top_words = ' '.join(train[train['language'] == 'C#'].clean)\n",
    "JavaScript_top_words = ' '.join(train[train['language'] == 'JavaScript'].clean)"
   ]
  },
  {
   "cell_type": "code",
   "execution_count": 19,
   "id": "3e923eef",
   "metadata": {},
   "outputs": [],
   "source": [
    "lang_clean_words = {'python':python_top_words,\n",
    "              'c_sharp':c_sharp_top_words,\n",
    "              'HTML':html_top_words,\n",
    "              'JavaScript':JavaScript_top_words}"
   ]
  },
  {
   "cell_type": "code",
   "execution_count": 20,
   "id": "55106bfa",
   "metadata": {
    "scrolled": false
   },
   "outputs": [
    {
     "data": {
      "image/png": "[encoded data removed]",
      "text/plain": [
       "<Figure size 1152x648 with 1 Axes>"
      ]
     },
     "metadata": {
      "needs_background": "light"
     },
     "output_type": "display_data"
    },
    {
     "data": {
      "image/png": "[encoded data removed]",
      "text/plain": [
       "<Figure size 1152x648 with 1 Axes>"
      ]
     },
     "metadata": {
      "needs_background": "light"
     },
     "output_type": "display_data"
    },
    {
     "data": {
      "image/png": "[encoded data removed]",
      "text/plain": [
       "<Figure size 1152x648 with 1 Axes>"
      ]
     },
     "metadata": {
      "needs_background": "light"
     },
     "output_type": "display_data"
    },
    {
     "data": {
      "image/png": "[encoded data removed]",
      "text/plain": [
       "<Figure size 1152x648 with 1 Axes>"
      ]
     },
     "metadata": {
      "needs_background": "light"
     },
     "output_type": "display_data"
    }
   ],
   "source": [
    "for key, value in lang_clean_words.items():\n",
    "    plt.figure(figsize=(16, 9))\n",
    "    pd.Series(nltk.bigrams(value.split())).value_counts(ascending = True).tail(10).plot.barh(color = 'lightsteelblue')\n",
    "    plt.title(f'Top 10 used Bigrams in {key} ReadME.md')\n",
    "    plt.show()"
   ]
  },
  {
   "cell_type": "code",
   "execution_count": 21,
   "id": "0b24a71f",
   "metadata": {
    "scrolled": false
   },
   "outputs": [
    {
     "data": {
      "image/png": "[encoded data removed]",
      "text/plain": [
       "<Figure size 1152x648 with 1 Axes>"
      ]
     },
     "metadata": {
      "needs_background": "light"
     },
     "output_type": "display_data"
    },
    {
     "data": {
      "image/png": "[encoded data removed]",
      "text/plain": [
       "<Figure size 1152x648 with 1 Axes>"
      ]
     },
     "metadata": {
      "needs_background": "light"
     },
     "output_type": "display_data"
    },
    {
     "data": {
      "image/png": "[encoded data removed]",
      "text/plain": [
       "<Figure size 1152x648 with 1 Axes>"
      ]
     },
     "metadata": {
      "needs_background": "light"
     },
     "output_type": "display_data"
    },
    {
     "data": {
      "image/png": "[encoded data removed]",
      "text/plain": [
       "<Figure size 1152x648 with 1 Axes>"
      ]
     },
     "metadata": {
      "needs_background": "light"
     },
     "output_type": "display_data"
    }
   ],
   "source": [
    "for key, value in lang_clean_words.items():\n",
    "    plt.figure(figsize=(16, 9))\n",
    "    pd.Series(nltk.trigrams(value.split())).value_counts(ascending = True).tail(10).plot.barh(color = 'cadetblue')\n",
    "    plt.title(f'Top 10 used Trigrams in {key} ReadME.md')\n",
    "    plt.show()"
   ]
  },
  {
   "cell_type": "markdown",
   "id": "6f3f484a",
   "metadata": {},
   "source": [
    "### Key takeaways from Exploring Bigrams and Trigrams:\n",
    " - Bigrams could prove most useful as top identifiable characteristics, Although trigrams for C# and JavaScript have some overlap so trigrams may not be as useful."
   ]
  },
  {
   "cell_type": "markdown",
   "id": "6533d57e",
   "metadata": {},
   "source": [
    "# Modeling"
   ]
  },
  {
   "cell_type": "code",
   "execution_count": 11,
   "id": "5b237d5e",
   "metadata": {},
   "outputs": [],
   "source": [
    "train, validate, test = prepare(acquire())"
   ]
  },
  {
   "cell_type": "code",
   "execution_count": 18,
   "id": "ab2cf246",
   "metadata": {},
   "outputs": [
    {
     "name": "stdout",
     "output_type": "stream",
     "text": [
      "Baseline Accuracy:C# 31%\n"
     ]
    }
   ],
   "source": [
    "#Create a baseline model\n",
    "print(f'Baseline Accuracy:{train.language.value_counts().idxmax()} {round(max(train.language.value_counts()) / train.shape[0] *100)}%' )"
   ]
  },
  {
   "cell_type": "markdown",
   "id": "0d55761b",
   "metadata": {},
   "source": [
    "The cell above shows C# is the most commonly occuring langauge at 31% this will serve as our baseline"
   ]
  },
  {
   "cell_type": "code",
   "execution_count": 20,
   "id": "8cf94112",
   "metadata": {},
   "outputs": [],
   "source": [
    "# Creating a Dataframe to hold all of our scores\n",
    "score_df = pd.DataFrame(columns = ['model_name', 'train_score', 'validate_score'])"
   ]
  },
  {
   "cell_type": "code",
   "execution_count": 21,
   "id": "65430659",
   "metadata": {},
   "outputs": [],
   "source": [
    "# Creating our y train, validate and test\n",
    "y_train = train.language\n",
    "y_validate = validate.language\n",
    "y_test = test.language\n",
    "# Creating our x train validate and test using a function that \n",
    "# performs count vectorization on stemmed data\n",
    "X_train,X_validate,X_test = vectorizer_split('stemmed')"
   ]
  },
  {
   "cell_type": "code",
   "execution_count": 22,
   "id": "a6ce9957",
   "metadata": {},
   "outputs": [],
   "source": [
    "def run_models():\n",
    "    ''' This function loops through decision tree 20 times,\n",
    "    with varying depths, random forerest 20 times with varying depths,\n",
    "    knn 20 times with varying neighbors, it then stores those models to individual list \n",
    "    so they can be called upon later'''\n",
    "    #Decision Tree\n",
    "    ## Create a for loop that creates 20 decision tree models with increasingly larger depths.\n",
    "    metrics = []\n",
    "    tree_models = []\n",
    "    for i in range(2, 22):\n",
    "        # Make the model\n",
    "        tree = DecisionTreeClassifier(max_depth=i, random_state=123)\n",
    "\n",
    "        # Fit the model (on train and only train)\n",
    "        tree = tree.fit(X_train, y_train)\n",
    "        y_predictions = tree.predict(X_train)\n",
    "        y_pred = tree.predict(X_validate)\n",
    "        # Use the model\n",
    "        in_sample_accuracy = round(tree.score(X_train, y_train),3)\n",
    "    \n",
    "        out_of_sample_accuracy = round(tree.score(X_validate, y_validate),3)\n",
    "        \n",
    "        in_sample_recall = round(sklearn.metrics.recall_score(y_train, y_predictions, pos_label=0, average='micro'),3)\n",
    "        \n",
    "        out_of_sample_recall = round(sklearn.metrics.recall_score(y_validate, y_pred, pos_label =0, average='micro'),3)\n",
    "        output = {\n",
    "            \"max_depth\": i,\n",
    "            \"train_accuracy\": in_sample_accuracy,\n",
    "            \"validate_accuracy\": out_of_sample_accuracy,\n",
    "            \"train_recall\": in_sample_recall,\n",
    "            \"validate_recall\": out_of_sample_recall\n",
    "        }\n",
    "        \n",
    "        # This creates the df below \n",
    "        metrics.append(output)\n",
    "        # tree_models will store all of my tree models incase i want them later\n",
    "        tree_models.append(tree)\n",
    "        \n",
    "    tree_df = pd.DataFrame(metrics)\n",
    "    tree_df[\"accuracy_difference\"] = tree_df.train_accuracy - tree_df.validate_accuracy    \n",
    "    \n",
    "    # Random Forest\n",
    "    ## Create a for loop that creates 20 Random Forrest models with increasingly larger depths.\n",
    "    metrics2 = []\n",
    "    forest_models = []\n",
    "    for i in range(2, 22):\n",
    "        # Make the model\n",
    "        forest = RandomForestClassifier(max_depth=i, random_state=123)\n",
    "    \n",
    "        # Fit the model (on train and only train)\n",
    "        forest = forest.fit(X_train, y_train)\n",
    "        \n",
    "        y_predictions = forest.predict(X_train)\n",
    "        y_pred = forest.predict(X_validate)\n",
    "        \n",
    "        # Use the model\n",
    "        in_sample_accuracy = round(forest.score(X_train, y_train),3)\n",
    "        \n",
    "        out_of_sample_accuracy = round(forest.score(X_validate, y_validate),3)\n",
    "        \n",
    "        in_sample_recall = round(sklearn.metrics.recall_score(y_train, y_predictions, pos_label =0, average='micro'),3)\n",
    "        \n",
    "        out_of_sample_recall = round(sklearn.metrics.recall_score(y_validate, y_pred, pos_label =0, average='micro'),3)\n",
    "        \n",
    "        output = {\n",
    "            \"max_depth\": i,\n",
    "            \"train_accuracy\": in_sample_accuracy,\n",
    "            \"validate_accuracy\": out_of_sample_accuracy,\n",
    "            \"train_recall\": in_sample_recall,\n",
    "            \"validate_recall\": out_of_sample_recall\n",
    "        }\n",
    "        \n",
    "        # This creates the df below\n",
    "        metrics2.append(output)\n",
    "        # tree_models will store all of my tree models incase i want them later\n",
    "        forest_models.append(forest)\n",
    "        \n",
    "        \n",
    "        \n",
    "    forest_df = pd.DataFrame(metrics2)\n",
    "    forest_df[\"accuracy_difference\"] = forest_df.train_accuracy - forest_df.validate_accuracy\n",
    "    \n",
    "\n",
    "    knn_metrics = []\n",
    "    knn_models = []\n",
    "    # loop through different values of k\n",
    "    for k in range(1, 21):\n",
    "            \n",
    "        # define the thing\n",
    "        knn = KNeighborsClassifier(n_neighbors=k)\n",
    "        \n",
    "        # fit the thing (remmeber only fit on training data)\n",
    "        knn.fit(X_train, y_train)\n",
    "        \n",
    "        y_predictions = knn.predict(X_train)\n",
    "        y_pred = knn.predict(X_validate)\n",
    "        # use the thing (calculate accuracy)\n",
    "        train_accuracy = round(knn.score(X_train, y_train),3)\n",
    "        validate_accuracy = round(knn.score(X_validate, y_validate),3)\n",
    "        train_recall = round(sklearn.metrics.recall_score(y_train, y_predictions, pos_label =0,average='micro'),3)\n",
    "        validate_recall = round(sklearn.metrics.recall_score(y_validate, y_pred, pos_label =0,average='micro'),3)\n",
    "        output = {\n",
    "            \"k\": k,\n",
    "            \"train_accuracy\": train_accuracy,\n",
    "            \"validate_accuracy\": validate_accuracy,\n",
    "            'train_recall':train_recall,\n",
    "            \"validate_recall\":validate_recall\n",
    "        }\n",
    "        \n",
    "        knn_metrics.append(output)\n",
    "        knn_models.append(knn)\n",
    "        # make a dataframe\n",
    "    \n",
    "    knn_df = pd.DataFrame(knn_metrics)\n",
    "    knn_df[\"accuracy_difference\"] = knn_df.train_accuracy - knn_df.validate_accuracy\n",
    "        \n",
    "    \n",
    "    return tree_models, forest_models,knn_models, tree_df, forest_df, knn_df"
   ]
  },
  {
   "cell_type": "code",
   "execution_count": 23,
   "id": "53ec5125",
   "metadata": {},
   "outputs": [],
   "source": [
    "# Run multiple variations of KNN, Decision Trees, and Random Forest\n",
    "# with differing variationds of neighbors, branches, and trees\n",
    "# saved those models to the coresponding dataframes so the best \n",
    "# performer could be called upon\n",
    "tree_models, forest_models,knn_models, tree_df, forest_df, knn_df = run_models()\n",
    "\n",
    "from sklearn import svm\n",
    "\n",
    "# make a list of algorithms we want to try for our models\n",
    "model_list = [MultinomialNB(), LinearSVC(), tree_models[tree_df.validate_accuracy.idxmax()], forest_models[forest_df.accuracy_difference.idxmin()], knn_models[knn_df.validate_accuracy.idxmax()], LogisticRegression(), svm.SVC(C= 2, decision_function_shape='ovo')]\n",
    "\n",
    "# name the models\n",
    "model_names = ['Naive_Bayes_stemmed_CV', 'SVC_stemmed_CV', 'Decision_tree_stemmed_CV', 'Random_forest_stemmed_CV', 'KNN_stemmed_CV', 'Log_reg_stemmed_CV','SVC_OVO_stemmed_CV']\n",
    "# Run the models\n",
    "for model, name in zip(model_list, model_names):\n",
    "    score_df = test_a_model(X_train, y_train, X_validate, y_validate, model, name, score_df)"
   ]
  },
  {
   "cell_type": "markdown",
   "id": "441ff75c",
   "metadata": {},
   "source": [
    "This process is iterative, it will be peromed the exact same way for each variation of stemmed and lemmatized as well as the differing vectorizations of TFIDF and count vectorization. All results are being saved to the data frame score_df. In a seperate notebook each of the models where closely analyzed."
   ]
  },
  {
   "cell_type": "code",
   "execution_count": 25,
   "id": "b6ad5439",
   "metadata": {},
   "outputs": [],
   "source": [
    "# Creating our x train validate and test using a function that \n",
    "# performs count vectorization on lemmatized data\n",
    "X_train,X_validate,X_test = vectorizer_split('lemmatized')"
   ]
  },
  {
   "cell_type": "code",
   "execution_count": 26,
   "id": "eba6ea43",
   "metadata": {},
   "outputs": [],
   "source": [
    "# Run multiple variations of KNN, Decision Trees, and Random Forest\n",
    "# with differing variationds of neighbors, branches, and trees\n",
    "# saved those models to the coresponding dataframes so the best \n",
    "# performer could be called upon\n",
    "tree_models, forest_models,knn_models, tree_df, forest_df, knn_df = run_models()\n",
    "\n",
    "from sklearn import svm\n",
    "\n",
    "# make a list of algorithms we want to try for our models\n",
    "model_list = [MultinomialNB(), LinearSVC(), tree_models[tree_df.validate_accuracy.idxmax()], forest_models[forest_df.accuracy_difference.idxmin()], knn_models[knn_df.validate_accuracy.idxmax()], LogisticRegression(), svm.SVC(C= 2, decision_function_shape='ovo')]\n",
    "\n",
    "# name the models\n",
    "model_names = ['Naive_Bayes_lemmatized_CV', 'SVC_lemmatized_CV', 'Decision_tree_lemmatized_CV', 'Random_forest_lemmatized_CV', 'KNN_lemmatized_CV', 'Log_reg_lemmatized_CV','SVC_OVO_lemmatized_CV']\n",
    "\n",
    "# Run the models\n",
    "for model, name in zip(model_list, model_names):\n",
    "    score_df = test_a_model(X_train, y_train, X_validate, y_validate, model, name, score_df)"
   ]
  },
  {
   "cell_type": "code",
   "execution_count": 27,
   "id": "6e6f816e",
   "metadata": {},
   "outputs": [],
   "source": [
    "# Creating our x train validate and test using a function that \n",
    "# performs TFIDF vectorization on stemmed data\n",
    "X_train,X_validate,X_test = tfidf_split('stemmed')"
   ]
  },
  {
   "cell_type": "code",
   "execution_count": 28,
   "id": "96b549e0",
   "metadata": {},
   "outputs": [],
   "source": [
    "# Run multiple variations of KNN, Decision Trees, and Random Forest\n",
    "# with differing variationds of neighbors, branches, and trees\n",
    "# saved those models to the coresponding dataframes so the best \n",
    "# performer could be called upon\n",
    "tree_models, forest_models,knn_models, tree_df, forest_df, knn_df = run_models()\n",
    "\n",
    "from sklearn import svm\n",
    "\n",
    "# make a list of algorithms we want to try for our models\n",
    "model_list = [MultinomialNB(), LinearSVC(), DecisionTreeClassifier(), forest_models[forest_df.accuracy_difference.idxmin()], knn_models[knn_df.validate_accuracy.idxmax()], LogisticRegression(), svm.SVC(C= 2, decision_function_shape='ovo')]\n",
    "\n",
    "# name the models\n",
    "model_names = ['Naive_Bayes_stemmed_TFIDF', 'SVC_stemmed_TFIDF', 'Decision_tree_stemmed_TFIDF', 'Random_forest_stemmed_TFIDF', 'KNN_bigrams_stemmed_TFIDF', 'Log_reg_stemmed_TFIDF','SVC_OVO_stemmed_TFIDF']\n",
    "\n",
    "# Run the models\n",
    "for model, name in zip(model_list, model_names):\n",
    "    score_df = test_a_model(X_train, y_train,X_validate, y_validate, model, name, score_df)"
   ]
  },
  {
   "cell_type": "code",
   "execution_count": 29,
   "id": "c2037a01",
   "metadata": {},
   "outputs": [],
   "source": [
    "# Creating our x train validate and test using a function that \n",
    "# performs TFIDF vectorization on lemmatized data\n",
    "X_train,X_validate,X_test = tfidf_split('lemmatized')"
   ]
  },
  {
   "cell_type": "code",
   "execution_count": 30,
   "id": "6a037c9c",
   "metadata": {},
   "outputs": [],
   "source": [
    "# Run multiple variations of KNN, Decision Trees, and Random Forest\n",
    "# with differing variationds of neighbors, branches, and trees\n",
    "# saved those models to the coresponding dataframes so the best \n",
    "# performer could be called upon\n",
    "tree_models, forest_models,knn_models, tree_df, forest_df, knn_df = run_models()\n",
    "\n",
    "from sklearn import svm\n",
    "\n",
    "# make a list of algorithms we want to try for our models\n",
    "model_list = [MultinomialNB(), LinearSVC(), tree_models[tree_df.validate_accuracy.idxmax()], forest_models[forest_df.validate_accuracy.idxmax()], knn_models[knn_df.validate_accuracy.idxmax()], LogisticRegression(), svm.SVC(C= 2, decision_function_shape='ovo')]\n",
    "\n",
    "# name the models\n",
    "model_names = ['Naive_Bayes_lemmatized_TFIDF', 'SVC_lemmatized_TFIDF', 'Decision_tree_lemmatized_TFIDF', 'Random_forest_lemmatized_TFIDF', 'KNN_lemmatized_TFIDF', 'Log_reg_lemmatized_TFIDF','SVC_OVO_lemmatized_TFIDF']\n",
    "\n",
    "# Run the models\n",
    "for model, name in zip(model_list, model_names):\n",
    "    score_df = test_a_model(X_train, y_train, X_validate, y_validate, model, name, score_df)"
   ]
  },
  {
   "cell_type": "code",
   "execution_count": 31,
   "id": "0e73bcd1",
   "metadata": {},
   "outputs": [],
   "source": [
    "# Creating a column to show us the difference between train and validate accuracy \n",
    "score_df[\"accuracy_difference\"] = score_df.train_score - score_df.validate_score"
   ]
  },
  {
   "cell_type": "code",
   "execution_count": 32,
   "id": "cdb2d7b4",
   "metadata": {},
   "outputs": [
    {
     "data": {
      "text/html": [
       "<style  type=\"text/css\" >\n",
       "#T_611fd_row0_col2,#T_611fd_row5_col3{\n",
       "            background-color:  yellow;\n",
       "        }</style><table id=\"T_611fd_\" ><thead>    <tr>        <th class=\"blank level0\" ></th>        <th class=\"col_heading level0 col0\" >model_name</th>        <th class=\"col_heading level0 col1\" >train_score</th>        <th class=\"col_heading level0 col2\" >validate_score</th>        <th class=\"col_heading level0 col3\" >accuracy_difference</th>    </tr></thead><tbody>\n",
       "                <tr>\n",
       "                        <th id=\"T_611fd_level0_row0\" class=\"row_heading level0 row0\" >23</th>\n",
       "                        <td id=\"T_611fd_row0_col0\" class=\"data row0 col0\" >Decision_tree_lemmatized_TFIDF</td>\n",
       "                        <td id=\"T_611fd_row0_col1\" class=\"data row0 col1\" >0.862069</td>\n",
       "                        <td id=\"T_611fd_row0_col2\" class=\"data row0 col2\" >0.720000</td>\n",
       "                        <td id=\"T_611fd_row0_col3\" class=\"data row0 col3\" >0.142069</td>\n",
       "            </tr>\n",
       "            <tr>\n",
       "                        <th id=\"T_611fd_level0_row1\" class=\"row_heading level0 row1\" >5</th>\n",
       "                        <td id=\"T_611fd_row1_col0\" class=\"data row1 col0\" >Log_reg_stemmed_CV</td>\n",
       "                        <td id=\"T_611fd_row1_col1\" class=\"data row1 col1\" >1.000000</td>\n",
       "                        <td id=\"T_611fd_row1_col2\" class=\"data row1 col2\" >0.640000</td>\n",
       "                        <td id=\"T_611fd_row1_col3\" class=\"data row1 col3\" >0.360000</td>\n",
       "            </tr>\n",
       "            <tr>\n",
       "                        <th id=\"T_611fd_level0_row2\" class=\"row_heading level0 row2\" >15</th>\n",
       "                        <td id=\"T_611fd_row2_col0\" class=\"data row2 col0\" >SVC_stemmed_TFIDF</td>\n",
       "                        <td id=\"T_611fd_row2_col1\" class=\"data row2 col1\" >1.000000</td>\n",
       "                        <td id=\"T_611fd_row2_col2\" class=\"data row2 col2\" >0.600000</td>\n",
       "                        <td id=\"T_611fd_row2_col3\" class=\"data row2 col3\" >0.400000</td>\n",
       "            </tr>\n",
       "            <tr>\n",
       "                        <th id=\"T_611fd_level0_row3\" class=\"row_heading level0 row3\" >2</th>\n",
       "                        <td id=\"T_611fd_row3_col0\" class=\"data row3 col0\" >Decision_tree_stemmed_CV</td>\n",
       "                        <td id=\"T_611fd_row3_col1\" class=\"data row3 col1\" >0.913793</td>\n",
       "                        <td id=\"T_611fd_row3_col2\" class=\"data row3 col2\" >0.600000</td>\n",
       "                        <td id=\"T_611fd_row3_col3\" class=\"data row3 col3\" >0.313793</td>\n",
       "            </tr>\n",
       "            <tr>\n",
       "                        <th id=\"T_611fd_level0_row4\" class=\"row_heading level0 row4\" >24</th>\n",
       "                        <td id=\"T_611fd_row4_col0\" class=\"data row4 col0\" >Random_forest_lemmatized_TFIDF</td>\n",
       "                        <td id=\"T_611fd_row4_col1\" class=\"data row4 col1\" >0.913793</td>\n",
       "                        <td id=\"T_611fd_row4_col2\" class=\"data row4 col2\" >0.600000</td>\n",
       "                        <td id=\"T_611fd_row4_col3\" class=\"data row4 col3\" >0.313793</td>\n",
       "            </tr>\n",
       "            <tr>\n",
       "                        <th id=\"T_611fd_level0_row5\" class=\"row_heading level0 row5\" >4</th>\n",
       "                        <td id=\"T_611fd_row5_col0\" class=\"data row5 col0\" >KNN_stemmed_CV</td>\n",
       "                        <td id=\"T_611fd_row5_col1\" class=\"data row5 col1\" >0.465517</td>\n",
       "                        <td id=\"T_611fd_row5_col2\" class=\"data row5 col2\" >0.600000</td>\n",
       "                        <td id=\"T_611fd_row5_col3\" class=\"data row5 col3\" >-0.134483</td>\n",
       "            </tr>\n",
       "            <tr>\n",
       "                        <th id=\"T_611fd_level0_row6\" class=\"row_heading level0 row6\" >6</th>\n",
       "                        <td id=\"T_611fd_row6_col0\" class=\"data row6 col0\" >SVC_OVO_stemmed_CV</td>\n",
       "                        <td id=\"T_611fd_row6_col1\" class=\"data row6 col1\" >0.913793</td>\n",
       "                        <td id=\"T_611fd_row6_col2\" class=\"data row6 col2\" >0.600000</td>\n",
       "                        <td id=\"T_611fd_row6_col3\" class=\"data row6 col3\" >0.313793</td>\n",
       "            </tr>\n",
       "            <tr>\n",
       "                        <th id=\"T_611fd_level0_row7\" class=\"row_heading level0 row7\" >9</th>\n",
       "                        <td id=\"T_611fd_row7_col0\" class=\"data row7 col0\" >Decision_tree_lemmatized_CV</td>\n",
       "                        <td id=\"T_611fd_row7_col1\" class=\"data row7 col1\" >0.982759</td>\n",
       "                        <td id=\"T_611fd_row7_col2\" class=\"data row7 col2\" >0.600000</td>\n",
       "                        <td id=\"T_611fd_row7_col3\" class=\"data row7 col3\" >0.382759</td>\n",
       "            </tr>\n",
       "            <tr>\n",
       "                        <th id=\"T_611fd_level0_row8\" class=\"row_heading level0 row8\" >11</th>\n",
       "                        <td id=\"T_611fd_row8_col0\" class=\"data row8 col0\" >KNN_lemmatized_CV</td>\n",
       "                        <td id=\"T_611fd_row8_col1\" class=\"data row8 col1\" >0.517241</td>\n",
       "                        <td id=\"T_611fd_row8_col2\" class=\"data row8 col2\" >0.600000</td>\n",
       "                        <td id=\"T_611fd_row8_col3\" class=\"data row8 col3\" >-0.082759</td>\n",
       "            </tr>\n",
       "            <tr>\n",
       "                        <th id=\"T_611fd_level0_row9\" class=\"row_heading level0 row9\" >18</th>\n",
       "                        <td id=\"T_611fd_row9_col0\" class=\"data row9 col0\" >KNN_bigrams_stemmed_TFIDF</td>\n",
       "                        <td id=\"T_611fd_row9_col1\" class=\"data row9 col1\" >0.724138</td>\n",
       "                        <td id=\"T_611fd_row9_col2\" class=\"data row9 col2\" >0.560000</td>\n",
       "                        <td id=\"T_611fd_row9_col3\" class=\"data row9 col3\" >0.164138</td>\n",
       "            </tr>\n",
       "    </tbody></table>"
      ],
      "text/plain": [
       "<pandas.io.formats.style.Styler at 0x7fbe7d8e8400>"
      ]
     },
     "execution_count": 32,
     "metadata": {},
     "output_type": "execute_result"
    }
   ],
   "source": [
    "# Sort the df_scores by the top 10 performing models highlights \n",
    "# the best validation score and the lowest difference between \n",
    "# the two.\n",
    "score_df.sort_values(by='validate_score', ascending=False).head(10).style.highlight_max('validate_score').highlight_min('accuracy_difference')"
   ]
  },
  {
   "cell_type": "markdown",
   "id": "33f23e26",
   "metadata": {},
   "source": [
    "# Key Takeaways\n",
    "\n",
    "    Best performing model was a Decision Tree with a Max depth of 3\n",
    "    \n",
    "    Alot of models where over fitting, I tried to limit this but our data might just have some commonalities between them\n",
    "    \n",
    "    In a seperate notebook I actually used Recursive Feature Engineering to pick the top features and run them for models that suffer from the curse of dimesionality but that **DID NOT** beat this decision tree model. \n",
    "    \n",
    "    Moving foward I feel confident that this is our best performing model"
   ]
  },
  {
   "cell_type": "code",
   "execution_count": 33,
   "id": "8b20e703",
   "metadata": {},
   "outputs": [
    {
     "name": "stdout",
     "output_type": "stream",
     "text": [
      "                   ============== Decisiocion Tree ================           \n",
      "DecisionTreeClassifier(max_depth=3, random_state=123)\n",
      "~~~~~~~~Test Scores~~~~~~~~~\n",
      "              precision    recall  f1-score   support\n",
      "\n",
      "          C#       0.36      1.00      0.53         4\n",
      "        HTML       0.75      0.60      0.67         5\n",
      "  JavaScript       1.00      0.40      0.57         5\n",
      "      Python       1.00      0.57      0.73         7\n",
      "\n",
      "    accuracy                           0.62        21\n",
      "   macro avg       0.78      0.64      0.62        21\n",
      "weighted avg       0.82      0.62      0.64        21\n",
      "\n"
     ]
    },
    {
     "data": {
      "image/png": "[encoded data removed]",
      "text/plain": [
       "<Figure size 432x288 with 2 Axes>"
      ]
     },
     "metadata": {},
     "output_type": "display_data"
    },
    {
     "name": "stdout",
     "output_type": "stream",
     "text": [
      "\n",
      "-------------------------------------------------------------------\n",
      "\n"
     ]
    }
   ],
   "source": [
    "# Running the test on unseen data and creating a confusion matrix\n",
    "class_names = ['C#', 'HTML', 'JavaScript','Python' ]\n",
    "make_models_and_print_metrics_test_data(tree_models[tree_df.validate_accuracy.idxmax()], 'Decisiocion Tree', X_train, y_train, X_test, y_test, class_names)"
   ]
  },
  {
   "cell_type": "markdown",
   "id": "4ce04999",
   "metadata": {},
   "source": [
    "    The best performing model on unseen test data doubled baseline prediction with an accuracy score of 62%. It looks like C# gives our models the largest problem. Most misclasifications where because of C#. In the future we may look at further cleaning of common words to reduce this misclassification"
   ]
  },
  {
   "cell_type": "markdown",
   "id": "2d006187",
   "metadata": {},
   "source": [
    "# Conclusion"
   ]
  },
  {
   "cell_type": "markdown",
   "id": "98c24da8",
   "metadata": {},
   "source": [
    "    Our model could accuratley predict the language of the repos by 62% which had beat double the baseline model of 31%. Further cleaning of common words or stop words may improve the accuracy of the model. C# gave our models the hardest time with misclassifications of every other langauge falling under the C# moniker. "
   ]
  },
  {
   "cell_type": "markdown",
   "id": "75953a73",
   "metadata": {},
   "source": [
    "### Next Steps\n",
    "\n",
    "    With more time, we would like to use more repositories to potentially find more words that can help predict the programming language used"
   ]
  },
  {
   "cell_type": "markdown",
   "id": "86d4ca85",
   "metadata": {},
   "source": [
    "# Thank You"
   ]
  }
 ],
 "metadata": {
  "kernelspec": {
   "display_name": "Python 3",
   "language": "python",
   "name": "python3"
  },
  "language_info": {
   "codemirror_mode": {
    "name": "ipython",
    "version": 3
   },
   "file_extension": ".py",
   "mimetype": "text/x-python",
   "name": "python",
   "nbconvert_exporter": "python",
   "pygments_lexer": "ipython3",
   "version": "3.8.8"
  }
 },
 "nbformat": 4,
 "nbformat_minor": 5
}
