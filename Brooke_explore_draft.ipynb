{
 "cells": [
  {
   "cell_type": "code",
   "execution_count": 1,
   "id": "b44ca195",
   "metadata": {},
   "outputs": [],
   "source": [
    "import pandas as pd\n",
    "import numpy as np\n",
    "import matplotlib.pyplot as plt\n",
    "\n",
    "import unicodedata\n",
    "import re\n",
    "import json\n",
    "\n",
    "import nltk\n",
    "from nltk.tokenize.toktok import ToktokTokenizer\n",
    "from nltk.corpus import stopwords\n",
    "from nltk import sent_tokenize\n",
    "from prepare import prepare"
   ]
  },
  {
   "cell_type": "code",
   "execution_count": 2,
   "id": "50bab94e",
   "metadata": {},
   "outputs": [],
   "source": [
    "with open('data.json') as json_file:\n",
    "    data = json.load(json_file)"
   ]
  },
  {
   "cell_type": "code",
   "execution_count": 3,
   "id": "ab49decd",
   "metadata": {},
   "outputs": [],
   "source": [
    "df = pd.DataFrame(data)"
   ]
  },
  {
   "cell_type": "markdown",
   "id": "7217978c",
   "metadata": {},
   "source": [
    "# Check out prepare for prepare details"
   ]
  },
  {
   "cell_type": "code",
   "execution_count": 4,
   "id": "b163b7c7",
   "metadata": {},
   "outputs": [],
   "source": [
    "train, validate, test = prepare(df)"
   ]
  },
  {
   "cell_type": "code",
   "execution_count": 5,
   "id": "59a76e53",
   "metadata": {},
   "outputs": [
    {
     "data": {
      "text/plain": [
       "(348, 150, 126)"
      ]
     },
     "execution_count": 5,
     "metadata": {},
     "output_type": "execute_result"
    }
   ],
   "source": [
    "train.size, validate.size, test.size"
   ]
  },
  {
   "cell_type": "code",
   "execution_count": 6,
   "id": "ad8ccf17",
   "metadata": {},
   "outputs": [
    {
     "data": {
      "text/html": [
       "<div>\n",
       "<style scoped>\n",
       "    .dataframe tbody tr th:only-of-type {\n",
       "        vertical-align: middle;\n",
       "    }\n",
       "\n",
       "    .dataframe tbody tr th {\n",
       "        vertical-align: top;\n",
       "    }\n",
       "\n",
       "    .dataframe thead th {\n",
       "        text-align: right;\n",
       "    }\n",
       "</style>\n",
       "<table border=\"1\" class=\"dataframe\">\n",
       "  <thead>\n",
       "    <tr style=\"text-align: right;\">\n",
       "      <th></th>\n",
       "      <th>repo</th>\n",
       "      <th>language</th>\n",
       "      <th>readme_contents</th>\n",
       "      <th>clean</th>\n",
       "      <th>stemmed</th>\n",
       "      <th>lemmatized</th>\n",
       "    </tr>\n",
       "  </thead>\n",
       "  <tbody>\n",
       "    <tr>\n",
       "      <th>74</th>\n",
       "      <td>Ryujinx/Ryujinx</td>\n",
       "      <td>C#</td>\n",
       "      <td>\\n&lt;h1&gt;\\n    &lt;img src=\"https://i.imgur.com/G6Ml...</td>\n",
       "      <td>h1 img srchttpsiimgurcomg6mlecopng ryujinx hre...</td>\n",
       "      <td>h1 img srchttpsiimgurcomg6mlecopng ryujinx hre...</td>\n",
       "      <td>h1 img srchttpsiimgurcomg6mlecopng ryujinx hre...</td>\n",
       "    </tr>\n",
       "    <tr>\n",
       "      <th>71</th>\n",
       "      <td>egametang/ET</td>\n",
       "      <td>C#</td>\n",
       "      <td># [中文](https://github.com/egametang/Egametang/...</td>\n",
       "      <td>httpsgithubcomegametangegametangblobmasterread...</td>\n",
       "      <td>httpsgithubcomegametangegametangblobmasterread...</td>\n",
       "      <td>httpsgithubcomegametangegametangblobmasterread...</td>\n",
       "    </tr>\n",
       "    <tr>\n",
       "      <th>89</th>\n",
       "      <td>bombomby/optick</td>\n",
       "      <td>C#</td>\n",
       "      <td># [Optick: C++ Profiler For Games](https://opt...</td>\n",
       "      <td>optick c profiler gameshttpsoptickdev githubht...</td>\n",
       "      <td>optick c profil gameshttpsoptickdev githubhttp...</td>\n",
       "      <td>optick c profiler gameshttpsoptickdev githubht...</td>\n",
       "    </tr>\n",
       "    <tr>\n",
       "      <th>1</th>\n",
       "      <td>cl2333/Grokking-the-Coding-Interview-Patterns-...</td>\n",
       "      <td>Python</td>\n",
       "      <td># [Grokking-the-Coding-Interview-Patterns-for-...</td>\n",
       "      <td>grokkingthecodinginterviewpatternsforcodingque...</td>\n",
       "      <td>grokkingthecodinginterviewpatternsforcodingque...</td>\n",
       "      <td>grokkingthecodinginterviewpatternsforcodingque...</td>\n",
       "    </tr>\n",
       "    <tr>\n",
       "      <th>100</th>\n",
       "      <td>gustavoguanabara/html-css</td>\n",
       "      <td>HTML</td>\n",
       "      <td>&lt;img src=\"imagens/mascote.png\" align=\"right\" w...</td>\n",
       "      <td>img srcimagensmascotepng alignright width300 c...</td>\n",
       "      <td>img srcimagensmascotepng alignright width300 c...</td>\n",
       "      <td>img srcimagensmascotepng alignright width300 c...</td>\n",
       "    </tr>\n",
       "  </tbody>\n",
       "</table>\n",
       "</div>"
      ],
      "text/plain": [
       "                                                  repo language  \\\n",
       "74                                     Ryujinx/Ryujinx       C#   \n",
       "71                                        egametang/ET       C#   \n",
       "89                                     bombomby/optick       C#   \n",
       "1    cl2333/Grokking-the-Coding-Interview-Patterns-...   Python   \n",
       "100                          gustavoguanabara/html-css     HTML   \n",
       "\n",
       "                                       readme_contents  \\\n",
       "74   \\n<h1>\\n    <img src=\"https://i.imgur.com/G6Ml...   \n",
       "71   # [中文](https://github.com/egametang/Egametang/...   \n",
       "89   # [Optick: C++ Profiler For Games](https://opt...   \n",
       "1    # [Grokking-the-Coding-Interview-Patterns-for-...   \n",
       "100  <img src=\"imagens/mascote.png\" align=\"right\" w...   \n",
       "\n",
       "                                                 clean  \\\n",
       "74   h1 img srchttpsiimgurcomg6mlecopng ryujinx hre...   \n",
       "71   httpsgithubcomegametangegametangblobmasterread...   \n",
       "89   optick c profiler gameshttpsoptickdev githubht...   \n",
       "1    grokkingthecodinginterviewpatternsforcodingque...   \n",
       "100  img srcimagensmascotepng alignright width300 c...   \n",
       "\n",
       "                                               stemmed  \\\n",
       "74   h1 img srchttpsiimgurcomg6mlecopng ryujinx hre...   \n",
       "71   httpsgithubcomegametangegametangblobmasterread...   \n",
       "89   optick c profil gameshttpsoptickdev githubhttp...   \n",
       "1    grokkingthecodinginterviewpatternsforcodingque...   \n",
       "100  img srcimagensmascotepng alignright width300 c...   \n",
       "\n",
       "                                            lemmatized  \n",
       "74   h1 img srchttpsiimgurcomg6mlecopng ryujinx hre...  \n",
       "71   httpsgithubcomegametangegametangblobmasterread...  \n",
       "89   optick c profiler gameshttpsoptickdev githubht...  \n",
       "1    grokkingthecodinginterviewpatternsforcodingque...  \n",
       "100  img srcimagensmascotepng alignright width300 c...  "
      ]
     },
     "execution_count": 6,
     "metadata": {},
     "output_type": "execute_result"
    }
   ],
   "source": [
    "train.head()"
   ]
  },
  {
   "cell_type": "code",
   "execution_count": null,
   "id": "a804345c",
   "metadata": {},
   "outputs": [],
   "source": []
  },
  {
   "cell_type": "markdown",
   "id": "027512fd",
   "metadata": {},
   "source": [
    "# No duplicates"
   ]
  },
  {
   "cell_type": "code",
   "execution_count": 7,
   "id": "e889adf5",
   "metadata": {},
   "outputs": [
    {
     "data": {
      "text/html": [
       "<div>\n",
       "<style scoped>\n",
       "    .dataframe tbody tr th:only-of-type {\n",
       "        vertical-align: middle;\n",
       "    }\n",
       "\n",
       "    .dataframe tbody tr th {\n",
       "        vertical-align: top;\n",
       "    }\n",
       "\n",
       "    .dataframe thead th {\n",
       "        text-align: right;\n",
       "    }\n",
       "</style>\n",
       "<table border=\"1\" class=\"dataframe\">\n",
       "  <thead>\n",
       "    <tr style=\"text-align: right;\">\n",
       "      <th></th>\n",
       "      <th>repo</th>\n",
       "      <th>language</th>\n",
       "      <th>readme_contents</th>\n",
       "    </tr>\n",
       "  </thead>\n",
       "  <tbody>\n",
       "  </tbody>\n",
       "</table>\n",
       "</div>"
      ],
      "text/plain": [
       "Empty DataFrame\n",
       "Columns: [repo, language, readme_contents]\n",
       "Index: []"
      ]
     },
     "execution_count": 7,
     "metadata": {},
     "output_type": "execute_result"
    }
   ],
   "source": [
    "df[df.duplicated()]"
   ]
  },
  {
   "cell_type": "markdown",
   "id": "cf6b4b85",
   "metadata": {},
   "source": [
    "# Exploration"
   ]
  },
  {
   "cell_type": "code",
   "execution_count": 8,
   "id": "5495f0f0",
   "metadata": {},
   "outputs": [],
   "source": [
    "def clean(text):\n",
    "    'A simple function to cleanup text data'\n",
    "    \n",
    "    ADDITIONAL_STOPWORDS = []\n",
    "    wnl = nltk.stem.WordNetLemmatizer()\n",
    "    stopwords = nltk.corpus.stopwords.words('english') + ADDITIONAL_STOPWORDS\n",
    "    text = (unicodedata.normalize('NFKD', text)\n",
    "             .encode('ascii', 'ignore')\n",
    "             .decode('utf-8', 'ignore')\n",
    "             .lower())\n",
    "    words = re.sub(r'[^\\w\\s]', '', text).split()\n",
    "    return [wnl.lemmatize(word) for word in words if word not in stopwords]"
   ]
  },
  {
   "cell_type": "code",
   "execution_count": 9,
   "id": "6a026e5c",
   "metadata": {},
   "outputs": [
    {
     "data": {
      "text/html": [
       "<div>\n",
       "<style scoped>\n",
       "    .dataframe tbody tr th:only-of-type {\n",
       "        vertical-align: middle;\n",
       "    }\n",
       "\n",
       "    .dataframe tbody tr th {\n",
       "        vertical-align: top;\n",
       "    }\n",
       "\n",
       "    .dataframe thead th {\n",
       "        text-align: right;\n",
       "    }\n",
       "</style>\n",
       "<table border=\"1\" class=\"dataframe\">\n",
       "  <thead>\n",
       "    <tr style=\"text-align: right;\">\n",
       "      <th></th>\n",
       "      <th>n</th>\n",
       "      <th>percent</th>\n",
       "    </tr>\n",
       "  </thead>\n",
       "  <tbody>\n",
       "    <tr>\n",
       "      <th>HTML</th>\n",
       "      <td>29</td>\n",
       "      <td>0.243697</td>\n",
       "    </tr>\n",
       "    <tr>\n",
       "      <th>C#</th>\n",
       "      <td>27</td>\n",
       "      <td>0.226891</td>\n",
       "    </tr>\n",
       "    <tr>\n",
       "      <th>Python</th>\n",
       "      <td>25</td>\n",
       "      <td>0.210084</td>\n",
       "    </tr>\n",
       "    <tr>\n",
       "      <th>JavaScript</th>\n",
       "      <td>23</td>\n",
       "      <td>0.193277</td>\n",
       "    </tr>\n",
       "    <tr>\n",
       "      <th>Java</th>\n",
       "      <td>15</td>\n",
       "      <td>0.126050</td>\n",
       "    </tr>\n",
       "  </tbody>\n",
       "</table>\n",
       "</div>"
      ],
      "text/plain": [
       "             n   percent\n",
       "HTML        29  0.243697\n",
       "C#          27  0.226891\n",
       "Python      25  0.210084\n",
       "JavaScript  23  0.193277\n",
       "Java        15  0.126050"
      ]
     },
     "execution_count": 9,
     "metadata": {},
     "output_type": "execute_result"
    }
   ],
   "source": [
    "def show_counts_and_ratios(df, column):\n",
    "    \"\"\"\n",
    "    Takes in a dataframe and a string of a single column\n",
    "    Returns a dataframe with absolute value counts and percentage value counts\n",
    "    \"\"\"\n",
    "    labels = pd.concat([df[column].value_counts(),\n",
    "                    df[column].value_counts(normalize=True)], axis=1)\n",
    "    labels.columns = ['n', 'percent']\n",
    "    labels\n",
    "    return labels\n",
    "\n",
    "show_counts_and_ratios(df, \"language\")"
   ]
  },
  {
   "cell_type": "code",
   "execution_count": 10,
   "id": "529a2811",
   "metadata": {},
   "outputs": [],
   "source": [
    "python_words = clean(' '.join(df[df.language == 'Python'].readme_contents))"
   ]
  },
  {
   "cell_type": "code",
   "execution_count": 11,
   "id": "5b0f8b04",
   "metadata": {},
   "outputs": [],
   "source": [
    "c_sharp_words = clean(' '.join(df[df.language == 'C#'].readme_contents))"
   ]
  },
  {
   "cell_type": "code",
   "execution_count": 12,
   "id": "b85afdda",
   "metadata": {},
   "outputs": [],
   "source": [
    "html_words = clean(' '.join(df[df.language == 'HTML'].readme_contents))"
   ]
  },
  {
   "cell_type": "code",
   "execution_count": 13,
   "id": "f0d4bc5a",
   "metadata": {},
   "outputs": [],
   "source": [
    "javascript_words = clean(' '.join(df[df.language == 'JavaScript'].readme_contents))"
   ]
  },
  {
   "cell_type": "code",
   "execution_count": 14,
   "id": "1db0213f",
   "metadata": {},
   "outputs": [],
   "source": [
    "java_words = clean(' '.join(df[df.language == 'Java'].readme_contents))"
   ]
  },
  {
   "cell_type": "code",
   "execution_count": 15,
   "id": "4d466608",
   "metadata": {},
   "outputs": [],
   "source": [
    "ruby_words = clean(' '.join(df[df.language == 'Ruby'].readme_contents))"
   ]
  },
  {
   "cell_type": "code",
   "execution_count": 16,
   "id": "e01ffe17",
   "metadata": {},
   "outputs": [],
   "source": [
    "shell_words = clean(' '.join(df[df.language == 'Shell'].readme_contents))"
   ]
  },
  {
   "cell_type": "markdown",
   "id": "d8d919b4",
   "metadata": {},
   "source": [
    "### Freq"
   ]
  },
  {
   "cell_type": "code",
   "execution_count": 17,
   "id": "6022c399",
   "metadata": {},
   "outputs": [],
   "source": [
    "python_freq = pd.Series(python_words).value_counts()"
   ]
  },
  {
   "cell_type": "code",
   "execution_count": 18,
   "id": "23d73aac",
   "metadata": {},
   "outputs": [],
   "source": [
    "c_sharp_freq = pd.Series(c_sharp_words).value_counts()"
   ]
  },
  {
   "cell_type": "code",
   "execution_count": 19,
   "id": "70e6a165",
   "metadata": {},
   "outputs": [],
   "source": [
    "html_freq = pd.Series(html_words).value_counts()"
   ]
  },
  {
   "cell_type": "code",
   "execution_count": 20,
   "id": "42a06042",
   "metadata": {},
   "outputs": [],
   "source": [
    "javascript_freq = pd.Series(javascript_words).value_counts()"
   ]
  },
  {
   "cell_type": "code",
   "execution_count": 21,
   "id": "c980271d",
   "metadata": {},
   "outputs": [],
   "source": [
    "java_freq = pd.Series(java_words).value_counts()"
   ]
  },
  {
   "cell_type": "code",
   "execution_count": 22,
   "id": "ae5f807a",
   "metadata": {},
   "outputs": [
    {
     "name": "stderr",
     "output_type": "stream",
     "text": [
      "<ipython-input-22-3c920b4893cb>:1: DeprecationWarning: The default dtype for empty Series will be 'object' instead of 'float64' in a future version. Specify a dtype explicitly to silence this warning.\n",
      "  ruby_freq = pd.Series(ruby_words).value_counts()\n"
     ]
    }
   ],
   "source": [
    "ruby_freq = pd.Series(ruby_words).value_counts()"
   ]
  },
  {
   "cell_type": "code",
   "execution_count": 23,
   "id": "aaefea21",
   "metadata": {},
   "outputs": [
    {
     "name": "stderr",
     "output_type": "stream",
     "text": [
      "<ipython-input-23-84670517d0d1>:1: DeprecationWarning: The default dtype for empty Series will be 'object' instead of 'float64' in a future version. Specify a dtype explicitly to silence this warning.\n",
      "  shell_freq = pd.Series(shell_words).value_counts()\n"
     ]
    }
   ],
   "source": [
    "shell_freq = pd.Series(shell_words).value_counts()"
   ]
  },
  {
   "cell_type": "code",
   "execution_count": 24,
   "id": "b842ef00",
   "metadata": {},
   "outputs": [
    {
     "data": {
      "text/plain": [
       "yes        1639\n",
       "unknown     926\n",
       "apikey      573\n",
       "video       489\n",
       "python      447\n",
       "dtype: int64"
      ]
     },
     "execution_count": 24,
     "metadata": {},
     "output_type": "execute_result"
    }
   ],
   "source": [
    "python_freq.head()"
   ]
  },
  {
   "cell_type": "code",
   "execution_count": 25,
   "id": "a597117a",
   "metadata": {},
   "outputs": [
    {
     "data": {
      "text/plain": [
       "new       192\n",
       "c         188\n",
       "use       186\n",
       "var       185\n",
       "csharp    156\n",
       "dtype: int64"
      ]
     },
     "execution_count": 25,
     "metadata": {},
     "output_type": "execute_result"
    }
   ],
   "source": [
    "c_sharp_freq.head()"
   ]
  },
  {
   "cell_type": "code",
   "execution_count": 26,
   "id": "4bae7ba7",
   "metadata": {},
   "outputs": [
    {
     "data": {
      "text/plain": [
       "html        97\n",
       "file        76\n",
       "use         76\n",
       "15001700    62\n",
       "dom         51\n",
       "dtype: int64"
      ]
     },
     "execution_count": 26,
     "metadata": {},
     "output_type": "execute_result"
    }
   ],
   "source": [
    "html_freq.head()"
   ]
  },
  {
   "cell_type": "code",
   "execution_count": 27,
   "id": "7a974062",
   "metadata": {},
   "outputs": [
    {
     "data": {
      "text/plain": [
       "javascript    309\n",
       "function      276\n",
       "const         261\n",
       "1             240\n",
       "bad           205\n",
       "dtype: int64"
      ]
     },
     "execution_count": 27,
     "metadata": {},
     "output_type": "execute_result"
    }
   ],
   "source": [
    "javascript_freq.head()"
   ]
  },
  {
   "cell_type": "code",
   "execution_count": 28,
   "id": "b8765162",
   "metadata": {},
   "outputs": [
    {
     "data": {
      "text/plain": [
       "altbr           189\n",
       "aligncentera    189\n",
       "width100px      189\n",
       "td              189\n",
       "java            177\n",
       "dtype: int64"
      ]
     },
     "execution_count": 28,
     "metadata": {},
     "output_type": "execute_result"
    }
   ],
   "source": [
    "java_freq.head()"
   ]
  },
  {
   "cell_type": "markdown",
   "id": "e94fd3e4",
   "metadata": {},
   "source": [
    "### Ruby and Shell only have one observation so we can either drop or go find more"
   ]
  },
  {
   "cell_type": "code",
   "execution_count": 29,
   "id": "45d1825b",
   "metadata": {},
   "outputs": [
    {
     "data": {
      "text/plain": [
       "Series([], dtype: int64)"
      ]
     },
     "execution_count": 29,
     "metadata": {},
     "output_type": "execute_result"
    }
   ],
   "source": [
    "ruby_freq.head()"
   ]
  },
  {
   "cell_type": "code",
   "execution_count": 30,
   "id": "6d8748f2",
   "metadata": {},
   "outputs": [
    {
     "data": {
      "text/plain": [
       "Series([], dtype: int64)"
      ]
     },
     "execution_count": 30,
     "metadata": {},
     "output_type": "execute_result"
    }
   ],
   "source": [
    "shell_freq.head()"
   ]
  },
  {
   "cell_type": "markdown",
   "id": "683dfa0d-0b60-408e-9c61-a9d66327a2c4",
   "metadata": {},
   "source": [
    "# Explore on Train "
   ]
  },
  {
   "cell_type": "code",
   "execution_count": 31,
   "id": "2f69f178",
   "metadata": {},
   "outputs": [
    {
     "data": {
      "text/html": [
       "<div>\n",
       "<style scoped>\n",
       "    .dataframe tbody tr th:only-of-type {\n",
       "        vertical-align: middle;\n",
       "    }\n",
       "\n",
       "    .dataframe tbody tr th {\n",
       "        vertical-align: top;\n",
       "    }\n",
       "\n",
       "    .dataframe thead th {\n",
       "        text-align: right;\n",
       "    }\n",
       "</style>\n",
       "<table border=\"1\" class=\"dataframe\">\n",
       "  <thead>\n",
       "    <tr style=\"text-align: right;\">\n",
       "      <th></th>\n",
       "      <th>repo</th>\n",
       "      <th>language</th>\n",
       "      <th>readme_contents</th>\n",
       "      <th>clean</th>\n",
       "      <th>stemmed</th>\n",
       "      <th>lemmatized</th>\n",
       "    </tr>\n",
       "  </thead>\n",
       "  <tbody>\n",
       "    <tr>\n",
       "      <th>74</th>\n",
       "      <td>Ryujinx/Ryujinx</td>\n",
       "      <td>C#</td>\n",
       "      <td>\\n&lt;h1&gt;\\n    &lt;img src=\"https://i.imgur.com/G6Ml...</td>\n",
       "      <td>h1 img srchttpsiimgurcomg6mlecopng ryujinx hre...</td>\n",
       "      <td>h1 img srchttpsiimgurcomg6mlecopng ryujinx hre...</td>\n",
       "      <td>h1 img srchttpsiimgurcomg6mlecopng ryujinx hre...</td>\n",
       "    </tr>\n",
       "    <tr>\n",
       "      <th>71</th>\n",
       "      <td>egametang/ET</td>\n",
       "      <td>C#</td>\n",
       "      <td># [中文](https://github.com/egametang/Egametang/...</td>\n",
       "      <td>httpsgithubcomegametangegametangblobmasterread...</td>\n",
       "      <td>httpsgithubcomegametangegametangblobmasterread...</td>\n",
       "      <td>httpsgithubcomegametangegametangblobmasterread...</td>\n",
       "    </tr>\n",
       "    <tr>\n",
       "      <th>89</th>\n",
       "      <td>bombomby/optick</td>\n",
       "      <td>C#</td>\n",
       "      <td># [Optick: C++ Profiler For Games](https://opt...</td>\n",
       "      <td>optick c profiler gameshttpsoptickdev githubht...</td>\n",
       "      <td>optick c profil gameshttpsoptickdev githubhttp...</td>\n",
       "      <td>optick c profiler gameshttpsoptickdev githubht...</td>\n",
       "    </tr>\n",
       "    <tr>\n",
       "      <th>1</th>\n",
       "      <td>cl2333/Grokking-the-Coding-Interview-Patterns-...</td>\n",
       "      <td>Python</td>\n",
       "      <td># [Grokking-the-Coding-Interview-Patterns-for-...</td>\n",
       "      <td>grokkingthecodinginterviewpatternsforcodingque...</td>\n",
       "      <td>grokkingthecodinginterviewpatternsforcodingque...</td>\n",
       "      <td>grokkingthecodinginterviewpatternsforcodingque...</td>\n",
       "    </tr>\n",
       "    <tr>\n",
       "      <th>100</th>\n",
       "      <td>gustavoguanabara/html-css</td>\n",
       "      <td>HTML</td>\n",
       "      <td>&lt;img src=\"imagens/mascote.png\" align=\"right\" w...</td>\n",
       "      <td>img srcimagensmascotepng alignright width300 c...</td>\n",
       "      <td>img srcimagensmascotepng alignright width300 c...</td>\n",
       "      <td>img srcimagensmascotepng alignright width300 c...</td>\n",
       "    </tr>\n",
       "  </tbody>\n",
       "</table>\n",
       "</div>"
      ],
      "text/plain": [
       "                                                  repo language  \\\n",
       "74                                     Ryujinx/Ryujinx       C#   \n",
       "71                                        egametang/ET       C#   \n",
       "89                                     bombomby/optick       C#   \n",
       "1    cl2333/Grokking-the-Coding-Interview-Patterns-...   Python   \n",
       "100                          gustavoguanabara/html-css     HTML   \n",
       "\n",
       "                                       readme_contents  \\\n",
       "74   \\n<h1>\\n    <img src=\"https://i.imgur.com/G6Ml...   \n",
       "71   # [中文](https://github.com/egametang/Egametang/...   \n",
       "89   # [Optick: C++ Profiler For Games](https://opt...   \n",
       "1    # [Grokking-the-Coding-Interview-Patterns-for-...   \n",
       "100  <img src=\"imagens/mascote.png\" align=\"right\" w...   \n",
       "\n",
       "                                                 clean  \\\n",
       "74   h1 img srchttpsiimgurcomg6mlecopng ryujinx hre...   \n",
       "71   httpsgithubcomegametangegametangblobmasterread...   \n",
       "89   optick c profiler gameshttpsoptickdev githubht...   \n",
       "1    grokkingthecodinginterviewpatternsforcodingque...   \n",
       "100  img srcimagensmascotepng alignright width300 c...   \n",
       "\n",
       "                                               stemmed  \\\n",
       "74   h1 img srchttpsiimgurcomg6mlecopng ryujinx hre...   \n",
       "71   httpsgithubcomegametangegametangblobmasterread...   \n",
       "89   optick c profil gameshttpsoptickdev githubhttp...   \n",
       "1    grokkingthecodinginterviewpatternsforcodingque...   \n",
       "100  img srcimagensmascotepng alignright width300 c...   \n",
       "\n",
       "                                            lemmatized  \n",
       "74   h1 img srchttpsiimgurcomg6mlecopng ryujinx hre...  \n",
       "71   httpsgithubcomegametangegametangblobmasterread...  \n",
       "89   optick c profiler gameshttpsoptickdev githubht...  \n",
       "1    grokkingthecodinginterviewpatternsforcodingque...  \n",
       "100  img srcimagensmascotepng alignright width300 c...  "
      ]
     },
     "execution_count": 31,
     "metadata": {},
     "output_type": "execute_result"
    }
   ],
   "source": [
    "train.head()"
   ]
  },
  {
   "cell_type": "code",
   "execution_count": 32,
   "id": "baf5059a-6638-4054-9c9e-5c57b8ef49b9",
   "metadata": {
    "collapsed": true,
    "jupyter": {
     "outputs_hidden": true
    },
    "tags": []
   },
   "outputs": [
    {
     "data": {
      "text/plain": [
       "\"nostalgiaforinfin trade strategi freqtradehttpswwwfreqtradeio crypto bot clone repositori plan clone repositori use strategi regular git clone howev plan run addit strategi run test suit need clone repositori ' submodul newer version git bash git clone recursesubmodul httpsgithubcomiterativvnostalgiaforinfinitygit checkoutpath older version git bash git clone recurs httpsgithubcomiterativvnostalgiaforinfinitygit checkoutpath exist checkout git submodul updat remot checkout chang strategi add strategi userdatastrategiesuserdatastrategi folder also dockercomposeymldockercomposeyml file strategylist add strategi list gener recommend optim perform suggest use 4 6 open trade unlimit stake pairlist 40 80 pair volum pairlist work well prefer stabl coin usdt busd etc pair instead btc eth pair highli recommend blacklist leverag token bull bear etc ensur ' overrid variabl configjson especi timefram must 5m usesellsign must set true set sellprofitonli must set fals set ignoreroiifbuysign must set true set donat absolut requir howev accept token appreci btc bc1qvflsvddkmxh7eqhc4jyu5z5k6xcw3ay8jl49sk eth erc20 0x83d3cfb8001bdc5d2211cbebb8cb3461e5f7ec91 bep20bsc eth bnb 0x86a0b21a20b39d16424b7c8003e4a7e12d78abe referr link like help also use follow link sign variou exchang binanc httpsaccountsbinancecomenregisterref37365811 kucoin httpswwwkucoincomucentersignuprcoderjtlz9k huobi httpswwwhuobicomenustopicdoublerewardinvitecodeubpt2223\""
      ]
     },
     "execution_count": 32,
     "metadata": {},
     "output_type": "execute_result"
    }
   ],
   "source": [
    "train.stemmed[0]"
   ]
  },
  {
   "cell_type": "code",
   "execution_count": 33,
   "id": "2213db45-7645-4dc7-8fc2-c1f914b4f156",
   "metadata": {
    "collapsed": true,
    "jupyter": {
     "outputs_hidden": true
    },
    "tags": []
   },
   "outputs": [
    {
     "data": {
      "text/plain": [
       "\"nostalgiaforinfinity trading strategy freqtradehttpswwwfreqtradeio crypto bot clone repository plan clone repository use strategy regular git clone however plan running additional strategies run test suite need clone repository ' submodules newer versions git bash git clone recursesubmodules httpsgithubcomiterativvnostalgiaforinfinitygit checkoutpath older versions git bash git clone recursive httpsgithubcomiterativvnostalgiaforinfinitygit checkoutpath existing checkouts git submodule update remote checkout change strategy add strategies userdatastrategiesuserdatastrategies folder also dockercomposeymldockercomposeyml file strategylist add strategy list general recommendations optimal performance suggested use 4 6 open trades unlimited stake pairlist 40 80 pairs volume pairlist works well prefer stable coin usdt busd etc pairs instead btc eth pairs highly recommended blacklist leveraged tokens bull bear etc ensure ' override variables configjson especially timeframe must 5m usesellsignal must set true set sellprofitonly must set false set ignoreroiifbuysignal must set true set donations absolutely required however accepted token appreciation btc bc1qvflsvddkmxh7eqhc4jyu5z5k6xcw3ay8jl49sk eth erc20 0x83d3cfb8001bdc5d2211cbebb8cb3461e5f7ec91 bep20bsc eth bnb 0x86a0b21a20b39d16424b7c8003e4a7e12d78abee referral links like help also use following links sign various exchanges binance httpsaccountsbinancecomenregisterref37365811 kucoin httpswwwkucoincomucentersignuprcoderjtlz9k huobi httpswwwhuobicomenustopicdoublerewardinvitecodeubpt2223\""
      ]
     },
     "execution_count": 33,
     "metadata": {},
     "output_type": "execute_result"
    }
   ],
   "source": [
    "train.clean[0]"
   ]
  },
  {
   "cell_type": "code",
   "execution_count": 34,
   "id": "0a212de0-ffb0-4934-8b51-0c2434401898",
   "metadata": {
    "collapsed": true,
    "jupyter": {
     "outputs_hidden": true
    },
    "tags": []
   },
   "outputs": [
    {
     "data": {
      "text/plain": [
       "\"nostalgiaforinfinity trading strategy freqtradehttpswwwfreqtradeio crypto bot clone repository plan clone repository use strategy regular git clone however plan running additional strategy run test suite need clone repository ' submodules newer version git bash git clone recursesubmodules httpsgithubcomiterativvnostalgiaforinfinitygit checkoutpath older version git bash git clone recursive httpsgithubcomiterativvnostalgiaforinfinitygit checkoutpath existing checkout git submodule update remote checkout change strategy add strategy userdatastrategiesuserdatastrategies folder also dockercomposeymldockercomposeyml file strategylist add strategy list general recommendation optimal performance suggested use 4 6 open trade unlimited stake pairlist 40 80 pair volume pairlist work well prefer stable coin usdt busd etc pair instead btc eth pair highly recommended blacklist leveraged token bull bear etc ensure ' override variable configjson especially timeframe must 5m usesellsignal must set true set sellprofitonly must set false set ignoreroiifbuysignal must set true set donation absolutely required however accepted token appreciation btc bc1qvflsvddkmxh7eqhc4jyu5z5k6xcw3ay8jl49sk eth erc20 0x83d3cfb8001bdc5d2211cbebb8cb3461e5f7ec91 bep20bsc eth bnb 0x86a0b21a20b39d16424b7c8003e4a7e12d78abee referral link like help also use following link sign various exchange binance httpsaccountsbinancecomenregisterref37365811 kucoin httpswwwkucoincomucentersignuprcoderjtlz9k huobi httpswwwhuobicomenustopicdoublerewardinvitecodeubpt2223\""
      ]
     },
     "execution_count": 34,
     "metadata": {},
     "output_type": "execute_result"
    }
   ],
   "source": [
    "train.lemmatized[0]"
   ]
  },
  {
   "cell_type": "code",
   "execution_count": 35,
   "id": "8dcd7bcb-428f-453e-894f-8c2341427d7a",
   "metadata": {},
   "outputs": [
    {
     "data": {
      "text/html": [
       "<div>\n",
       "<style scoped>\n",
       "    .dataframe tbody tr th:only-of-type {\n",
       "        vertical-align: middle;\n",
       "    }\n",
       "\n",
       "    .dataframe tbody tr th {\n",
       "        vertical-align: top;\n",
       "    }\n",
       "\n",
       "    .dataframe thead th {\n",
       "        text-align: right;\n",
       "    }\n",
       "</style>\n",
       "<table border=\"1\" class=\"dataframe\">\n",
       "  <thead>\n",
       "    <tr style=\"text-align: right;\">\n",
       "      <th></th>\n",
       "      <th>n</th>\n",
       "      <th>percent</th>\n",
       "    </tr>\n",
       "  </thead>\n",
       "  <tbody>\n",
       "    <tr>\n",
       "      <th>HTML</th>\n",
       "      <td>16</td>\n",
       "      <td>0.275862</td>\n",
       "    </tr>\n",
       "    <tr>\n",
       "      <th>C#</th>\n",
       "      <td>15</td>\n",
       "      <td>0.258621</td>\n",
       "    </tr>\n",
       "    <tr>\n",
       "      <th>Python</th>\n",
       "      <td>14</td>\n",
       "      <td>0.241379</td>\n",
       "    </tr>\n",
       "    <tr>\n",
       "      <th>JavaScript</th>\n",
       "      <td>13</td>\n",
       "      <td>0.224138</td>\n",
       "    </tr>\n",
       "  </tbody>\n",
       "</table>\n",
       "</div>"
      ],
      "text/plain": [
       "             n   percent\n",
       "HTML        16  0.275862\n",
       "C#          15  0.258621\n",
       "Python      14  0.241379\n",
       "JavaScript  13  0.224138"
      ]
     },
     "execution_count": 35,
     "metadata": {},
     "output_type": "execute_result"
    }
   ],
   "source": [
    "labels = pd.concat([train.language.value_counts(),\n",
    "                    train.language.value_counts(normalize=True)], axis=1)\n",
    "labels.columns = ['n', 'percent']\n",
    "labels"
   ]
  },
  {
   "cell_type": "code",
   "execution_count": 37,
   "id": "9d3f5451-4b08-42ab-945f-0300db5c0c10",
   "metadata": {},
   "outputs": [
    {
     "data": {
      "text/plain": [
       "Index(['repo', 'language', 'readme_contents', 'clean', 'stemmed',\n",
       "       'lemmatized'],\n",
       "      dtype='object')"
      ]
     },
     "execution_count": 37,
     "metadata": {},
     "output_type": "execute_result"
    }
   ],
   "source": [
    "train.columns"
   ]
  },
  {
   "cell_type": "code",
   "execution_count": 62,
   "id": "6b9a1bd6-ba8e-4bb3-837f-0353f14a1052",
   "metadata": {},
   "outputs": [],
   "source": [
    "ADDITIONAL_STOPWORDS = ['png']\n",
    "\n",
    "def clean_up(text):\n",
    "    'A simple function to cleanup text data'\n",
    "    wnl = nltk.stem.WordNetLemmatizer()\n",
    "    stopwords = nltk.corpus.stopwords.words('english') + ADDITIONAL_STOPWORDS\n",
    "    text = (unicodedata.normalize('NFKD', text)\n",
    "             .encode('ascii', 'ignore')\n",
    "             .decode('utf-8', 'ignore')\n",
    "             .lower())\n",
    "    words = re.sub(r'[^\\w\\s]', '', text).split()\n",
    "    return [wnl.lemmatize(word) for word in words if word not in stopwords]"
   ]
  },
  {
   "cell_type": "code",
   "execution_count": 63,
   "id": "7689b532-7476-40e7-a5d2-bcd0b8ac4c5f",
   "metadata": {},
   "outputs": [
    {
     "data": {
      "text/html": [
       "<div>\n",
       "<style scoped>\n",
       "    .dataframe tbody tr th:only-of-type {\n",
       "        vertical-align: middle;\n",
       "    }\n",
       "\n",
       "    .dataframe tbody tr th {\n",
       "        vertical-align: top;\n",
       "    }\n",
       "\n",
       "    .dataframe thead th {\n",
       "        text-align: right;\n",
       "    }\n",
       "</style>\n",
       "<table border=\"1\" class=\"dataframe\">\n",
       "  <thead>\n",
       "    <tr style=\"text-align: right;\">\n",
       "      <th></th>\n",
       "      <th>n</th>\n",
       "      <th>percent</th>\n",
       "    </tr>\n",
       "  </thead>\n",
       "  <tbody>\n",
       "    <tr>\n",
       "      <th>HTML</th>\n",
       "      <td>16</td>\n",
       "      <td>0.275862</td>\n",
       "    </tr>\n",
       "    <tr>\n",
       "      <th>C#</th>\n",
       "      <td>15</td>\n",
       "      <td>0.258621</td>\n",
       "    </tr>\n",
       "    <tr>\n",
       "      <th>Python</th>\n",
       "      <td>14</td>\n",
       "      <td>0.241379</td>\n",
       "    </tr>\n",
       "    <tr>\n",
       "      <th>JavaScript</th>\n",
       "      <td>13</td>\n",
       "      <td>0.224138</td>\n",
       "    </tr>\n",
       "  </tbody>\n",
       "</table>\n",
       "</div>"
      ],
      "text/plain": [
       "             n   percent\n",
       "HTML        16  0.275862\n",
       "C#          15  0.258621\n",
       "Python      14  0.241379\n",
       "JavaScript  13  0.224138"
      ]
     },
     "execution_count": 63,
     "metadata": {},
     "output_type": "execute_result"
    }
   ],
   "source": [
    "def show_counts_and_ratios(df, column):\n",
    "    \"\"\"\n",
    "    Takes in a dataframe and a string of a single column\n",
    "    Returns a dataframe with absolute value counts and percentage value counts\n",
    "    \"\"\"\n",
    "    labels = pd.concat([train[column].value_counts(),\n",
    "                    train[column].value_counts(normalize=True)], axis=1)\n",
    "    labels.columns = ['n', 'percent']\n",
    "    labels\n",
    "    return labels\n",
    "\n",
    "show_counts_and_ratios(df, \"language\")"
   ]
  },
  {
   "cell_type": "code",
   "execution_count": 84,
   "id": "887d8ca5-b59c-447c-b1ae-c0fee5d65424",
   "metadata": {},
   "outputs": [],
   "source": [
    "html_words = clean_up(' '.join(train[train.language == 'HTML'].stemmed))"
   ]
  },
  {
   "cell_type": "code",
   "execution_count": 85,
   "id": "1864456d-d03c-4aa0-9411-b85504dbdfea",
   "metadata": {},
   "outputs": [],
   "source": [
    "html_freq = pd.DataFrame(html_words)"
   ]
  },
  {
   "cell_type": "code",
   "execution_count": 87,
   "id": "1ce3025b-1813-48da-939d-086a7326e93c",
   "metadata": {},
   "outputs": [
    {
     "data": {
      "text/plain": [
       "9           228\n",
       "use          62\n",
       "15001700     62\n",
       "html         60\n",
       "email        44\n",
       "           ... \n",
       "go            1\n",
       "got           1\n",
       "gpl           1\n",
       "gplv3         1\n",
       "instanc       1\n",
       "Length: 1486, dtype: int64"
      ]
     },
     "execution_count": 87,
     "metadata": {},
     "output_type": "execute_result"
    }
   ],
   "source": [
    "html_freq.value_counts()"
   ]
  },
  {
   "cell_type": "code",
   "execution_count": 74,
   "id": "d1f21cc9-bba9-4026-a051-1b48d90990d9",
   "metadata": {},
   "outputs": [],
   "source": [
    "python_words = clean_up(' '.join(train[train.language == 'Python'].stemmed))"
   ]
  },
  {
   "cell_type": "code",
   "execution_count": 75,
   "id": "34319d87-571d-4d7b-bf93-3030d5902dbf",
   "metadata": {},
   "outputs": [],
   "source": [
    "p_words = pd.DataFrame(python_words)"
   ]
  },
  {
   "cell_type": "code",
   "execution_count": 76,
   "id": "f4f2d8b1-d773-44e1-9709-2696c7994837",
   "metadata": {},
   "outputs": [
    {
     "data": {
      "text/plain": [
       "use                                                                                                     209\n",
       "video                                                                                                   202\n",
       "youtubedl                                                                                               154\n",
       "download                                                                                                154\n",
       "file                                                                                                    139\n",
       "                                                                                                       ... \n",
       "filterclass                                                                                               1\n",
       "nearli                                                                                                    1\n",
       "near                                                                                                      1\n",
       "ncfoxnts3dhmrg2fupnr9mpv45nlahtaioowihote08wawn0w0at4v22f8xg3m9jupy0bxkr96rs09t0lwtkd33236j3ta3m4vv2      1\n",
       "jsonlik                                                                                                   1\n",
       "Length: 3694, dtype: int64"
      ]
     },
     "execution_count": 76,
     "metadata": {},
     "output_type": "execute_result"
    }
   ],
   "source": [
    "p_words.value_counts()"
   ]
  },
  {
   "cell_type": "code",
   "execution_count": 89,
   "id": "a2420ff2-138d-4dfc-b7c7-89457e053a45",
   "metadata": {},
   "outputs": [],
   "source": [
    "html_words = clean_up(' '.join(train[train.language == 'HTML'].clean))\n",
    "python_words = clean_up(' '.join(train[train.language == 'Python'].clean))\n",
    "C_sharp_words = clean_up(' '.join(train[train.language == 'C#'].clean))\n",
    "JavaScript_words = clean_up(' '.join(train[train.language == 'JavaScript'].clean))\n",
    "\n",
    "all_words = clean_up(' '.join(train.clean))"
   ]
  },
  {
   "cell_type": "code",
   "execution_count": 91,
   "id": "7b2c7776-b041-4955-bdf0-122fa71a3dfe",
   "metadata": {},
   "outputs": [
    {
     "name": "stdout",
     "output_type": "stream",
     "text": [
      "9           228\n",
      "15001700     62\n",
      "html         60\n",
      "email        44\n",
      "use          39\n",
      "dtype: int64\n",
      "--------------\n",
      "video        202\n",
      "youtubedl    154\n",
      "file         135\n",
      "use          117\n",
      "format       102\n",
      "dtype: int64\n",
      "--------------\n",
      "9       262\n",
      "use     130\n",
      "c       128\n",
      "new     124\n",
      "type    113\n",
      "dtype: int64\n",
      "--------------\n",
      "javascript    264\n",
      "const         263\n",
      "function      226\n",
      "bad           203\n",
      "1             191\n",
      "dtype: int64\n",
      "--------------\n",
      "9             609\n",
      "use           410\n",
      "function      289\n",
      "javascript    276\n",
      "const         263\n",
      "dtype: int64\n"
     ]
    }
   ],
   "source": [
    "html_freq = pd.Series(html_words).value_counts()\n",
    "python_freq = pd.Series(python_words).value_counts()\n",
    "C_sharp_freq = pd.Series(C_sharp_words).value_counts()\n",
    "JavaScript_freq = pd.Series(JavaScript_words).value_counts()\n",
    "all_freq = pd.Series(all_words).value_counts()\n",
    "\n",
    "print(html_freq.head())\n",
    "print (\"--------------\")\n",
    "print(python_freq.head())\n",
    "print (\"--------------\")\n",
    "print(C_sharp_freq.head())\n",
    "print (\"--------------\")\n",
    "print(JavaScript_freq.head())\n",
    "print (\"--------------\")\n",
    "print(all_freq.head())"
   ]
  },
  {
   "cell_type": "code",
   "execution_count": 92,
   "id": "8570cf5b-a57d-43bc-9304-adf9ddf46c76",
   "metadata": {},
   "outputs": [],
   "source": [
    "#Josh's code\n",
    "#words = []\n",
    "#for word in list(train[train.language == 'Python'].lemmatized):\n",
    "#    words.extend(word.split())"
   ]
  },
  {
   "cell_type": "code",
   "execution_count": null,
   "id": "2b3a8fef-e448-4263-8eb2-e93eeb905c31",
   "metadata": {},
   "outputs": [],
   "source": [
    "#python_words = pd.DataFrame(words)"
   ]
  },
  {
   "cell_type": "code",
   "execution_count": 93,
   "id": "eec58e5d-1f81-4f7d-a4c0-3e43d353ae89",
   "metadata": {},
   "outputs": [],
   "source": [
    "#python_words.value_counts()"
   ]
  },
  {
   "cell_type": "code",
   "execution_count": null,
   "id": "73d9e566-c8ff-469d-8016-ab7f2520e3ed",
   "metadata": {},
   "outputs": [],
   "source": []
  }
 ],
 "metadata": {
  "kernelspec": {
   "display_name": "Python 3",
   "language": "python",
   "name": "python3"
  },
  "language_info": {
   "codemirror_mode": {
    "name": "ipython",
    "version": 3
   },
   "file_extension": ".py",
   "mimetype": "text/x-python",
   "name": "python",
   "nbconvert_exporter": "python",
   "pygments_lexer": "ipython3",
   "version": "3.8.8"
  }
 },
 "nbformat": 4,
 "nbformat_minor": 5
}
