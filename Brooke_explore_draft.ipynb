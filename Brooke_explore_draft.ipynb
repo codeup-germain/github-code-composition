{
 "cells": [
  {
   "cell_type": "code",
   "execution_count": 1,
   "id": "b44ca195",
   "metadata": {},
   "outputs": [],
   "source": [
    "import pandas as pd\n",
    "import numpy as np\n",
    "import matplotlib.pyplot as plt\n",
    "\n",
    "import unicodedata\n",
    "import re\n",
    "import json\n",
    "\n",
    "import nltk\n",
    "from nltk.tokenize.toktok import ToktokTokenizer\n",
    "from nltk.corpus import stopwords\n",
    "from nltk import sent_tokenize\n",
    "from prepare import prepare"
   ]
  },
  {
   "cell_type": "code",
   "execution_count": 2,
   "id": "50bab94e",
   "metadata": {},
   "outputs": [],
   "source": [
    "with open('data.json') as json_file:\n",
    "    data = json.load(json_file)"
   ]
  },
  {
   "cell_type": "code",
   "execution_count": 3,
   "id": "ab49decd",
   "metadata": {},
   "outputs": [],
   "source": [
    "df = pd.DataFrame(data)"
   ]
  },
  {
   "cell_type": "markdown",
   "id": "7217978c",
   "metadata": {},
   "source": [
    "# Check out prepare for prepare details"
   ]
  },
  {
   "cell_type": "code",
   "execution_count": 4,
   "id": "b163b7c7",
   "metadata": {},
   "outputs": [],
   "source": [
    "train, validate, test = prepare(df)"
   ]
  },
  {
   "cell_type": "code",
   "execution_count": 5,
   "id": "59a76e53",
   "metadata": {},
   "outputs": [
    {
     "data": {
      "text/plain": [
       "(348, 150, 126)"
      ]
     },
     "execution_count": 5,
     "metadata": {},
     "output_type": "execute_result"
    }
   ],
   "source": [
    "train.size, validate.size, test.size"
   ]
  },
  {
   "cell_type": "code",
   "execution_count": 6,
   "id": "ad8ccf17",
   "metadata": {},
   "outputs": [
    {
     "data": {
      "text/html": [
       "<div>\n",
       "<style scoped>\n",
       "    .dataframe tbody tr th:only-of-type {\n",
       "        vertical-align: middle;\n",
       "    }\n",
       "\n",
       "    .dataframe tbody tr th {\n",
       "        vertical-align: top;\n",
       "    }\n",
       "\n",
       "    .dataframe thead th {\n",
       "        text-align: right;\n",
       "    }\n",
       "</style>\n",
       "<table border=\"1\" class=\"dataframe\">\n",
       "  <thead>\n",
       "    <tr style=\"text-align: right;\">\n",
       "      <th></th>\n",
       "      <th>repo</th>\n",
       "      <th>language</th>\n",
       "      <th>readme_contents</th>\n",
       "      <th>clean</th>\n",
       "      <th>stemmed</th>\n",
       "      <th>lemmatized</th>\n",
       "    </tr>\n",
       "  </thead>\n",
       "  <tbody>\n",
       "    <tr>\n",
       "      <th>74</th>\n",
       "      <td>Ryujinx/Ryujinx</td>\n",
       "      <td>C#</td>\n",
       "      <td>\\n&lt;h1&gt;\\n    &lt;img src=\"https://i.imgur.com/G6Ml...</td>\n",
       "      <td>h1 img srchttpsiimgurcomg6mlecopng ryujinx hre...</td>\n",
       "      <td>h1 img srchttpsiimgurcomg6mlecopng ryujinx hre...</td>\n",
       "      <td>h1 img srchttpsiimgurcomg6mlecopng ryujinx hre...</td>\n",
       "    </tr>\n",
       "    <tr>\n",
       "      <th>71</th>\n",
       "      <td>egametang/ET</td>\n",
       "      <td>C#</td>\n",
       "      <td># [中文](https://github.com/egametang/Egametang/...</td>\n",
       "      <td>httpsgithubcomegametangegametangblobmasterread...</td>\n",
       "      <td>httpsgithubcomegametangegametangblobmasterread...</td>\n",
       "      <td>httpsgithubcomegametangegametangblobmasterread...</td>\n",
       "    </tr>\n",
       "    <tr>\n",
       "      <th>89</th>\n",
       "      <td>bombomby/optick</td>\n",
       "      <td>C#</td>\n",
       "      <td># [Optick: C++ Profiler For Games](https://opt...</td>\n",
       "      <td>optick c profiler gameshttpsoptickdev githubht...</td>\n",
       "      <td>optick c profil gameshttpsoptickdev githubhttp...</td>\n",
       "      <td>optick c profiler gameshttpsoptickdev githubht...</td>\n",
       "    </tr>\n",
       "    <tr>\n",
       "      <th>1</th>\n",
       "      <td>cl2333/Grokking-the-Coding-Interview-Patterns-...</td>\n",
       "      <td>Python</td>\n",
       "      <td># [Grokking-the-Coding-Interview-Patterns-for-...</td>\n",
       "      <td>grokkingthecodinginterviewpatternsforcodingque...</td>\n",
       "      <td>grokkingthecodinginterviewpatternsforcodingque...</td>\n",
       "      <td>grokkingthecodinginterviewpatternsforcodingque...</td>\n",
       "    </tr>\n",
       "    <tr>\n",
       "      <th>100</th>\n",
       "      <td>gustavoguanabara/html-css</td>\n",
       "      <td>HTML</td>\n",
       "      <td>&lt;img src=\"imagens/mascote.png\" align=\"right\" w...</td>\n",
       "      <td>img srcimagensmascotepng alignright width300 c...</td>\n",
       "      <td>img srcimagensmascotepng alignright width300 c...</td>\n",
       "      <td>img srcimagensmascotepng alignright width300 c...</td>\n",
       "    </tr>\n",
       "  </tbody>\n",
       "</table>\n",
       "</div>"
      ],
      "text/plain": [
       "                                                  repo language  \\\n",
       "74                                     Ryujinx/Ryujinx       C#   \n",
       "71                                        egametang/ET       C#   \n",
       "89                                     bombomby/optick       C#   \n",
       "1    cl2333/Grokking-the-Coding-Interview-Patterns-...   Python   \n",
       "100                          gustavoguanabara/html-css     HTML   \n",
       "\n",
       "                                       readme_contents  \\\n",
       "74   \\n<h1>\\n    <img src=\"https://i.imgur.com/G6Ml...   \n",
       "71   # [中文](https://github.com/egametang/Egametang/...   \n",
       "89   # [Optick: C++ Profiler For Games](https://opt...   \n",
       "1    # [Grokking-the-Coding-Interview-Patterns-for-...   \n",
       "100  <img src=\"imagens/mascote.png\" align=\"right\" w...   \n",
       "\n",
       "                                                 clean  \\\n",
       "74   h1 img srchttpsiimgurcomg6mlecopng ryujinx hre...   \n",
       "71   httpsgithubcomegametangegametangblobmasterread...   \n",
       "89   optick c profiler gameshttpsoptickdev githubht...   \n",
       "1    grokkingthecodinginterviewpatternsforcodingque...   \n",
       "100  img srcimagensmascotepng alignright width300 c...   \n",
       "\n",
       "                                               stemmed  \\\n",
       "74   h1 img srchttpsiimgurcomg6mlecopng ryujinx hre...   \n",
       "71   httpsgithubcomegametangegametangblobmasterread...   \n",
       "89   optick c profil gameshttpsoptickdev githubhttp...   \n",
       "1    grokkingthecodinginterviewpatternsforcodingque...   \n",
       "100  img srcimagensmascotepng alignright width300 c...   \n",
       "\n",
       "                                            lemmatized  \n",
       "74   h1 img srchttpsiimgurcomg6mlecopng ryujinx hre...  \n",
       "71   httpsgithubcomegametangegametangblobmasterread...  \n",
       "89   optick c profiler gameshttpsoptickdev githubht...  \n",
       "1    grokkingthecodinginterviewpatternsforcodingque...  \n",
       "100  img srcimagensmascotepng alignright width300 c...  "
      ]
     },
     "execution_count": 6,
     "metadata": {},
     "output_type": "execute_result"
    }
   ],
   "source": [
    "train.head()"
   ]
  },
  {
   "cell_type": "code",
   "execution_count": null,
   "id": "a804345c",
   "metadata": {},
   "outputs": [],
   "source": []
  },
  {
   "cell_type": "markdown",
   "id": "027512fd",
   "metadata": {},
   "source": [
    "# No duplicates"
   ]
  },
  {
   "cell_type": "code",
   "execution_count": 7,
   "id": "e889adf5",
   "metadata": {},
   "outputs": [
    {
     "data": {
      "text/html": [
       "<div>\n",
       "<style scoped>\n",
       "    .dataframe tbody tr th:only-of-type {\n",
       "        vertical-align: middle;\n",
       "    }\n",
       "\n",
       "    .dataframe tbody tr th {\n",
       "        vertical-align: top;\n",
       "    }\n",
       "\n",
       "    .dataframe thead th {\n",
       "        text-align: right;\n",
       "    }\n",
       "</style>\n",
       "<table border=\"1\" class=\"dataframe\">\n",
       "  <thead>\n",
       "    <tr style=\"text-align: right;\">\n",
       "      <th></th>\n",
       "      <th>repo</th>\n",
       "      <th>language</th>\n",
       "      <th>readme_contents</th>\n",
       "    </tr>\n",
       "  </thead>\n",
       "  <tbody>\n",
       "  </tbody>\n",
       "</table>\n",
       "</div>"
      ],
      "text/plain": [
       "Empty DataFrame\n",
       "Columns: [repo, language, readme_contents]\n",
       "Index: []"
      ]
     },
     "execution_count": 7,
     "metadata": {},
     "output_type": "execute_result"
    }
   ],
   "source": [
    "df[df.duplicated()]"
   ]
  },
  {
   "cell_type": "markdown",
   "id": "cf6b4b85",
   "metadata": {},
   "source": [
    "# Exploration"
   ]
  },
  {
   "cell_type": "code",
   "execution_count": 8,
   "id": "5495f0f0",
   "metadata": {},
   "outputs": [],
   "source": [
    "def clean(text):\n",
    "    'A simple function to cleanup text data'\n",
    "    \n",
    "    ADDITIONAL_STOPWORDS = []\n",
    "    wnl = nltk.stem.WordNetLemmatizer()\n",
    "    stopwords = nltk.corpus.stopwords.words('english') + ADDITIONAL_STOPWORDS\n",
    "    text = (unicodedata.normalize('NFKD', text)\n",
    "             .encode('ascii', 'ignore')\n",
    "             .decode('utf-8', 'ignore')\n",
    "             .lower())\n",
    "    words = re.sub(r'[^\\w\\s]', '', text).split()\n",
    "    return [wnl.lemmatize(word) for word in words if word not in stopwords]"
   ]
  },
  {
   "cell_type": "code",
   "execution_count": 9,
   "id": "6a026e5c",
   "metadata": {},
   "outputs": [
    {
     "data": {
      "text/html": [
       "<div>\n",
       "<style scoped>\n",
       "    .dataframe tbody tr th:only-of-type {\n",
       "        vertical-align: middle;\n",
       "    }\n",
       "\n",
       "    .dataframe tbody tr th {\n",
       "        vertical-align: top;\n",
       "    }\n",
       "\n",
       "    .dataframe thead th {\n",
       "        text-align: right;\n",
       "    }\n",
       "</style>\n",
       "<table border=\"1\" class=\"dataframe\">\n",
       "  <thead>\n",
       "    <tr style=\"text-align: right;\">\n",
       "      <th></th>\n",
       "      <th>n</th>\n",
       "      <th>percent</th>\n",
       "    </tr>\n",
       "  </thead>\n",
       "  <tbody>\n",
       "    <tr>\n",
       "      <th>HTML</th>\n",
       "      <td>29</td>\n",
       "      <td>0.243697</td>\n",
       "    </tr>\n",
       "    <tr>\n",
       "      <th>C#</th>\n",
       "      <td>27</td>\n",
       "      <td>0.226891</td>\n",
       "    </tr>\n",
       "    <tr>\n",
       "      <th>Python</th>\n",
       "      <td>25</td>\n",
       "      <td>0.210084</td>\n",
       "    </tr>\n",
       "    <tr>\n",
       "      <th>JavaScript</th>\n",
       "      <td>23</td>\n",
       "      <td>0.193277</td>\n",
       "    </tr>\n",
       "    <tr>\n",
       "      <th>Java</th>\n",
       "      <td>15</td>\n",
       "      <td>0.126050</td>\n",
       "    </tr>\n",
       "  </tbody>\n",
       "</table>\n",
       "</div>"
      ],
      "text/plain": [
       "             n   percent\n",
       "HTML        29  0.243697\n",
       "C#          27  0.226891\n",
       "Python      25  0.210084\n",
       "JavaScript  23  0.193277\n",
       "Java        15  0.126050"
      ]
     },
     "execution_count": 9,
     "metadata": {},
     "output_type": "execute_result"
    }
   ],
   "source": [
    "def show_counts_and_ratios(df, column):\n",
    "    \"\"\"\n",
    "    Takes in a dataframe and a string of a single column\n",
    "    Returns a dataframe with absolute value counts and percentage value counts\n",
    "    \"\"\"\n",
    "    labels = pd.concat([df[column].value_counts(),\n",
    "                    df[column].value_counts(normalize=True)], axis=1)\n",
    "    labels.columns = ['n', 'percent']\n",
    "    labels\n",
    "    return labels\n",
    "\n",
    "show_counts_and_ratios(df, \"language\")"
   ]
  },
  {
   "cell_type": "code",
   "execution_count": 10,
   "id": "529a2811",
   "metadata": {},
   "outputs": [],
   "source": [
    "python_words = clean(' '.join(df[df.language == 'Python'].readme_contents))"
   ]
  },
  {
   "cell_type": "code",
   "execution_count": 11,
   "id": "5b0f8b04",
   "metadata": {},
   "outputs": [],
   "source": [
    "c_sharp_words = clean(' '.join(df[df.language == 'C#'].readme_contents))"
   ]
  },
  {
   "cell_type": "code",
   "execution_count": 12,
   "id": "b85afdda",
   "metadata": {},
   "outputs": [],
   "source": [
    "html_words = clean(' '.join(df[df.language == 'HTML'].readme_contents))"
   ]
  },
  {
   "cell_type": "code",
   "execution_count": 13,
   "id": "f0d4bc5a",
   "metadata": {},
   "outputs": [],
   "source": [
    "javascript_words = clean(' '.join(df[df.language == 'JavaScript'].readme_contents))"
   ]
  },
  {
   "cell_type": "code",
   "execution_count": 14,
   "id": "1db0213f",
   "metadata": {},
   "outputs": [],
   "source": [
    "java_words = clean(' '.join(df[df.language == 'Java'].readme_contents))"
   ]
  },
  {
   "cell_type": "code",
   "execution_count": 15,
   "id": "4d466608",
   "metadata": {},
   "outputs": [],
   "source": [
    "ruby_words = clean(' '.join(df[df.language == 'Ruby'].readme_contents))"
   ]
  },
  {
   "cell_type": "code",
   "execution_count": 16,
   "id": "e01ffe17",
   "metadata": {},
   "outputs": [],
   "source": [
    "shell_words = clean(' '.join(df[df.language == 'Shell'].readme_contents))"
   ]
  },
  {
   "cell_type": "markdown",
   "id": "d8d919b4",
   "metadata": {},
   "source": [
    "### Freq"
   ]
  },
  {
   "cell_type": "code",
   "execution_count": 17,
   "id": "6022c399",
   "metadata": {},
   "outputs": [],
   "source": [
    "python_freq = pd.Series(python_words).value_counts()"
   ]
  },
  {
   "cell_type": "code",
   "execution_count": 18,
   "id": "23d73aac",
   "metadata": {},
   "outputs": [],
   "source": [
    "c_sharp_freq = pd.Series(c_sharp_words).value_counts()"
   ]
  },
  {
   "cell_type": "code",
   "execution_count": 19,
   "id": "70e6a165",
   "metadata": {},
   "outputs": [],
   "source": [
    "html_freq = pd.Series(html_words).value_counts()"
   ]
  },
  {
   "cell_type": "code",
   "execution_count": 20,
   "id": "42a06042",
   "metadata": {},
   "outputs": [],
   "source": [
    "javascript_freq = pd.Series(javascript_words).value_counts()"
   ]
  },
  {
   "cell_type": "code",
   "execution_count": 21,
   "id": "c980271d",
   "metadata": {},
   "outputs": [],
   "source": [
    "java_freq = pd.Series(java_words).value_counts()"
   ]
  },
  {
   "cell_type": "code",
   "execution_count": 22,
   "id": "ae5f807a",
   "metadata": {},
   "outputs": [
    {
     "name": "stderr",
     "output_type": "stream",
     "text": [
      "<ipython-input-22-3c920b4893cb>:1: DeprecationWarning: The default dtype for empty Series will be 'object' instead of 'float64' in a future version. Specify a dtype explicitly to silence this warning.\n",
      "  ruby_freq = pd.Series(ruby_words).value_counts()\n"
     ]
    }
   ],
   "source": [
    "ruby_freq = pd.Series(ruby_words).value_counts()"
   ]
  },
  {
   "cell_type": "code",
   "execution_count": 23,
   "id": "aaefea21",
   "metadata": {},
   "outputs": [
    {
     "name": "stderr",
     "output_type": "stream",
     "text": [
      "<ipython-input-23-84670517d0d1>:1: DeprecationWarning: The default dtype for empty Series will be 'object' instead of 'float64' in a future version. Specify a dtype explicitly to silence this warning.\n",
      "  shell_freq = pd.Series(shell_words).value_counts()\n"
     ]
    }
   ],
   "source": [
    "shell_freq = pd.Series(shell_words).value_counts()"
   ]
  },
  {
   "cell_type": "code",
   "execution_count": 24,
   "id": "b842ef00",
   "metadata": {},
   "outputs": [
    {
     "data": {
      "text/plain": [
       "yes        1639\n",
       "unknown     926\n",
       "apikey      573\n",
       "video       489\n",
       "python      447\n",
       "dtype: int64"
      ]
     },
     "execution_count": 24,
     "metadata": {},
     "output_type": "execute_result"
    }
   ],
   "source": [
    "python_freq.head()"
   ]
  },
  {
   "cell_type": "code",
   "execution_count": 25,
   "id": "a597117a",
   "metadata": {},
   "outputs": [
    {
     "data": {
      "text/plain": [
       "new       192\n",
       "c         188\n",
       "use       186\n",
       "var       185\n",
       "csharp    156\n",
       "dtype: int64"
      ]
     },
     "execution_count": 25,
     "metadata": {},
     "output_type": "execute_result"
    }
   ],
   "source": [
    "c_sharp_freq.head()"
   ]
  },
  {
   "cell_type": "code",
   "execution_count": 26,
   "id": "4bae7ba7",
   "metadata": {},
   "outputs": [
    {
     "data": {
      "text/plain": [
       "html        97\n",
       "file        76\n",
       "use         76\n",
       "15001700    62\n",
       "dom         51\n",
       "dtype: int64"
      ]
     },
     "execution_count": 26,
     "metadata": {},
     "output_type": "execute_result"
    }
   ],
   "source": [
    "html_freq.head()"
   ]
  },
  {
   "cell_type": "code",
   "execution_count": 27,
   "id": "7a974062",
   "metadata": {},
   "outputs": [
    {
     "data": {
      "text/plain": [
       "javascript    309\n",
       "function      276\n",
       "const         261\n",
       "1             240\n",
       "bad           205\n",
       "dtype: int64"
      ]
     },
     "execution_count": 27,
     "metadata": {},
     "output_type": "execute_result"
    }
   ],
   "source": [
    "javascript_freq.head()"
   ]
  },
  {
   "cell_type": "code",
   "execution_count": 28,
   "id": "b8765162",
   "metadata": {},
   "outputs": [
    {
     "data": {
      "text/plain": [
       "altbr           189\n",
       "aligncentera    189\n",
       "width100px      189\n",
       "td              189\n",
       "java            177\n",
       "dtype: int64"
      ]
     },
     "execution_count": 28,
     "metadata": {},
     "output_type": "execute_result"
    }
   ],
   "source": [
    "java_freq.head()"
   ]
  },
  {
   "cell_type": "markdown",
   "id": "e94fd3e4",
   "metadata": {},
   "source": [
    "### Ruby and Shell only have one observation so we can either drop or go find more"
   ]
  },
  {
   "cell_type": "code",
   "execution_count": 29,
   "id": "45d1825b",
   "metadata": {},
   "outputs": [
    {
     "data": {
      "text/plain": [
       "Series([], dtype: int64)"
      ]
     },
     "execution_count": 29,
     "metadata": {},
     "output_type": "execute_result"
    }
   ],
   "source": [
    "ruby_freq.head()"
   ]
  },
  {
   "cell_type": "code",
   "execution_count": 30,
   "id": "6d8748f2",
   "metadata": {},
   "outputs": [
    {
     "data": {
      "text/plain": [
       "Series([], dtype: int64)"
      ]
     },
     "execution_count": 30,
     "metadata": {},
     "output_type": "execute_result"
    }
   ],
   "source": [
    "shell_freq.head()"
   ]
  },
  {
   "cell_type": "markdown",
   "id": "683dfa0d-0b60-408e-9c61-a9d66327a2c4",
   "metadata": {},
   "source": [
    "# Explore on Train "
   ]
  },
  {
   "cell_type": "code",
   "execution_count": 31,
   "id": "2f69f178",
   "metadata": {},
   "outputs": [
    {
     "data": {
      "text/html": [
       "<div>\n",
       "<style scoped>\n",
       "    .dataframe tbody tr th:only-of-type {\n",
       "        vertical-align: middle;\n",
       "    }\n",
       "\n",
       "    .dataframe tbody tr th {\n",
       "        vertical-align: top;\n",
       "    }\n",
       "\n",
       "    .dataframe thead th {\n",
       "        text-align: right;\n",
       "    }\n",
       "</style>\n",
       "<table border=\"1\" class=\"dataframe\">\n",
       "  <thead>\n",
       "    <tr style=\"text-align: right;\">\n",
       "      <th></th>\n",
       "      <th>repo</th>\n",
       "      <th>language</th>\n",
       "      <th>readme_contents</th>\n",
       "      <th>clean</th>\n",
       "      <th>stemmed</th>\n",
       "      <th>lemmatized</th>\n",
       "    </tr>\n",
       "  </thead>\n",
       "  <tbody>\n",
       "    <tr>\n",
       "      <th>74</th>\n",
       "      <td>Ryujinx/Ryujinx</td>\n",
       "      <td>C#</td>\n",
       "      <td>\\n&lt;h1&gt;\\n    &lt;img src=\"https://i.imgur.com/G6Ml...</td>\n",
       "      <td>h1 img srchttpsiimgurcomg6mlecopng ryujinx hre...</td>\n",
       "      <td>h1 img srchttpsiimgurcomg6mlecopng ryujinx hre...</td>\n",
       "      <td>h1 img srchttpsiimgurcomg6mlecopng ryujinx hre...</td>\n",
       "    </tr>\n",
       "    <tr>\n",
       "      <th>71</th>\n",
       "      <td>egametang/ET</td>\n",
       "      <td>C#</td>\n",
       "      <td># [中文](https://github.com/egametang/Egametang/...</td>\n",
       "      <td>httpsgithubcomegametangegametangblobmasterread...</td>\n",
       "      <td>httpsgithubcomegametangegametangblobmasterread...</td>\n",
       "      <td>httpsgithubcomegametangegametangblobmasterread...</td>\n",
       "    </tr>\n",
       "    <tr>\n",
       "      <th>89</th>\n",
       "      <td>bombomby/optick</td>\n",
       "      <td>C#</td>\n",
       "      <td># [Optick: C++ Profiler For Games](https://opt...</td>\n",
       "      <td>optick c profiler gameshttpsoptickdev githubht...</td>\n",
       "      <td>optick c profil gameshttpsoptickdev githubhttp...</td>\n",
       "      <td>optick c profiler gameshttpsoptickdev githubht...</td>\n",
       "    </tr>\n",
       "    <tr>\n",
       "      <th>1</th>\n",
       "      <td>cl2333/Grokking-the-Coding-Interview-Patterns-...</td>\n",
       "      <td>Python</td>\n",
       "      <td># [Grokking-the-Coding-Interview-Patterns-for-...</td>\n",
       "      <td>grokkingthecodinginterviewpatternsforcodingque...</td>\n",
       "      <td>grokkingthecodinginterviewpatternsforcodingque...</td>\n",
       "      <td>grokkingthecodinginterviewpatternsforcodingque...</td>\n",
       "    </tr>\n",
       "    <tr>\n",
       "      <th>100</th>\n",
       "      <td>gustavoguanabara/html-css</td>\n",
       "      <td>HTML</td>\n",
       "      <td>&lt;img src=\"imagens/mascote.png\" align=\"right\" w...</td>\n",
       "      <td>img srcimagensmascotepng alignright width300 c...</td>\n",
       "      <td>img srcimagensmascotepng alignright width300 c...</td>\n",
       "      <td>img srcimagensmascotepng alignright width300 c...</td>\n",
       "    </tr>\n",
       "  </tbody>\n",
       "</table>\n",
       "</div>"
      ],
      "text/plain": [
       "                                                  repo language  \\\n",
       "74                                     Ryujinx/Ryujinx       C#   \n",
       "71                                        egametang/ET       C#   \n",
       "89                                     bombomby/optick       C#   \n",
       "1    cl2333/Grokking-the-Coding-Interview-Patterns-...   Python   \n",
       "100                          gustavoguanabara/html-css     HTML   \n",
       "\n",
       "                                       readme_contents  \\\n",
       "74   \\n<h1>\\n    <img src=\"https://i.imgur.com/G6Ml...   \n",
       "71   # [中文](https://github.com/egametang/Egametang/...   \n",
       "89   # [Optick: C++ Profiler For Games](https://opt...   \n",
       "1    # [Grokking-the-Coding-Interview-Patterns-for-...   \n",
       "100  <img src=\"imagens/mascote.png\" align=\"right\" w...   \n",
       "\n",
       "                                                 clean  \\\n",
       "74   h1 img srchttpsiimgurcomg6mlecopng ryujinx hre...   \n",
       "71   httpsgithubcomegametangegametangblobmasterread...   \n",
       "89   optick c profiler gameshttpsoptickdev githubht...   \n",
       "1    grokkingthecodinginterviewpatternsforcodingque...   \n",
       "100  img srcimagensmascotepng alignright width300 c...   \n",
       "\n",
       "                                               stemmed  \\\n",
       "74   h1 img srchttpsiimgurcomg6mlecopng ryujinx hre...   \n",
       "71   httpsgithubcomegametangegametangblobmasterread...   \n",
       "89   optick c profil gameshttpsoptickdev githubhttp...   \n",
       "1    grokkingthecodinginterviewpatternsforcodingque...   \n",
       "100  img srcimagensmascotepng alignright width300 c...   \n",
       "\n",
       "                                            lemmatized  \n",
       "74   h1 img srchttpsiimgurcomg6mlecopng ryujinx hre...  \n",
       "71   httpsgithubcomegametangegametangblobmasterread...  \n",
       "89   optick c profiler gameshttpsoptickdev githubht...  \n",
       "1    grokkingthecodinginterviewpatternsforcodingque...  \n",
       "100  img srcimagensmascotepng alignright width300 c...  "
      ]
     },
     "execution_count": 31,
     "metadata": {},
     "output_type": "execute_result"
    }
   ],
   "source": [
    "train.head()"
   ]
  },
  {
   "cell_type": "code",
   "execution_count": 32,
   "id": "baf5059a-6638-4054-9c9e-5c57b8ef49b9",
   "metadata": {
    "collapsed": true,
    "jupyter": {
     "outputs_hidden": true
    },
    "tags": []
   },
   "outputs": [
    {
     "data": {
      "text/plain": [
       "\"nostalgiaforinfin trade strategi freqtradehttpswwwfreqtradeio crypto bot clone repositori plan clone repositori use strategi regular git clone howev plan run addit strategi run test suit need clone repositori ' submodul newer version git bash git clone recursesubmodul httpsgithubcomiterativvnostalgiaforinfinitygit checkoutpath older version git bash git clone recurs httpsgithubcomiterativvnostalgiaforinfinitygit checkoutpath exist checkout git submodul updat remot checkout chang strategi add strategi userdatastrategiesuserdatastrategi folder also dockercomposeymldockercomposeyml file strategylist add strategi list gener recommend optim perform suggest use 4 6 open trade unlimit stake pairlist 40 80 pair volum pairlist work well prefer stabl coin usdt busd etc pair instead btc eth pair highli recommend blacklist leverag token bull bear etc ensur ' overrid variabl configjson especi timefram must 5m usesellsign must set true set sellprofitonli must set fals set ignoreroiifbuysign must set true set donat absolut requir howev accept token appreci btc bc1qvflsvddkmxh7eqhc4jyu5z5k6xcw3ay8jl49sk eth erc20 0x83d3cfb8001bdc5d2211cbebb8cb3461e5f7ec91 bep20bsc eth bnb 0x86a0b21a20b39d16424b7c8003e4a7e12d78abe referr link like help also use follow link sign variou exchang binanc httpsaccountsbinancecomenregisterref37365811 kucoin httpswwwkucoincomucentersignuprcoderjtlz9k huobi httpswwwhuobicomenustopicdoublerewardinvitecodeubpt2223\""
      ]
     },
     "execution_count": 32,
     "metadata": {},
     "output_type": "execute_result"
    }
   ],
   "source": [
    "train.stemmed[0]"
   ]
  },
  {
   "cell_type": "code",
   "execution_count": 33,
   "id": "2213db45-7645-4dc7-8fc2-c1f914b4f156",
   "metadata": {
    "collapsed": true,
    "jupyter": {
     "outputs_hidden": true
    },
    "tags": []
   },
   "outputs": [
    {
     "data": {
      "text/plain": [
       "\"nostalgiaforinfinity trading strategy freqtradehttpswwwfreqtradeio crypto bot clone repository plan clone repository use strategy regular git clone however plan running additional strategies run test suite need clone repository ' submodules newer versions git bash git clone recursesubmodules httpsgithubcomiterativvnostalgiaforinfinitygit checkoutpath older versions git bash git clone recursive httpsgithubcomiterativvnostalgiaforinfinitygit checkoutpath existing checkouts git submodule update remote checkout change strategy add strategies userdatastrategiesuserdatastrategies folder also dockercomposeymldockercomposeyml file strategylist add strategy list general recommendations optimal performance suggested use 4 6 open trades unlimited stake pairlist 40 80 pairs volume pairlist works well prefer stable coin usdt busd etc pairs instead btc eth pairs highly recommended blacklist leveraged tokens bull bear etc ensure ' override variables configjson especially timeframe must 5m usesellsignal must set true set sellprofitonly must set false set ignoreroiifbuysignal must set true set donations absolutely required however accepted token appreciation btc bc1qvflsvddkmxh7eqhc4jyu5z5k6xcw3ay8jl49sk eth erc20 0x83d3cfb8001bdc5d2211cbebb8cb3461e5f7ec91 bep20bsc eth bnb 0x86a0b21a20b39d16424b7c8003e4a7e12d78abee referral links like help also use following links sign various exchanges binance httpsaccountsbinancecomenregisterref37365811 kucoin httpswwwkucoincomucentersignuprcoderjtlz9k huobi httpswwwhuobicomenustopicdoublerewardinvitecodeubpt2223\""
      ]
     },
     "execution_count": 33,
     "metadata": {},
     "output_type": "execute_result"
    }
   ],
   "source": [
    "train.clean[0]"
   ]
  },
  {
   "cell_type": "code",
   "execution_count": 34,
   "id": "0a212de0-ffb0-4934-8b51-0c2434401898",
   "metadata": {
    "collapsed": true,
    "jupyter": {
     "outputs_hidden": true
    },
    "tags": []
   },
   "outputs": [
    {
     "data": {
      "text/plain": [
       "\"nostalgiaforinfinity trading strategy freqtradehttpswwwfreqtradeio crypto bot clone repository plan clone repository use strategy regular git clone however plan running additional strategy run test suite need clone repository ' submodules newer version git bash git clone recursesubmodules httpsgithubcomiterativvnostalgiaforinfinitygit checkoutpath older version git bash git clone recursive httpsgithubcomiterativvnostalgiaforinfinitygit checkoutpath existing checkout git submodule update remote checkout change strategy add strategy userdatastrategiesuserdatastrategies folder also dockercomposeymldockercomposeyml file strategylist add strategy list general recommendation optimal performance suggested use 4 6 open trade unlimited stake pairlist 40 80 pair volume pairlist work well prefer stable coin usdt busd etc pair instead btc eth pair highly recommended blacklist leveraged token bull bear etc ensure ' override variable configjson especially timeframe must 5m usesellsignal must set true set sellprofitonly must set false set ignoreroiifbuysignal must set true set donation absolutely required however accepted token appreciation btc bc1qvflsvddkmxh7eqhc4jyu5z5k6xcw3ay8jl49sk eth erc20 0x83d3cfb8001bdc5d2211cbebb8cb3461e5f7ec91 bep20bsc eth bnb 0x86a0b21a20b39d16424b7c8003e4a7e12d78abee referral link like help also use following link sign various exchange binance httpsaccountsbinancecomenregisterref37365811 kucoin httpswwwkucoincomucentersignuprcoderjtlz9k huobi httpswwwhuobicomenustopicdoublerewardinvitecodeubpt2223\""
      ]
     },
     "execution_count": 34,
     "metadata": {},
     "output_type": "execute_result"
    }
   ],
   "source": [
    "train.lemmatized[0]"
   ]
  },
  {
   "cell_type": "code",
   "execution_count": 35,
   "id": "8dcd7bcb-428f-453e-894f-8c2341427d7a",
   "metadata": {},
   "outputs": [
    {
     "data": {
      "text/html": [
       "<div>\n",
       "<style scoped>\n",
       "    .dataframe tbody tr th:only-of-type {\n",
       "        vertical-align: middle;\n",
       "    }\n",
       "\n",
       "    .dataframe tbody tr th {\n",
       "        vertical-align: top;\n",
       "    }\n",
       "\n",
       "    .dataframe thead th {\n",
       "        text-align: right;\n",
       "    }\n",
       "</style>\n",
       "<table border=\"1\" class=\"dataframe\">\n",
       "  <thead>\n",
       "    <tr style=\"text-align: right;\">\n",
       "      <th></th>\n",
       "      <th>n</th>\n",
       "      <th>percent</th>\n",
       "    </tr>\n",
       "  </thead>\n",
       "  <tbody>\n",
       "    <tr>\n",
       "      <th>HTML</th>\n",
       "      <td>16</td>\n",
       "      <td>0.275862</td>\n",
       "    </tr>\n",
       "    <tr>\n",
       "      <th>C#</th>\n",
       "      <td>15</td>\n",
       "      <td>0.258621</td>\n",
       "    </tr>\n",
       "    <tr>\n",
       "      <th>Python</th>\n",
       "      <td>14</td>\n",
       "      <td>0.241379</td>\n",
       "    </tr>\n",
       "    <tr>\n",
       "      <th>JavaScript</th>\n",
       "      <td>13</td>\n",
       "      <td>0.224138</td>\n",
       "    </tr>\n",
       "  </tbody>\n",
       "</table>\n",
       "</div>"
      ],
      "text/plain": [
       "             n   percent\n",
       "HTML        16  0.275862\n",
       "C#          15  0.258621\n",
       "Python      14  0.241379\n",
       "JavaScript  13  0.224138"
      ]
     },
     "execution_count": 35,
     "metadata": {},
     "output_type": "execute_result"
    }
   ],
   "source": [
    "labels = pd.concat([train.language.value_counts(),\n",
    "                    train.language.value_counts(normalize=True)], axis=1)\n",
    "labels.columns = ['n', 'percent']\n",
    "labels"
   ]
  },
  {
   "cell_type": "code",
   "execution_count": 37,
   "id": "9d3f5451-4b08-42ab-945f-0300db5c0c10",
   "metadata": {},
   "outputs": [
    {
     "data": {
      "text/plain": [
       "Index(['repo', 'language', 'readme_contents', 'clean', 'stemmed',\n",
       "       'lemmatized'],\n",
       "      dtype='object')"
      ]
     },
     "execution_count": 37,
     "metadata": {},
     "output_type": "execute_result"
    }
   ],
   "source": [
    "train.columns"
   ]
  },
  {
   "cell_type": "code",
   "execution_count": 62,
   "id": "6b9a1bd6-ba8e-4bb3-837f-0353f14a1052",
   "metadata": {},
   "outputs": [],
   "source": [
    "ADDITIONAL_STOPWORDS = ['9']\n",
    "\n",
    "def clean_up(text):\n",
    "    'A simple function to cleanup text data'\n",
    "    wnl = nltk.stem.WordNetLemmatizer()\n",
    "    stopwords = nltk.corpus.stopwords.words('english') + ADDITIONAL_STOPWORDS\n",
    "    text = (unicodedata.normalize('NFKD', text)\n",
    "             .encode('ascii', 'ignore')\n",
    "             .decode('utf-8', 'ignore')\n",
    "             .lower())\n",
    "    words = re.sub(r'[^\\w\\s]', '', text).split()\n",
    "    return [wnl.lemmatize(word) for word in words if word not in stopwords]"
   ]
  },
  {
   "cell_type": "code",
   "execution_count": 63,
   "id": "7689b532-7476-40e7-a5d2-bcd0b8ac4c5f",
   "metadata": {},
   "outputs": [
    {
     "data": {
      "text/html": [
       "<div>\n",
       "<style scoped>\n",
       "    .dataframe tbody tr th:only-of-type {\n",
       "        vertical-align: middle;\n",
       "    }\n",
       "\n",
       "    .dataframe tbody tr th {\n",
       "        vertical-align: top;\n",
       "    }\n",
       "\n",
       "    .dataframe thead th {\n",
       "        text-align: right;\n",
       "    }\n",
       "</style>\n",
       "<table border=\"1\" class=\"dataframe\">\n",
       "  <thead>\n",
       "    <tr style=\"text-align: right;\">\n",
       "      <th></th>\n",
       "      <th>n</th>\n",
       "      <th>percent</th>\n",
       "    </tr>\n",
       "  </thead>\n",
       "  <tbody>\n",
       "    <tr>\n",
       "      <th>HTML</th>\n",
       "      <td>16</td>\n",
       "      <td>0.275862</td>\n",
       "    </tr>\n",
       "    <tr>\n",
       "      <th>C#</th>\n",
       "      <td>15</td>\n",
       "      <td>0.258621</td>\n",
       "    </tr>\n",
       "    <tr>\n",
       "      <th>Python</th>\n",
       "      <td>14</td>\n",
       "      <td>0.241379</td>\n",
       "    </tr>\n",
       "    <tr>\n",
       "      <th>JavaScript</th>\n",
       "      <td>13</td>\n",
       "      <td>0.224138</td>\n",
       "    </tr>\n",
       "  </tbody>\n",
       "</table>\n",
       "</div>"
      ],
      "text/plain": [
       "             n   percent\n",
       "HTML        16  0.275862\n",
       "C#          15  0.258621\n",
       "Python      14  0.241379\n",
       "JavaScript  13  0.224138"
      ]
     },
     "execution_count": 63,
     "metadata": {},
     "output_type": "execute_result"
    }
   ],
   "source": [
    "def show_counts_and_ratios(df, column):\n",
    "    \"\"\"\n",
    "    Takes in a dataframe and a string of a single column\n",
    "    Returns a dataframe with absolute value counts and percentage value counts\n",
    "    \"\"\"\n",
    "    labels = pd.concat([train[column].value_counts(),\n",
    "                    train[column].value_counts(normalize=True)], axis=1)\n",
    "    labels.columns = ['n', 'percent']\n",
    "    labels\n",
    "    return labels\n",
    "\n",
    "show_counts_and_ratios(df, \"language\")"
   ]
  },
  {
   "cell_type": "code",
   "execution_count": 105,
   "id": "887d8ca5-b59c-447c-b1ae-c0fee5d65424",
   "metadata": {},
   "outputs": [],
   "source": [
    "html_words = clean_up(' '.join(train[train.language == 'HTML'].readme_contents))"
   ]
  },
  {
   "cell_type": "code",
   "execution_count": 106,
   "id": "1864456d-d03c-4aa0-9411-b85504dbdfea",
   "metadata": {},
   "outputs": [],
   "source": [
    "html_freq = pd.DataFrame(html_words)"
   ]
  },
  {
   "cell_type": "code",
   "execution_count": 107,
   "id": "1ce3025b-1813-48da-939d-086a7326e93c",
   "metadata": {},
   "outputs": [
    {
     "data": {
      "text/plain": [
       "15001700                    62\n",
       "html                        60\n",
       "email                       44\n",
       "use                         39\n",
       "20002200                    38\n",
       "                            ..\n",
       "gitter                       1\n",
       "githubs                      1\n",
       "githttpgitscmcom             1\n",
       "gitgithubcommrmrshtmlgit     1\n",
       "instituicoes                 1\n",
       "Length: 1644, dtype: int64"
      ]
     },
     "execution_count": 107,
     "metadata": {},
     "output_type": "execute_result"
    }
   ],
   "source": [
    "html_freq.value_counts()"
   ]
  },
  {
   "cell_type": "code",
   "execution_count": 74,
   "id": "d1f21cc9-bba9-4026-a051-1b48d90990d9",
   "metadata": {},
   "outputs": [],
   "source": [
    "python_words = clean_up(' '.join(train[train.language == 'Python'].stemmed))"
   ]
  },
  {
   "cell_type": "code",
   "execution_count": 75,
   "id": "34319d87-571d-4d7b-bf93-3030d5902dbf",
   "metadata": {},
   "outputs": [],
   "source": [
    "p_words = pd.DataFrame(python_words)"
   ]
  },
  {
   "cell_type": "code",
   "execution_count": 76,
   "id": "f4f2d8b1-d773-44e1-9709-2696c7994837",
   "metadata": {},
   "outputs": [
    {
     "data": {
      "text/plain": [
       "use                                                                                                     209\n",
       "video                                                                                                   202\n",
       "youtubedl                                                                                               154\n",
       "download                                                                                                154\n",
       "file                                                                                                    139\n",
       "                                                                                                       ... \n",
       "filterclass                                                                                               1\n",
       "nearli                                                                                                    1\n",
       "near                                                                                                      1\n",
       "ncfoxnts3dhmrg2fupnr9mpv45nlahtaioowihote08wawn0w0at4v22f8xg3m9jupy0bxkr96rs09t0lwtkd33236j3ta3m4vv2      1\n",
       "jsonlik                                                                                                   1\n",
       "Length: 3694, dtype: int64"
      ]
     },
     "execution_count": 76,
     "metadata": {},
     "output_type": "execute_result"
    }
   ],
   "source": [
    "p_words.value_counts()"
   ]
  },
  {
   "cell_type": "code",
   "execution_count": 89,
   "id": "a2420ff2-138d-4dfc-b7c7-89457e053a45",
   "metadata": {},
   "outputs": [],
   "source": [
    "html_words = clean_up(' '.join(train[train.language == 'HTML'].clean))\n",
    "python_words = clean_up(' '.join(train[train.language == 'Python'].clean))\n",
    "C_sharp_words = clean_up(' '.join(train[train.language == 'C#'].clean))\n",
    "JavaScript_words = clean_up(' '.join(train[train.language == 'JavaScript'].clean))\n",
    "\n",
    "all_words = clean_up(' '.join(train.clean))"
   ]
  },
  {
   "cell_type": "code",
   "execution_count": 94,
   "id": "7b2c7776-b041-4955-bdf0-122fa71a3dfe",
   "metadata": {},
   "outputs": [
    {
     "name": "stdout",
     "output_type": "stream",
     "text": [
      "Top Ten Words for HMTL ReadMEs\n",
      "9           228\n",
      "15001700     62\n",
      "html         60\n",
      "email        44\n",
      "use          39\n",
      "20002200     38\n",
      "html5        31\n",
      "template     26\n",
      "file         26\n",
      "cs           20\n",
      "dtype: int64\n",
      "--------------\n",
      "Top Ten Words for Python ReadMEs\n",
      "video        202\n",
      "youtubedl    154\n",
      "file         135\n",
      "use          117\n",
      "format       102\n",
      "bot          101\n",
      "download      97\n",
      "python        96\n",
      "example       81\n",
      "message       78\n",
      "dtype: int64\n",
      "--------------\n",
      "Top Ten Words for C# ReadMEs\n",
      "9              262\n",
      "use            130\n",
      "c              128\n",
      "new            124\n",
      "type           113\n",
      "var            110\n",
      "public         103\n",
      "messagepack    103\n",
      "support         89\n",
      "using           88\n",
      "dtype: int64\n",
      "--------------\n",
      "Top Ten Words for JavaScript ReadMEs\n",
      "javascript    264\n",
      "const         263\n",
      "function      226\n",
      "bad           203\n",
      "1             191\n",
      "good          184\n",
      "return        126\n",
      "use           124\n",
      "foo           116\n",
      "x             110\n",
      "dtype: int64\n",
      "--------------\n",
      "Top Ten Words for ALL ReadMEs\n",
      "9             609\n",
      "use           410\n",
      "function      289\n",
      "javascript    276\n",
      "const         263\n",
      "1             261\n",
      "file          244\n",
      "code          211\n",
      "new           206\n",
      "bad           205\n",
      "dtype: int64\n"
     ]
    }
   ],
   "source": [
    "html_freq = pd.Series(html_words).value_counts()\n",
    "python_freq = pd.Series(python_words).value_counts()\n",
    "C_sharp_freq = pd.Series(C_sharp_words).value_counts()\n",
    "JavaScript_freq = pd.Series(JavaScript_words).value_counts()\n",
    "all_freq = pd.Series(all_words).value_counts()\n",
    "\n",
    "\n",
    "\n",
    "print('Top Ten Words for HMTL ReadMEs')\n",
    "print(html_freq.head(10))\n",
    "print (\"--------------\")\n",
    "print('Top Ten Words for Python ReadMEs')\n",
    "print(python_freq.head(10))\n",
    "print (\"--------------\")\n",
    "print('Top Ten Words for C# ReadMEs')\n",
    "print(C_sharp_freq.head(10))\n",
    "print (\"--------------\")\n",
    "print('Top Ten Words for JavaScript ReadMEs')\n",
    "print(JavaScript_freq.head(10))\n",
    "print (\"--------------\")\n",
    "print('Top Ten Words for ALL ReadMEs')\n",
    "print(all_freq.head(10))"
   ]
  },
  {
   "cell_type": "code",
   "execution_count": 92,
   "id": "8570cf5b-a57d-43bc-9304-adf9ddf46c76",
   "metadata": {},
   "outputs": [],
   "source": [
    "#Josh's code\n",
    "#words = []\n",
    "#for word in list(train[train.language == 'Python'].lemmatized):\n",
    "#    words.extend(word.split())"
   ]
  },
  {
   "cell_type": "code",
   "execution_count": null,
   "id": "2b3a8fef-e448-4263-8eb2-e93eeb905c31",
   "metadata": {},
   "outputs": [],
   "source": [
    "#python_words = pd.DataFrame(words)"
   ]
  },
  {
   "cell_type": "code",
   "execution_count": 93,
   "id": "eec58e5d-1f81-4f7d-a4c0-3e43d353ae89",
   "metadata": {},
   "outputs": [],
   "source": [
    "#python_words.value_counts()"
   ]
  },
  {
   "cell_type": "markdown",
   "id": "e05a86b4-6587-4696-a6bd-201c49ef1ecc",
   "metadata": {},
   "source": [
    "#### TO DO:  Hypotheses\n",
    "#### possible hypotheses:  \n",
    "    - does the average length of each readme vary between the different languages?\n",
    "    - do the number of times readmes refer to the language/average number each readme refers to itself vary between languages?\n",
    "    - does one language have more numbers than letters?\n",
    "\n"
   ]
  },
  {
   "cell_type": "code",
   "execution_count": 95,
   "id": "ebb1a5ac-4e20-44c9-960d-21b4da8a861b",
   "metadata": {},
   "outputs": [],
   "source": [
    "html_words_stemmed = clean_up(' '.join(train[train.language == 'HTML'].stemmed))\n",
    "python_words_stemmed = clean_up(' '.join(train[train.language == 'Python'].stemmed))\n",
    "C_sharp_words_stemmed = clean_up(' '.join(train[train.language == 'C#'].stemmed))\n",
    "JavaScript_words_stemmed = clean_up(' '.join(train[train.language == 'JavaScript'].stemmed))\n",
    "\n",
    "all_words_stemmed = clean_up(' '.join(train.stemmed))"
   ]
  },
  {
   "cell_type": "code",
   "execution_count": 104,
   "id": "b9767120-8414-457e-bf5e-0a08c8340a1f",
   "metadata": {},
   "outputs": [
    {
     "name": "stdout",
     "output_type": "stream",
     "text": [
      "Top Ten Words for HMTL ReadMEs (stemmed)\n",
      "9           228\n",
      "use          62\n",
      "15001700     62\n",
      "html         60\n",
      "email        44\n",
      "20002200     38\n",
      "html5        31\n",
      "test         27\n",
      "templat      26\n",
      "file         26\n",
      "dtype: int64\n",
      "--------------\n",
      "Top Ten Words for Python ReadMEs (stemmed)\n",
      "use          209\n",
      "video        202\n",
      "download     154\n",
      "youtubedl    154\n",
      "file         139\n",
      "format       108\n",
      "bot          101\n",
      "python        96\n",
      "exampl        81\n",
      "messag        78\n",
      "dtype: int64\n",
      "--------------\n",
      "Top Ten Words for C# ReadMEs (stemmed)\n",
      "use            303\n",
      "9              262\n",
      "c              128\n",
      "new            124\n",
      "type           117\n",
      "support        113\n",
      "var            110\n",
      "messagepack    103\n",
      "public         103\n",
      "serial         100\n",
      "dtype: int64\n",
      "--------------\n",
      "Top Ten Words for JavaScript ReadMEs (stemmed)\n",
      "javascript    265\n",
      "const         264\n",
      "function      233\n",
      "bad           203\n",
      "use           200\n",
      "1             191\n",
      "good          184\n",
      "return        132\n",
      "foo           116\n",
      "x             110\n",
      "dtype: int64\n",
      "--------------\n",
      "Top Ten Words for ALL ReadMEs (stemmed)\n",
      "use           774\n",
      "9             609\n",
      "function      300\n",
      "javascript    277\n",
      "const         264\n",
      "1             261\n",
      "file          248\n",
      "code          222\n",
      "support       218\n",
      "new           206\n",
      "dtype: int64\n"
     ]
    }
   ],
   "source": [
    "html_stemmed_freq = pd.Series(html_words_stemmed).value_counts()\n",
    "python_stemmed_freq = pd.Series(python_words_stemmed).value_counts()\n",
    "C_sharp_stemmed_freq = pd.Series(C_sharp_words_stemmed).value_counts()\n",
    "JavaScript_stemmed_freq = pd.Series(JavaScript_words_stemmed).value_counts()\n",
    "all_stemmed_freq = pd.Series(all_words_stemmed).value_counts()\n",
    "\n",
    "\n",
    "\n",
    "print('Top Ten Words for HMTL ReadMEs (stemmed)')\n",
    "print(html_stemmed_freq.head(10))\n",
    "print (\"--------------\")\n",
    "print('Top Ten Words for Python ReadMEs (stemmed)')\n",
    "print(python_stemmed_freq.head(10))\n",
    "print (\"--------------\")\n",
    "print('Top Ten Words for C# ReadMEs (stemmed)')\n",
    "print(C_sharp_stemmed_freq.head(10))\n",
    "print (\"--------------\")\n",
    "print('Top Ten Words for JavaScript ReadMEs (stemmed)')\n",
    "print(JavaScript_stemmed_freq.head(10))\n",
    "print (\"--------------\")\n",
    "print('Top Ten Words for ALL ReadMEs (stemmed)')\n",
    "print(all_stemmed_freq.head(10))\n"
   ]
  },
  {
   "cell_type": "code",
   "execution_count": 98,
   "id": "42c119bc-c77b-4c83-9a79-8b6de190b8b6",
   "metadata": {},
   "outputs": [
    {
     "data": {
      "text/plain": [
       "Index(['repo', 'language', 'readme_contents', 'clean', 'stemmed',\n",
       "       'lemmatized'],\n",
       "      dtype='object')"
      ]
     },
     "execution_count": 98,
     "metadata": {},
     "output_type": "execute_result"
    }
   ],
   "source": [
    "train.columns"
   ]
  },
  {
   "cell_type": "code",
   "execution_count": 99,
   "id": "bc08b178-bfff-4480-97d9-735999b81da4",
   "metadata": {},
   "outputs": [],
   "source": [
    "html_words_lemmatized = clean_up(' '.join(train[train.language == 'HTML'].lemmatized))\n",
    "python_words_lemmatized = clean_up(' '.join(train[train.language == 'Python'].lemmatized))\n",
    "C_sharp_words_lemmatized = clean_up(' '.join(train[train.language == 'C#'].lemmatized))\n",
    "JavaScript_words_lemmatized = clean_up(' '.join(train[train.language == 'JavaScript'].lemmatized))\n",
    "\n",
    "all_words_lemmatized = clean_up(' '.join(train.lemmatized))"
   ]
  },
  {
   "cell_type": "code",
   "execution_count": 103,
   "id": "2558f376-29c0-4d29-96a5-7daa4eeceb56",
   "metadata": {},
   "outputs": [
    {
     "name": "stdout",
     "output_type": "stream",
     "text": [
      "Top Ten Words for HMTL ReadMEs (lemmatized)\n",
      "9           228\n",
      "15001700     62\n",
      "html         60\n",
      "email        44\n",
      "use          39\n",
      "20002200     38\n",
      "html5        31\n",
      "template     26\n",
      "file         26\n",
      "c            21\n",
      "dtype: int64\n",
      "--------------\n",
      "Top Ten Words for Python ReadMEs (lemmatized)\n",
      "video        202\n",
      "youtubedl    154\n",
      "file         135\n",
      "use          117\n",
      "format       102\n",
      "bot          101\n",
      "download      97\n",
      "python        96\n",
      "example       81\n",
      "message       78\n",
      "dtype: int64\n",
      "--------------\n",
      "Top Ten Words for C# ReadMEs (lemmatized)\n",
      "9              262\n",
      "use            130\n",
      "c              128\n",
      "new            124\n",
      "type           113\n",
      "var            110\n",
      "public         103\n",
      "messagepack    103\n",
      "support         89\n",
      "using           88\n",
      "dtype: int64\n",
      "--------------\n",
      "Top Ten Words for JavaScript ReadMEs (lemmatized)\n",
      "javascript    264\n",
      "const         263\n",
      "function      226\n",
      "bad           203\n",
      "1             191\n",
      "good          184\n",
      "return        126\n",
      "use           124\n",
      "foo           116\n",
      "x             110\n",
      "dtype: int64\n",
      "--------------\n",
      "Top Ten Words for ALL ReadMEs (lemmatized)\n",
      "9             609\n",
      "use           410\n",
      "function      289\n",
      "javascript    276\n",
      "const         263\n",
      "1             261\n",
      "file          244\n",
      "code          211\n",
      "new           206\n",
      "bad           205\n",
      "dtype: int64\n"
     ]
    }
   ],
   "source": [
    "html_lemmatized_freq = pd.Series(html_words_lemmatized).value_counts()\n",
    "python_lemmatized_freq = pd.Series(python_words_lemmatized).value_counts()\n",
    "C_sharp_lemmatized_freq = pd.Series(C_sharp_words_lemmatized).value_counts()\n",
    "JavaScript_lemmatized_freq = pd.Series(JavaScript_words_lemmatized).value_counts()\n",
    "all_lemmatized_freq = pd.Series(all_words_lemmatized).value_counts()\n",
    "\n",
    "\n",
    "\n",
    "print('Top Ten Words for HMTL ReadMEs (lemmatized)')\n",
    "print(html_lemmatized_freq.head(10))\n",
    "print (\"--------------\")\n",
    "print('Top Ten Words for Python ReadMEs (lemmatized)')\n",
    "print(python_lemmatized_freq.head(10))\n",
    "print (\"--------------\")\n",
    "print('Top Ten Words for C# ReadMEs (lemmatized)')\n",
    "print(C_sharp_lemmatized_freq.head(10))\n",
    "print (\"--------------\")\n",
    "print('Top Ten Words for JavaScript ReadMEs (lemmatized)')\n",
    "print(JavaScript_lemmatized_freq.head(10))\n",
    "print (\"--------------\")\n",
    "print('Top Ten Words for ALL ReadMEs (lemmatized)')\n",
    "print(all_lemmatized_freq.head(10))\n"
   ]
  },
  {
   "cell_type": "markdown",
   "id": "432acca5-d4cd-4541-92ad-251cb8df9c8e",
   "metadata": {},
   "source": [
    "## Takeaways from looking at top ten words:  \n",
    " - There is some crossover for top ten words across the various text (ie: clean, stemmed, lemmatized)\n",
    " - The top ten words are mostly domain specific for each language with a few exceptions\n",
    " - Sometimes there are numeric codes, but they make sense for each language"
   ]
  },
  {
   "cell_type": "markdown",
   "id": "87e672ba-4762-4c55-8daf-5cb2336bf6a2",
   "metadata": {},
   "source": [
    "****\n",
    "## Moving forward, I want to look at the average length of repos for each language."
   ]
  },
  {
   "cell_type": "code",
   "execution_count": 108,
   "id": "bfc68319-dc46-47d4-993b-d7a2161e375d",
   "metadata": {},
   "outputs": [],
   "source": [
    "train['length'] = [len(i) for i in train.clean]"
   ]
  },
  {
   "cell_type": "code",
   "execution_count": 110,
   "id": "ea3d65ff-5130-4d25-be95-941b0648a429",
   "metadata": {},
   "outputs": [
    {
     "name": "stdout",
     "output_type": "stream",
     "text": [
      "The mean character length for HTML ReadME\n",
      "length    2113.25\n",
      "dtype: float64\n",
      "----------------------------\n",
      "The mean character length for Python ReadME\n",
      "length    9971.714286\n",
      "dtype: float64\n",
      "----------------------------\n",
      "The mean character length for C# ReadME\n",
      "length    8590.4\n",
      "dtype: float64\n",
      "----------------------------\n",
      "The mean character length for JavaScript ReadME\n",
      "length    11099.0\n",
      "dtype: float64\n",
      "----------------------------\n"
     ]
    }
   ],
   "source": [
    "print('The mean character length for HTML ReadME')\n",
    "print(train[train.language == 'HTML'].mean())\n",
    "print('----------------------------')\n",
    "print('The mean character length for Python ReadME')\n",
    "print(train[train.language == 'Python'].mean())\n",
    "print('----------------------------')\n",
    "print('The mean character length for C# ReadME')\n",
    "print(train[train.language == 'C#'].mean())\n",
    "print('----------------------------')\n",
    "print('The mean character length for JavaScript ReadME')\n",
    "print(train[train.language == 'JavaScript'].mean())\n",
    "print('----------------------------')"
   ]
  },
  {
   "cell_type": "code",
   "execution_count": 111,
   "id": "0ed28da6-8c86-4d95-981c-ff67cec9e408",
   "metadata": {},
   "outputs": [
    {
     "data": {
      "text/html": [
       "<div>\n",
       "<style scoped>\n",
       "    .dataframe tbody tr th:only-of-type {\n",
       "        vertical-align: middle;\n",
       "    }\n",
       "\n",
       "    .dataframe tbody tr th {\n",
       "        vertical-align: top;\n",
       "    }\n",
       "\n",
       "    .dataframe thead th {\n",
       "        text-align: right;\n",
       "    }\n",
       "</style>\n",
       "<table border=\"1\" class=\"dataframe\">\n",
       "  <thead>\n",
       "    <tr style=\"text-align: right;\">\n",
       "      <th></th>\n",
       "      <th>length</th>\n",
       "    </tr>\n",
       "    <tr>\n",
       "      <th>language</th>\n",
       "      <th></th>\n",
       "    </tr>\n",
       "  </thead>\n",
       "  <tbody>\n",
       "    <tr>\n",
       "      <th>C#</th>\n",
       "      <td>8590.400000</td>\n",
       "    </tr>\n",
       "    <tr>\n",
       "      <th>HTML</th>\n",
       "      <td>2113.250000</td>\n",
       "    </tr>\n",
       "    <tr>\n",
       "      <th>JavaScript</th>\n",
       "      <td>11099.000000</td>\n",
       "    </tr>\n",
       "    <tr>\n",
       "      <th>Python</th>\n",
       "      <td>9971.714286</td>\n",
       "    </tr>\n",
       "  </tbody>\n",
       "</table>\n",
       "</div>"
      ],
      "text/plain": [
       "                  length\n",
       "language                \n",
       "C#           8590.400000\n",
       "HTML         2113.250000\n",
       "JavaScript  11099.000000\n",
       "Python       9971.714286"
      ]
     },
     "execution_count": 111,
     "metadata": {},
     "output_type": "execute_result"
    }
   ],
   "source": [
    "train.groupby(by = 'language').mean()"
   ]
  },
  {
   "cell_type": "markdown",
   "id": "1a0f1e61-f0de-4257-bc33-05ae1bc451cd",
   "metadata": {},
   "source": [
    "## Takeaway looking at character length of ReadMEs:\n",
    " - JavaScript ReadMEs appear to be the longest\n",
    " - Python and C# are fairly similar in length\n",
    " - HTML ReadMEs appear to be the shortest"
   ]
  },
  {
   "cell_type": "code",
   "execution_count": 112,
   "id": "fbde0859-fc06-4272-bd14-e005c98eef2e",
   "metadata": {},
   "outputs": [
    {
     "data": {
      "text/html": [
       "<div>\n",
       "<style scoped>\n",
       "    .dataframe tbody tr th:only-of-type {\n",
       "        vertical-align: middle;\n",
       "    }\n",
       "\n",
       "    .dataframe tbody tr th {\n",
       "        vertical-align: top;\n",
       "    }\n",
       "\n",
       "    .dataframe thead th {\n",
       "        text-align: right;\n",
       "    }\n",
       "</style>\n",
       "<table border=\"1\" class=\"dataframe\">\n",
       "  <thead>\n",
       "    <tr style=\"text-align: right;\">\n",
       "      <th></th>\n",
       "      <th>repo</th>\n",
       "      <th>readme_contents</th>\n",
       "      <th>clean</th>\n",
       "      <th>stemmed</th>\n",
       "      <th>lemmatized</th>\n",
       "      <th>length</th>\n",
       "    </tr>\n",
       "    <tr>\n",
       "      <th>language</th>\n",
       "      <th></th>\n",
       "      <th></th>\n",
       "      <th></th>\n",
       "      <th></th>\n",
       "      <th></th>\n",
       "      <th></th>\n",
       "    </tr>\n",
       "  </thead>\n",
       "  <tbody>\n",
       "    <tr>\n",
       "      <th>C#</th>\n",
       "      <td>15</td>\n",
       "      <td>15</td>\n",
       "      <td>15</td>\n",
       "      <td>15</td>\n",
       "      <td>15</td>\n",
       "      <td>15</td>\n",
       "    </tr>\n",
       "    <tr>\n",
       "      <th>HTML</th>\n",
       "      <td>16</td>\n",
       "      <td>16</td>\n",
       "      <td>16</td>\n",
       "      <td>16</td>\n",
       "      <td>16</td>\n",
       "      <td>16</td>\n",
       "    </tr>\n",
       "    <tr>\n",
       "      <th>JavaScript</th>\n",
       "      <td>13</td>\n",
       "      <td>13</td>\n",
       "      <td>13</td>\n",
       "      <td>13</td>\n",
       "      <td>13</td>\n",
       "      <td>13</td>\n",
       "    </tr>\n",
       "    <tr>\n",
       "      <th>Python</th>\n",
       "      <td>14</td>\n",
       "      <td>14</td>\n",
       "      <td>14</td>\n",
       "      <td>14</td>\n",
       "      <td>14</td>\n",
       "      <td>14</td>\n",
       "    </tr>\n",
       "  </tbody>\n",
       "</table>\n",
       "</div>"
      ],
      "text/plain": [
       "            repo  readme_contents  clean  stemmed  lemmatized  length\n",
       "language                                                             \n",
       "C#            15               15     15       15          15      15\n",
       "HTML          16               16     16       16          16      16\n",
       "JavaScript    13               13     13       13          13      13\n",
       "Python        14               14     14       14          14      14"
      ]
     },
     "execution_count": 112,
     "metadata": {},
     "output_type": "execute_result"
    }
   ],
   "source": [
    "train.groupby(by = 'language').nunique()"
   ]
  },
  {
   "cell_type": "markdown",
   "id": "d7f028a1-b1e7-4c58-9ca7-1212252b5bf8",
   "metadata": {},
   "source": [
    "## Let's take a look at Unique words for each language"
   ]
  },
  {
   "cell_type": "code",
   "execution_count": 122,
   "id": "97627510-881c-4918-901e-44161695e261",
   "metadata": {},
   "outputs": [
    {
     "data": {
      "text/plain": [
       "['img',\n",
       " 'srcimagensmascotepng',\n",
       " 'alignright',\n",
       " 'width300',\n",
       " 'curso',\n",
       " 'de',\n",
       " 'html5',\n",
       " 'e',\n",
       " 'css3',\n",
       " 'material',\n",
       " 'publico',\n",
       " 'para',\n",
       " 'ensino',\n",
       " 'basico',\n",
       " 'de',\n",
       " 'html5',\n",
       " 'e',\n",
       " 'css3',\n",
       " 'para',\n",
       " 'alunos',\n",
       " 'iniciantes',\n",
       " 'acesse',\n",
       " 'material',\n",
       " 'em',\n",
       " 'pdf',\n",
       " 'analise',\n",
       " 'codigo',\n",
       " 'disponibilizado',\n",
       " 'para',\n",
       " 'cada',\n",
       " 'exercicio',\n",
       " 'e',\n",
       " 'vejaos',\n",
       " 'funcionando',\n",
       " 'em',\n",
       " 'execucao',\n",
       " 'direta',\n",
       " 'via',\n",
       " 'repositorio',\n",
       " 'github',\n",
       " 'acesse',\n",
       " 'o',\n",
       " 'pdfs',\n",
       " 'da',\n",
       " 'aulas',\n",
       " 'clicando',\n",
       " 'aquihttpsgithubcomgustavoguanabarahtmlcsstreemasteraulaspdf',\n",
       " 'codigo',\n",
       " 'disponivel',\n",
       " 'para',\n",
       " 'o',\n",
       " 'exercicioshttpsgithubcomgustavoguanabarahtmlcsstreemasterexercicios',\n",
       " 'execute',\n",
       " 'o',\n",
       " 'exercicios',\n",
       " 'aquihttpsgustavoguanabaragithubiohtmlcssexercicios',\n",
       " 'resolva',\n",
       " 'o',\n",
       " 'desafios',\n",
       " 'de',\n",
       " 'html',\n",
       " 'aquihttpsgithubcomgustavoguanabarahtmlcsstreemasterdesafios',\n",
       " 'direitos',\n",
       " 'de',\n",
       " 'uso',\n",
       " 'voce',\n",
       " 'tem',\n",
       " 'todo',\n",
       " 'direito',\n",
       " 'de',\n",
       " 'usar',\n",
       " 'esse',\n",
       " 'material',\n",
       " 'para',\n",
       " 'seu',\n",
       " 'proprio',\n",
       " 'aprendizado',\n",
       " 'professores',\n",
       " 'tambem',\n",
       " 'podem',\n",
       " 'ter',\n",
       " 'acesso',\n",
       " 'todo',\n",
       " 'conteudo',\n",
       " 'e',\n",
       " 'usalos',\n",
       " 'com',\n",
       " 'seus',\n",
       " 'alunos',\n",
       " 'porem',\n",
       " 'todos',\n",
       " 'que',\n",
       " 'usarem',\n",
       " 'esse',\n",
       " 'material',\n",
       " 'seja',\n",
       " 'para',\n",
       " 'qual',\n",
       " 'finalidade',\n",
       " 'deverao',\n",
       " 'manter',\n",
       " 'referencia',\n",
       " 'ao',\n",
       " 'material',\n",
       " 'original',\n",
       " 'criado',\n",
       " 'e',\n",
       " 'disponibilizado',\n",
       " 'pelo',\n",
       " 'prof',\n",
       " 'gustavo',\n",
       " 'guanabara',\n",
       " 'este',\n",
       " 'conteudo',\n",
       " 'nao',\n",
       " 'podera',\n",
       " 'ser',\n",
       " 'utilizado',\n",
       " 'em',\n",
       " 'nenhuma',\n",
       " 'hipotese',\n",
       " 'para',\n",
       " 'ser',\n",
       " 'replicada',\n",
       " 'integral',\n",
       " 'ou',\n",
       " 'parcialmente',\n",
       " 'por',\n",
       " 'autores',\n",
       " 'editoras',\n",
       " 'instituicoes',\n",
       " 'de',\n",
       " 'ensino',\n",
       " 'para',\n",
       " 'criar',\n",
       " 'livros',\n",
       " 'ou',\n",
       " 'apostilas',\n",
       " 'com',\n",
       " 'finalidades',\n",
       " 'de',\n",
       " 'obter',\n",
       " 'ganho',\n",
       " 'financeiro',\n",
       " 'com',\n",
       " 'ele',\n",
       " 'view',\n",
       " 'unstyled',\n",
       " 'markup',\n",
       " 'visit',\n",
       " 'httpmrmrsiohtmlhttpmrmrsiohtml',\n",
       " 'html',\n",
       " 'common',\n",
       " 'markup',\n",
       " 'pattern',\n",
       " 'use',\n",
       " 'developing',\n",
       " 'website',\n",
       " 'feature',\n",
       " 'nonmedia',\n",
       " 'element',\n",
       " 'html5',\n",
       " 'spec',\n",
       " 'included',\n",
       " 'one',\n",
       " 'page',\n",
       " 'ready',\n",
       " 'styled',\n",
       " 'modular',\n",
       " 'structure',\n",
       " 'add',\n",
       " 'pattern',\n",
       " 'delete',\n",
       " 'one',\n",
       " 'dont',\n",
       " 'like',\n",
       " 'semantic',\n",
       " 'accessible',\n",
       " 'markup',\n",
       " 'example',\n",
       " 'common',\n",
       " 'design',\n",
       " 'pattern',\n",
       " 'thoroughly',\n",
       " 'commented',\n",
       " 'code',\n",
       " 'note',\n",
       " 'reference',\n",
       " 'link',\n",
       " 'new',\n",
       " 'html',\n",
       " 'developer',\n",
       " 'getting',\n",
       " 'code',\n",
       " 'create',\n",
       " 'new',\n",
       " 'repo',\n",
       " 'project',\n",
       " 'github',\n",
       " 'terminal',\n",
       " 'run',\n",
       " 'bash',\n",
       " 'git',\n",
       " 'clone',\n",
       " 'gitgithubcommrmrshtmlgit',\n",
       " 'yournewreponame',\n",
       " 'cd',\n",
       " 'yournewreponame',\n",
       " 'git',\n",
       " 'remote',\n",
       " 'rm',\n",
       " 'origin',\n",
       " 'git',\n",
       " 'remote',\n",
       " 'add',\n",
       " 'origin',\n",
       " 'gitgithubcomyourusernameyournewreponamegit',\n",
       " 'git',\n",
       " 'remote',\n",
       " 'v',\n",
       " 'git',\n",
       " 'remote',\n",
       " 'v',\n",
       " 'allow',\n",
       " 'check',\n",
       " 'changed',\n",
       " 'remote',\n",
       " 'origin',\n",
       " 'correctly',\n",
       " 'output',\n",
       " 'look',\n",
       " 'like',\n",
       " 'bash',\n",
       " 'origin',\n",
       " 'gitgithubcomyourusernameyournewreponamegit',\n",
       " 'fetch',\n",
       " 'origin',\n",
       " 'gitgithubcomyourusernameyournewreponamegit',\n",
       " 'push',\n",
       " 'youre',\n",
       " 'set',\n",
       " 'use',\n",
       " 'new',\n",
       " 'project',\n",
       " 'getting',\n",
       " 'started',\n",
       " 'html',\n",
       " 'open',\n",
       " 'indexhtml',\n",
       " 'favorite',\n",
       " 'text',\n",
       " 'editor',\n",
       " 'hack',\n",
       " 'away',\n",
       " 'simple',\n",
       " 'preview',\n",
       " 'change',\n",
       " 'httplocalhost8000',\n",
       " 'open',\n",
       " 'terminalapp',\n",
       " 'type',\n",
       " 'python',\n",
       " 'simplehttpserver',\n",
       " 'author',\n",
       " 'mrmrshttpmrmrscc',\n",
       " 'adam',\n",
       " 'morse',\n",
       " 'designer',\n",
       " 'developer',\n",
       " 'reference',\n",
       " 'mozilla',\n",
       " 'html',\n",
       " 'element',\n",
       " 'listhttphttpsdevelopermozillaorgenusdocswebguidehtmlhtml5html5_element_list',\n",
       " 'mozilla',\n",
       " 'html',\n",
       " 'element',\n",
       " 'list',\n",
       " 'mit',\n",
       " 'license',\n",
       " 'copyright',\n",
       " 'c',\n",
       " '2018',\n",
       " 'adam',\n",
       " 'morse',\n",
       " 'httpopensourceorglicensesmit',\n",
       " 'permission',\n",
       " 'hereby',\n",
       " 'granted',\n",
       " 'free',\n",
       " 'charge',\n",
       " 'person',\n",
       " 'obtaining',\n",
       " 'copy',\n",
       " 'software',\n",
       " 'associated',\n",
       " 'documentation',\n",
       " 'file',\n",
       " 'software',\n",
       " 'deal',\n",
       " 'software',\n",
       " 'without',\n",
       " 'restriction',\n",
       " 'including',\n",
       " 'without',\n",
       " 'limitation',\n",
       " 'right',\n",
       " 'use',\n",
       " 'copy',\n",
       " 'modify',\n",
       " 'merge',\n",
       " 'publish',\n",
       " 'distribute',\n",
       " 'sublicense',\n",
       " 'andor',\n",
       " 'sell',\n",
       " 'copy',\n",
       " 'software',\n",
       " 'permit',\n",
       " 'person',\n",
       " 'software',\n",
       " 'furnished',\n",
       " 'subject',\n",
       " 'following',\n",
       " 'condition',\n",
       " 'copyright',\n",
       " 'notice',\n",
       " 'permission',\n",
       " 'notice',\n",
       " 'shall',\n",
       " 'included',\n",
       " 'copy',\n",
       " 'substantial',\n",
       " 'portion',\n",
       " 'software',\n",
       " 'software',\n",
       " 'provided',\n",
       " 'without',\n",
       " 'warranty',\n",
       " 'kind',\n",
       " 'express',\n",
       " 'implied',\n",
       " 'including',\n",
       " 'limited',\n",
       " 'warranty',\n",
       " 'merchantability',\n",
       " 'fitness',\n",
       " 'particular',\n",
       " 'purpose',\n",
       " 'noninfringement',\n",
       " 'event',\n",
       " 'shall',\n",
       " 'author',\n",
       " 'copyright',\n",
       " 'holder',\n",
       " 'liable',\n",
       " 'claim',\n",
       " 'damage',\n",
       " 'liability',\n",
       " 'whether',\n",
       " 'action',\n",
       " 'contract',\n",
       " 'tort',\n",
       " 'otherwise',\n",
       " 'arising',\n",
       " 'connection',\n",
       " 'software',\n",
       " 'use',\n",
       " 'dealing',\n",
       " 'software',\n",
       " 'pdf2htmlex',\n",
       " 'longer',\n",
       " 'active',\n",
       " 'development',\n",
       " 'new',\n",
       " 'maintainer',\n",
       " 'wantedhttppdf2htmlexblogspotch201612lookingfornewmaintainerhtml',\n",
       " 'httpcoolwanglugithubiopdf2htmleximagespdf2htmlex64x64png',\n",
       " 'pdf2htmlex',\n",
       " 'build',\n",
       " 'statushttpstravisciorgcoolwanglupdf2htmlexpngbranchmasterhttpstravisciorgcoolwanglupdf2htmlex',\n",
       " 'bra',\n",
       " 'beautiful',\n",
       " 'demo',\n",
       " 'worth',\n",
       " 'thousand',\n",
       " 'word',\n",
       " 'bible',\n",
       " 'de',\n",
       " 'geneve',\n",
       " '1564',\n",
       " 'font',\n",
       " 'typography',\n",
       " 'htmlhttpcoolwanglugithubcompdf2htmlexdemogenevehtml',\n",
       " 'pdfhttpsgithubcomraphinkgeneve_1564releasesdownload20150708_01geneve_1564pdf',\n",
       " 'cheat',\n",
       " 'sheet',\n",
       " 'math',\n",
       " 'formula',\n",
       " 'htmlhttpcoolwanglugithubcompdf2htmlexdemocheathtml',\n",
       " 'pdfhttpwwwtugorgtexshowcasecheatpdf',\n",
       " 'scientific',\n",
       " 'paper',\n",
       " 'text',\n",
       " 'figure',\n",
       " 'htmlhttpcoolwanglugithubcompdf2htmlexdemodemohtml',\n",
       " 'pdfhttpciteseerxistpsueduviewdocdownloaddoi1011148349reprep1typepdf',\n",
       " 'full',\n",
       " 'circle',\n",
       " 'magazine',\n",
       " 'read',\n",
       " 'downloading',\n",
       " 'htmlhttpcoolwanglugithubcompdf2htmlexdemoissue65_enhtml',\n",
       " 'pdfhttpdlfullcirclemagazineorgissue65_enpdf',\n",
       " 'git',\n",
       " 'manual',\n",
       " 'cjk',\n",
       " 'support',\n",
       " 'htmlhttpcoolwanglugithubcompdf2htmlexdemochnhtml',\n",
       " 'pdfhttpfilescnblogscomphphuaibeigite690ade5bbbapdf',\n",
       " 'pdf2htmlex',\n",
       " 'render',\n",
       " 'pdf',\n",
       " 'file',\n",
       " 'html',\n",
       " 'utilizing',\n",
       " 'modern',\n",
       " 'web',\n",
       " 'technology',\n",
       " 'academic',\n",
       " 'paper',\n",
       " 'lot',\n",
       " 'formula',\n",
       " 'figure',\n",
       " 'magazine',\n",
       " 'complicated',\n",
       " 'layout',\n",
       " 'problem',\n",
       " 'pdf2htmlex',\n",
       " 'also',\n",
       " 'online',\n",
       " 'publishing',\n",
       " 'toolhttpcoolwanglugithubiopdf2htmlexdoctb108wanghtml',\n",
       " 'flexible',\n",
       " 'many',\n",
       " 'different',\n",
       " 'use',\n",
       " 'case',\n",
       " 'learn',\n",
       " 'whohttpsgithubcomcoolwanglupdf2htmlexwikiusecases',\n",
       " 'whyhttpsgithubcomcoolwanglupdf2htmlexwikiintroduction',\n",
       " 'use',\n",
       " 'pdf2htmlex',\n",
       " 'feature',\n",
       " 'native',\n",
       " 'html',\n",
       " 'text',\n",
       " 'precise',\n",
       " 'font',\n",
       " 'location',\n",
       " 'flexible',\n",
       " 'output',\n",
       " 'allinone',\n",
       " 'html',\n",
       " 'demand',\n",
       " 'page',\n",
       " 'loading',\n",
       " 'need',\n",
       " 'javascript',\n",
       " 'moderate',\n",
       " 'file',\n",
       " 'size',\n",
       " 'sometimes',\n",
       " 'even',\n",
       " 'smaller',\n",
       " 'pdf',\n",
       " 'supporting',\n",
       " 'link',\n",
       " 'outline',\n",
       " 'bookmark',\n",
       " 'printing',\n",
       " 'svg',\n",
       " 'background',\n",
       " 'type',\n",
       " '3',\n",
       " 'font',\n",
       " 'morehttpsgithubcomcoolwanglupdf2htmlexwikifeaturelist',\n",
       " 'compare',\n",
       " 'othershttpsgithubcomcoolwanglupdf2htmlexwikicomparison',\n",
       " 'portal',\n",
       " 'housewiki',\n",
       " 'homehttpsgithubcomcoolwanglupdf2htmlexwiki',\n",
       " 'downloadhttpsgithubcomcoolwanglupdf2htmlexwikidownload',\n",
       " 'buildinghttpsgithubcomcoolwanglupdf2htmlexwikibuilding',\n",
       " 'quick',\n",
       " 'starthttpsgithubcomcoolwanglupdf2htmlexwikiquickstart',\n",
       " 'report',\n",
       " 'issue',\n",
       " 'ask',\n",
       " 'helphttpsgithubcomcoolwanglupdf2htmlexblobmastercontributingmdguidance',\n",
       " 'questionfaqhttpsgithubcomcoolwanglupdf2htmlexwikifaq',\n",
       " 'envelopemailing',\n",
       " 'listhttpsgroupsgooglecomforumforumpdf2htmlex',\n",
       " 'mahjonghttpsgroupsgooglecomforumforumpdf2htmlexcn',\n",
       " 'license',\n",
       " 'pdf2htmlex',\n",
       " 'whole',\n",
       " 'package',\n",
       " 'licensed',\n",
       " 'gplv3',\n",
       " 'resource',\n",
       " 'file',\n",
       " 'released',\n",
       " 'relaxed',\n",
       " 'license',\n",
       " 'read',\n",
       " 'license',\n",
       " 'detail',\n",
       " 'acknowledgement',\n",
       " 'pdf2htmlex',\n",
       " 'made',\n",
       " 'possible',\n",
       " 'thanks',\n",
       " 'following',\n",
       " 'project',\n",
       " 'popplerhttppopplerfreedesktoporg',\n",
       " 'fontforgehttpfontforgeorg',\n",
       " 'pdf2htmlex',\n",
       " 'inspired',\n",
       " 'following',\n",
       " 'project',\n",
       " 'pdftohtml',\n",
       " 'poppler',\n",
       " 'mupdf',\n",
       " 'pdfjs',\n",
       " 'crocodoc',\n",
       " 'google',\n",
       " 'doc',\n",
       " 'special',\n",
       " 'thanks',\n",
       " 'hongliang',\n",
       " 'tian',\n",
       " 'wanmin',\n",
       " 'liu',\n",
       " 'responsive',\n",
       " 'transactional',\n",
       " 'html',\n",
       " 'email',\n",
       " 'template',\n",
       " 'transactional',\n",
       " 'html',\n",
       " 'email',\n",
       " 'often',\n",
       " 'get',\n",
       " 'neglected',\n",
       " 'styling',\n",
       " 'html',\n",
       " 'email',\n",
       " 'painful',\n",
       " 'table',\n",
       " 'inline',\n",
       " 'cs',\n",
       " 'unsupported',\n",
       " 'cs',\n",
       " 'desktop',\n",
       " 'client',\n",
       " 'web',\n",
       " 'client',\n",
       " 'mobile',\n",
       " 'client',\n",
       " 'various',\n",
       " 'device',\n",
       " 'various',\n",
       " 'provider',\n",
       " 'weve',\n",
       " 'tried',\n",
       " 'remove',\n",
       " 'pain',\n",
       " 'opensourced',\n",
       " 'collection',\n",
       " 'common',\n",
       " 'template',\n",
       " 'transactional',\n",
       " 'email',\n",
       " 'p',\n",
       " 'aligncenterimg',\n",
       " 'srchttpsmailgunghostiocontentimages2014augiconspng',\n",
       " 'width500p',\n",
       " 'action',\n",
       " 'emailhttpmailgungithubiotransactionalemailtemplatesactionhtml',\n",
       " 'email',\n",
       " 'alerthttpmailgungithubiotransactionalemailtemplatesalerthtml',\n",
       " 'billing',\n",
       " 'emailhttpmailgungithubiotransactionalemailtemplatesbillinghtml',\n",
       " 'template',\n",
       " 'responsive',\n",
       " 'tested',\n",
       " 'popular',\n",
       " 'email',\n",
       " 'client',\n",
       " 'use',\n",
       " 'use',\n",
       " 'email',\n",
       " 'template',\n",
       " 'transactional',\n",
       " 'email',\n",
       " 'use',\n",
       " 'think',\n",
       " 'boilerplate',\n",
       " 'detailed',\n",
       " 'email',\n",
       " 'ensure',\n",
       " 'inline',\n",
       " 'cssinlinethecss',\n",
       " 'sending',\n",
       " 'email',\n",
       " 'transactional',\n",
       " 'email',\n",
       " 'typically',\n",
       " 'email',\n",
       " 'triggered',\n",
       " 'sent',\n",
       " 'automatically',\n",
       " 'application',\n",
       " 'welcome',\n",
       " 'email',\n",
       " 'actionable',\n",
       " 'email',\n",
       " 'password',\n",
       " 'reset',\n",
       " 'receipt',\n",
       " 'monthly',\n",
       " 'invoice',\n",
       " 'support',\n",
       " 'request',\n",
       " 'app',\n",
       " 'error',\n",
       " 'alert',\n",
       " 'reminder',\n",
       " 'etc',\n",
       " 'inline',\n",
       " 'cs',\n",
       " 'sending',\n",
       " 'html',\n",
       " 'email',\n",
       " 'inline',\n",
       " 'cs',\n",
       " 'recommend',\n",
       " 'using',\n",
       " 'premailerhttppremailerdialectca',\n",
       " 'accomplish',\n",
       " 'repo',\n",
       " 'contains',\n",
       " 'original',\n",
       " 'template',\n",
       " 'separate',\n",
       " 'cs',\n",
       " 'stylesheet',\n",
       " 'well',\n",
       " 'template',\n",
       " 'cs',\n",
       " 'already',\n",
       " 'inlined',\n",
       " 'preview',\n",
       " 'see',\n",
       " 'templatesinlined',\n",
       " 'folder',\n",
       " 'tested',\n",
       " 'verified',\n",
       " 'weve',\n",
       " 'tested',\n",
       " 'email',\n",
       " 'template',\n",
       " 'across',\n",
       " 'major',\n",
       " 'desktop',\n",
       " 'web',\n",
       " 'mobile',\n",
       " 'client',\n",
       " 'using',\n",
       " 'litmus',\n",
       " 'see',\n",
       " 'test',\n",
       " 'resultshttpslitmuscompub333e2b6screenshots',\n",
       " 'img',\n",
       " 'srchttpiimgurcomex9fywlpng',\n",
       " 'email',\n",
       " 'design',\n",
       " 'workflow',\n",
       " 'grunt',\n",
       " 'also',\n",
       " 'might',\n",
       " 'interested',\n",
       " 'grunt',\n",
       " 'taskhttpsgithubcomleemunroegruntemaildesign',\n",
       " 'compiling',\n",
       " 'testing',\n",
       " 'html',\n",
       " 'email',\n",
       " 'used',\n",
       " 'help',\n",
       " 'design',\n",
       " 'test',\n",
       " 'transactional',\n",
       " 'email',\n",
       " 'responsive',\n",
       " 'html',\n",
       " 'email',\n",
       " 'template',\n",
       " 'template',\n",
       " 'designed',\n",
       " 'work',\n",
       " 'major',\n",
       " 'email',\n",
       " 'platform',\n",
       " 'built',\n",
       " 'medium',\n",
       " 'query',\n",
       " 'making',\n",
       " 'responsive',\n",
       " 'smartphones',\n",
       " 'support',\n",
       " 'medium',\n",
       " 'query',\n",
       " 'serf',\n",
       " 'foundation',\n",
       " 'tested',\n",
       " 'thoroughly',\n",
       " 'reviewed',\n",
       " 'compatibility',\n",
       " 'making',\n",
       " 'easy',\n",
       " 'customize',\n",
       " 'make',\n",
       " 'change',\n",
       " 'using',\n",
       " 'mailchimps',\n",
       " 'html',\n",
       " 'email',\n",
       " 'template',\n",
       " 'blueprint',\n",
       " 'foundation',\n",
       " 'template',\n",
       " 'improved',\n",
       " 'version',\n",
       " 'row',\n",
       " 'option',\n",
       " 'redefined',\n",
       " 'structure',\n",
       " 'many',\n",
       " 'fix',\n",
       " 'outlook',\n",
       " 'yahoo',\n",
       " 'hotmail',\n",
       " 'gmail',\n",
       " 'etc',\n",
       " 'download',\n",
       " 'bower',\n",
       " 'bower',\n",
       " 'install',\n",
       " 'respmail',\n",
       " 'dont',\n",
       " 'know',\n",
       " 'bower',\n",
       " 'read',\n",
       " 'httpbowerio',\n",
       " 'preview',\n",
       " 'author',\n",
       " 'httpwwwcharlesmudycom',\n",
       " 'previewhttpwwwcharlesmudycomrespmailimagepng',\n",
       " 'inspiration',\n",
       " 'httpsgithubcommailchimpemailblueprints',\n",
       " 'contributing',\n",
       " 'anyone',\n",
       " 'strong',\n",
       " 'knowledge',\n",
       " 'html',\n",
       " 'email',\n",
       " 'coding',\n",
       " 'make',\n",
       " 'pull',\n",
       " 'request',\n",
       " 'change',\n",
       " 'improvement',\n",
       " 'please',\n",
       " 'always',\n",
       " 'clarify',\n",
       " 'possible',\n",
       " 'share',\n",
       " 'online',\n",
       " 'resource',\n",
       " 'prove',\n",
       " 'view',\n",
       " 'suggestion',\n",
       " 'material',\n",
       " 'design',\n",
       " 'lite',\n",
       " 'github',\n",
       " 'versionhttpsbadgefuryioghgoogle2fmaterialdesignlitesvghttpsbadgefuryioghgoogle2fmaterialdesignlite',\n",
       " 'npm',\n",
       " 'versionhttpsbadgefuryiojsmaterialdesignlitesvghttpsbadgefuryiojsmaterialdesignlite',\n",
       " 'bower',\n",
       " 'versionhttpsbadgefuryiobomaterialdesignlitesvghttpsbadgefuryiobomaterialdesignlite',\n",
       " 'gitter',\n",
       " 'versionhttpsimgshieldsiogitterroomgitterhqgittersvghttpsgitterimgooglematerialdesignlite',\n",
       " 'dependency',\n",
       " 'statushttpsdaviddmorggooglematerialdesignlitesvghttpsdaviddmorggooglematerialdesignlite',\n",
       " 'implementation',\n",
       " 'material',\n",
       " 'designhttpwwwgooglecomdesignspecmaterialdesignintroductionhtml',\n",
       " 'component',\n",
       " 'vanilla',\n",
       " 'cs',\n",
       " 'j',\n",
       " 'html',\n",
       " 'material',\n",
       " 'design',\n",
       " 'lite',\n",
       " 'mdl',\n",
       " 'let',\n",
       " 'add',\n",
       " 'material',\n",
       " 'design',\n",
       " 'look',\n",
       " 'feel',\n",
       " 'static',\n",
       " 'content',\n",
       " 'website',\n",
       " 'doesnt',\n",
       " 'rely',\n",
       " 'javascript',\n",
       " 'framework',\n",
       " 'library',\n",
       " 'optimized',\n",
       " 'crossdevice',\n",
       " 'use',\n",
       " 'gracefully',\n",
       " 'degrades',\n",
       " 'older',\n",
       " 'browser',\n",
       " 'offer',\n",
       " 'experience',\n",
       " 'accessible',\n",
       " 'getgo',\n",
       " 'limited',\n",
       " 'support',\n",
       " 'material',\n",
       " 'design',\n",
       " 'lite',\n",
       " 'limited',\n",
       " 'support',\n",
       " 'development',\n",
       " 'moved',\n",
       " 'material',\n",
       " 'component',\n",
       " 'webhttpsgithubcommaterialcomponentsmaterialcomponentsweb',\n",
       " 'repository',\n",
       " 'development',\n",
       " 'taking',\n",
       " 'place',\n",
       " 'mdl',\n",
       " 'core',\n",
       " 'team',\n",
       " 'happy',\n",
       " 'review',\n",
       " 'pr',\n",
       " 'fix',\n",
       " 'critical',\n",
       " 'bug',\n",
       " 'push',\n",
       " 'new',\n",
       " 'release',\n",
       " 'breaking',\n",
       " 'change',\n",
       " 'accepted',\n",
       " 'use',\n",
       " 'mdl',\n",
       " 'site',\n",
       " 'document',\n",
       " 'targeted',\n",
       " 'developer',\n",
       " 'contribute',\n",
       " 'compile',\n",
       " 'mdl',\n",
       " 'looking',\n",
       " 'use',\n",
       " 'mdl',\n",
       " 'website',\n",
       " 'web',\n",
       " 'app',\n",
       " 'please',\n",
       " 'head',\n",
       " 'getmdliohttpgetmdlio',\n",
       " 'browser',\n",
       " 'support',\n",
       " 'ie9',\n",
       " 'ie10',\n",
       " 'ie11',\n",
       " 'chrome',\n",
       " 'opera',\n",
       " 'firefox',\n",
       " 'safari',\n",
       " 'chrome',\n",
       " 'android',\n",
       " 'mobile',\n",
       " 'safari',\n",
       " 'b',\n",
       " 'agrade',\n",
       " 'browser',\n",
       " 'fully',\n",
       " 'supported',\n",
       " 'bgrade',\n",
       " 'browser',\n",
       " 'gracefully',\n",
       " 'degrade',\n",
       " 'cssonly',\n",
       " 'experience',\n",
       " 'download',\n",
       " 'clone',\n",
       " 'clone',\n",
       " 'repo',\n",
       " 'using',\n",
       " 'git',\n",
       " 'bash',\n",
       " 'git',\n",
       " 'clone',\n",
       " 'httpsgithubcomgooglematerialdesignlitegit',\n",
       " 'alternatively',\n",
       " 'downloadhttpsgithubcomgooglematerialdesignlitearchivemasterzip',\n",
       " 'repository',\n",
       " 'window',\n",
       " 'user',\n",
       " 'trouble',\n",
       " 'compiling',\n",
       " 'due',\n",
       " 'line',\n",
       " 'ending',\n",
       " 'make',\n",
       " 'sure',\n",
       " 'configure',\n",
       " 'git',\n",
       " 'checkout',\n",
       " 'repository',\n",
       " 'lf',\n",
       " 'unix',\n",
       " 'line',\n",
       " 'ending',\n",
       " 'achieved',\n",
       " 'setting',\n",
       " 'coreeol',\n",
       " 'bash',\n",
       " 'git',\n",
       " 'config',\n",
       " 'coreeol',\n",
       " 'lf',\n",
       " 'git',\n",
       " 'config',\n",
       " 'coreautocrlf',\n",
       " 'input',\n",
       " 'git',\n",
       " 'rm',\n",
       " 'cached',\n",
       " 'r',\n",
       " 'git',\n",
       " 'reset',\n",
       " 'hard',\n",
       " 'remember',\n",
       " 'master',\n",
       " 'branch',\n",
       " 'considered',\n",
       " 'unstable',\n",
       " 'use',\n",
       " 'production',\n",
       " 'use',\n",
       " 'tagged',\n",
       " 'state',\n",
       " 'repository',\n",
       " 'npm',\n",
       " 'bower',\n",
       " 'stability',\n",
       " 'feature',\n",
       " 'request',\n",
       " 'mdl',\n",
       " 'currently',\n",
       " 'limited',\n",
       " 'support',\n",
       " 'mode',\n",
       " 'development',\n",
       " 'taking',\n",
       " 'place',\n",
       " 'core',\n",
       " 'team',\n",
       " 'happy',\n",
       " 'accept',\n",
       " 'review',\n",
       " 'pull',\n",
       " 'request',\n",
       " 'new',\n",
       " 'functionality',\n",
       " 'however',\n",
       " ...]"
      ]
     },
     "execution_count": 122,
     "metadata": {},
     "output_type": "execute_result"
    }
   ],
   "source": [
    "html_words\n",
    "#python_unique = train.python_words.nunique())\n",
    "#c_sharp_unique = pd.Series(data = c_sharp_words.nunique())\n",
    "#JavaScript_unique = pd.Series(data = JavaScript_words.nunique())"
   ]
  },
  {
   "cell_type": "markdown",
   "id": "e0c1a480-5612-4810-a0b3-0271be043df8",
   "metadata": {},
   "source": [
    "## Let's look at top Bigrams in each language"
   ]
  },
  {
   "cell_type": "code",
   "execution_count": 135,
   "id": "fd275825-5881-4584-a03a-be4733d8372c",
   "metadata": {},
   "outputs": [],
   "source": [
    "python_top_words = ' '.join(train[train['language'] == 'Python'].clean)"
   ]
  },
  {
   "cell_type": "code",
   "execution_count": 136,
   "id": "168879db-f9b9-4da3-ac69-502723257c09",
   "metadata": {},
   "outputs": [
    {
     "data": {
      "text/plain": [
       "<AxesSubplot:>"
      ]
     },
     "execution_count": 136,
     "metadata": {},
     "output_type": "execute_result"
    },
    {
     "data": {
      "image/png": "[encoded data removed]",
      "text/plain": [
       "<Figure size 432x288 with 1 Axes>"
      ]
     },
     "metadata": {
      "needs_background": "light"
     },
     "output_type": "display_data"
    }
   ],
   "source": [
    "pd.Series(nltk.bigrams(python_top_words.split())).value_counts().head(10).plot.barh()"
   ]
  },
  {
   "cell_type": "code",
   "execution_count": 137,
   "id": "918d0d1f-adb6-41de-aa63-2ec813027ae5",
   "metadata": {},
   "outputs": [
    {
     "data": {
      "text/plain": [
       "(', ')                  75\n",
       "(problem, challenge)    38\n",
       "(bot, api)              32\n",
       "(hard, problem)         18\n",
       "(medium, problem)       17\n",
       "(challenge, 1)          16\n",
       "(download, videos)      16\n",
       "(telegram, bot)         16\n",
       "(make, sure)            15\n",
       "(', title)              14\n",
       "dtype: int64"
      ]
     },
     "execution_count": 137,
     "metadata": {},
     "output_type": "execute_result"
    }
   ],
   "source": [
    "pd.Series(nltk.bigrams(python_top_words.split())).value_counts().head(10)"
   ]
  },
  {
   "cell_type": "markdown",
   "id": "497eea32-f30b-4c1d-a3b2-078bd551cfe7",
   "metadata": {},
   "source": [
    "## I notice that \"problem\" and \"challenge\" are recurring words within more than one top bigram\n",
    "## I also notice that \"download videos\" is top bigram with coincides with the single top word of \"youtube\"."
   ]
  },
  {
   "cell_type": "code",
   "execution_count": 138,
   "id": "4a1fcded-6d6c-4541-9249-e9d1baca9fa8",
   "metadata": {},
   "outputs": [],
   "source": [
    "html_top_words = ' '.join(train[train['language'] == 'HTML'].clean)"
   ]
  },
  {
   "cell_type": "code",
   "execution_count": 139,
   "id": "a0d2bdb3-edd8-4e86-a8c8-6bb3102977ec",
   "metadata": {},
   "outputs": [
    {
     "data": {
      "text/plain": [
       "<AxesSubplot:>"
      ]
     },
     "execution_count": 139,
     "metadata": {},
     "output_type": "execute_result"
    },
    {
     "data": {
      "image/png": "[encoded data removed]",
      "text/plain": [
       "<Figure size 432x288 with 1 Axes>"
      ]
     },
     "metadata": {
      "needs_background": "light"
     },
     "output_type": "display_data"
    }
   ],
   "source": [
    "pd.Series(nltk.bigrams(html_top_words.split())).value_counts().head(10).plot.barh()"
   ]
  },
  {
   "cell_type": "code",
   "execution_count": 140,
   "id": "c892a4b6-de3e-4a28-98dd-3d6311b862e6",
   "metadata": {},
   "outputs": [
    {
     "data": {
      "text/plain": [
       "(&#9;, &#9;)          28\n",
       "(html, email)         10\n",
       "(java, &#9;)           7\n",
       "(&#9;, java)           7\n",
       "(email, templates)     6\n",
       "(inline, css)          6\n",
       "(js, &#9;)             5\n",
       "(&#9;, js)             5\n",
       "(material, design)     5\n",
       "(email, template)      5\n",
       "dtype: int64"
      ]
     },
     "execution_count": 140,
     "metadata": {},
     "output_type": "execute_result"
    }
   ],
   "source": [
    "pd.Series(nltk.bigrams(html_top_words.split())).value_counts().head(10)"
   ]
  },
  {
   "cell_type": "markdown",
   "id": "01df8bae-582e-4b3f-9e2b-5f97b88b4ae9",
   "metadata": {},
   "source": [
    "## Takeaway here is that HTML references other languages within these top bigrams (ie: java, css) as well as email, template and design."
   ]
  },
  {
   "cell_type": "code",
   "execution_count": 141,
   "id": "a692f55f-4eb4-4238-b12e-822d545aab60",
   "metadata": {},
   "outputs": [],
   "source": [
    "c_sharp_top_words = ' '.join(train[train['language'] == 'C#'].clean)"
   ]
  },
  {
   "cell_type": "code",
   "execution_count": 142,
   "id": "021300a7-08e7-41a1-84b8-becbd21d926c",
   "metadata": {},
   "outputs": [
    {
     "data": {
      "text/plain": [
       "<AxesSubplot:>"
      ]
     },
     "execution_count": 142,
     "metadata": {},
     "output_type": "execute_result"
    },
    {
     "data": {
      "image/png": "[encoded data removed]",
      "text/plain": [
       "<Figure size 432x288 with 1 Axes>"
      ]
     },
     "metadata": {
      "needs_background": "light"
     },
     "output_type": "display_data"
    }
   ],
   "source": [
    "pd.Series(nltk.bigrams(c_sharp_top_words.split())).value_counts().head(10).plot.barh()"
   ]
  },
  {
   "cell_type": "code",
   "execution_count": 143,
   "id": "d7f4409f-7e32-4751-9933-56ec7a37c840",
   "metadata": {},
   "outputs": [
    {
     "data": {
      "text/plain": [
       "(&#9;, &#9;)          102\n",
       "(messagepack, c)       41\n",
       "(&#9;, tr)             40\n",
       "(tr, &#9;)             40\n",
       "(get, set)             32\n",
       "(csharp, var)          31\n",
       "(ns, na)               25\n",
       "(public, class)        25\n",
       "(public, int)          25\n",
       "(code, generation)     19\n",
       "dtype: int64"
      ]
     },
     "execution_count": 143,
     "metadata": {},
     "output_type": "execute_result"
    }
   ],
   "source": [
    "pd.Series(nltk.bigrams(c_sharp_top_words.split())).value_counts().head(10)"
   ]
  },
  {
   "cell_type": "markdown",
   "id": "bc374ca1-8bcf-4bdb-8941-ffd0558449fc",
   "metadata": {},
   "source": [
    "## I notice that messagepack and c is a top bigram, as well as get set; public, class, int.  \n",
    "## Another thing I notice for C# is the high usage of coding language within the ReadME. &#9 is a top occuring 'word' for all languages EXCEPT Javascript. \n",
    "## That alone could be very useful."
   ]
  },
  {
   "cell_type": "code",
   "execution_count": 144,
   "id": "8cb8d505-d193-4999-a8a5-2ed5f5b9ffea",
   "metadata": {},
   "outputs": [],
   "source": [
    "JavaScript_top_words = ' '.join(train[train['language'] == 'JavaScript'].clean)"
   ]
  },
  {
   "cell_type": "code",
   "execution_count": 145,
   "id": "210e08a8-dce7-42e5-91b7-534f78b99913",
   "metadata": {},
   "outputs": [
    {
     "data": {
      "text/plain": [
       "<AxesSubplot:>"
      ]
     },
     "execution_count": 145,
     "metadata": {},
     "output_type": "execute_result"
    },
    {
     "data": {
      "image/png": "[encoded data removed]",
      "text/plain": [
       "<Figure size 432x288 with 1 Axes>"
      ]
     },
     "metadata": {
      "needs_background": "light"
     },
     "output_type": "display_data"
    }
   ],
   "source": [
    "pd.Series(nltk.bigrams(JavaScript_top_words.split())).value_counts().head(10).plot.barh()"
   ]
  },
  {
   "cell_type": "code",
   "execution_count": 146,
   "id": "dffb51d5-1a2c-4054-837c-81e114d1f6a7",
   "metadata": {},
   "outputs": [
    {
     "data": {
      "text/plain": [
       "(javascript, bad)             111\n",
       "(bad, const)                   64\n",
       "(', ')                         63\n",
       "(good, const)                  59\n",
       "(bad, function)                38\n",
       "(', good)                      36\n",
       "(back, toptableofcontents)     34\n",
       "(1, 2)                         32\n",
       "(good, function)               31\n",
       "(consolelog, ')                31\n",
       "dtype: int64"
      ]
     },
     "execution_count": 146,
     "metadata": {},
     "output_type": "execute_result"
    }
   ],
   "source": [
    "pd.Series(nltk.bigrams(JavaScript_top_words.split())).value_counts().head(10)"
   ]
  },
  {
   "cell_type": "markdown",
   "id": "e630819d-121f-450f-9ec6-ce99fd5978fa",
   "metadata": {},
   "source": [
    "## Takeaway for JavaScript is the high usage of bad, good, const, and function.  \n",
    "***\n",
    "## Overall I think this insight from bigrams could be the MOST identifiable feature for languages."
   ]
  },
  {
   "cell_type": "markdown",
   "id": "9121f2eb-ecdd-45d0-884c-1dc739cf14b4",
   "metadata": {},
   "source": [
    "*****\n",
    "# TODO:  \n",
    "    * Create a chart showing trigrams to see if any other insight can be drawn.\n",
    "    * Creat wordclouds for visual effect."
   ]
  },
  {
   "cell_type": "code",
   "execution_count": null,
   "id": "6dba839b-97d6-4978-8066-ed44f4f01c0a",
   "metadata": {},
   "outputs": [],
   "source": []
  }
 ],
 "metadata": {
  "kernelspec": {
   "display_name": "Python 3",
   "language": "python",
   "name": "python3"
  },
  "language_info": {
   "codemirror_mode": {
    "name": "ipython",
    "version": 3
   },
   "file_extension": ".py",
   "mimetype": "text/x-python",
   "name": "python",
   "nbconvert_exporter": "python",
   "pygments_lexer": "ipython3",
   "version": "3.8.8"
  }
 },
 "nbformat": 4,
 "nbformat_minor": 5
}
