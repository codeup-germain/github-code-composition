{
 "cells": [
  {
   "cell_type": "code",
   "execution_count": 1,
   "id": "9588704b",
   "metadata": {},
   "outputs": [],
   "source": [
    "from acquire import acquire"
   ]
  },
  {
   "cell_type": "code",
   "execution_count": 31,
   "id": "180acee4",
   "metadata": {},
   "outputs": [],
   "source": [
    "# Standard Data Science Utility Belt\n",
    "import pandas as pd\n",
    "import numpy as np\n",
    "import seaborn as sns\n",
    "import matplotlib.pyplot as plt\n",
    "\n",
    "# User defined methods\n",
    "from acquire import acquire\n",
    "from prepare import prepare\n",
    "\n",
    "# Viewing Options\n",
    "pd.set_option(\"display.max_rows\", None, \"display.max_columns\", None) \n",
    "pd.reset_option(\"display.max_rows\", \"display.max_columns\")\n",
    "\n",
    "# Ignore Warnings\n",
    "import warnings\n",
    "warnings.filterwarnings(\"ignore\")"
   ]
  },
  {
   "cell_type": "markdown",
   "id": "53bd0737",
   "metadata": {},
   "source": [
    "# Project Planning"
   ]
  },
  {
   "cell_type": "markdown",
   "id": "0e80556d",
   "metadata": {},
   "source": [
    "### Project and Goals\n",
    "\n",
    "    The goal of this project is to..."
   ]
  },
  {
   "cell_type": "markdown",
   "id": "907257a8",
   "metadata": {},
   "source": [
    "### Original Hypothesis\n",
    "\n",
    "    The best predictor is going to be..."
   ]
  },
  {
   "cell_type": "markdown",
   "id": "bebe6587",
   "metadata": {},
   "source": [
    "### Domain Knowledge Quick Tip\n",
    "    You can add a README file to a repository to communicate important information about your project. A README, along with a repository license, citation file, contribution guidelines, and a code of conduct, communicates expectations for your project and helps you manage contributions\n",
    "    \n",
    "    A README is often the first item a visitor will see when visiting your repository. README files typically include information on: What the project does, why the project is useful, how users can get started with the project, where users can get help with your project, and who maintains and contributes to the project"
   ]
  },
  {
   "cell_type": "markdown",
   "id": "adc6dc65",
   "metadata": {},
   "source": [
    "### The Plan\n",
    "\n",
    "    Acquire repos names by web scrapping\n",
    "    use the github api to pull the data using the prebuilt acquire.py script\n",
    "    clean the data\n",
    "    explore the data\n",
    "    model the data\n",
    "    evaluate the data\n",
    "    run the best model\n",
    "    deliverables\n",
    "    "
   ]
  },
  {
   "cell_type": "markdown",
   "id": "81f4d0bd",
   "metadata": {},
   "source": [
    "# Executive Summary - Conclusions & Next Steps"
   ]
  },
  {
   "cell_type": "markdown",
   "id": "45b25dde",
   "metadata": {},
   "source": [
    "### Conclusion\n",
    "    My best model was..."
   ]
  },
  {
   "cell_type": "markdown",
   "id": "744b2c15",
   "metadata": {},
   "source": [
    "### Recommendations\n",
    "\n",
    "    The data sugguests...."
   ]
  },
  {
   "cell_type": "markdown",
   "id": "8f0c7e29",
   "metadata": {},
   "source": [
    "### Key Takeaways\n",
    "\n",
    "    - Only so many repos were used.  \n",
    "    - Only english README.md's were used"
   ]
  },
  {
   "cell_type": "markdown",
   "id": "a6406d56",
   "metadata": {},
   "source": [
    "# Data Acquisition"
   ]
  },
  {
   "cell_type": "code",
   "execution_count": 22,
   "id": "8716187d",
   "metadata": {},
   "outputs": [],
   "source": [
    "df = acquire()"
   ]
  },
  {
   "cell_type": "markdown",
   "id": "fd4311a7",
   "metadata": {},
   "source": [
    "### .info(), .head(), .describe()"
   ]
  },
  {
   "cell_type": "code",
   "execution_count": 23,
   "id": "1b08bbee",
   "metadata": {},
   "outputs": [
    {
     "name": "stdout",
     "output_type": "stream",
     "text": [
      "<class 'pandas.core.frame.DataFrame'>\n",
      "RangeIndex: 123 entries, 0 to 122\n",
      "Data columns (total 3 columns):\n",
      " #   Column           Non-Null Count  Dtype \n",
      "---  ------           --------------  ----- \n",
      " 0   repo             123 non-null    object\n",
      " 1   language         121 non-null    object\n",
      " 2   readme_contents  123 non-null    object\n",
      "dtypes: object(3)\n",
      "memory usage: 3.0+ KB\n"
     ]
    }
   ],
   "source": [
    "df.info()"
   ]
  },
  {
   "cell_type": "code",
   "execution_count": 24,
   "id": "c22b4170",
   "metadata": {},
   "outputs": [
    {
     "data": {
      "text/html": [
       "<div>\n",
       "<style scoped>\n",
       "    .dataframe tbody tr th:only-of-type {\n",
       "        vertical-align: middle;\n",
       "    }\n",
       "\n",
       "    .dataframe tbody tr th {\n",
       "        vertical-align: top;\n",
       "    }\n",
       "\n",
       "    .dataframe thead th {\n",
       "        text-align: right;\n",
       "    }\n",
       "</style>\n",
       "<table border=\"1\" class=\"dataframe\">\n",
       "  <thead>\n",
       "    <tr style=\"text-align: right;\">\n",
       "      <th></th>\n",
       "      <th>repo</th>\n",
       "      <th>language</th>\n",
       "      <th>readme_contents</th>\n",
       "    </tr>\n",
       "  </thead>\n",
       "  <tbody>\n",
       "    <tr>\n",
       "      <th>0</th>\n",
       "      <td>iterativv/NostalgiaForInfinity</td>\n",
       "      <td>Python</td>\n",
       "      <td># NostalgiaForInfinity\\nTrading strategy for t...</td>\n",
       "    </tr>\n",
       "    <tr>\n",
       "      <th>1</th>\n",
       "      <td>cl2333/Grokking-the-Coding-Interview-Patterns-...</td>\n",
       "      <td>Python</td>\n",
       "      <td># [Grokking-the-Coding-Interview-Patterns-for-...</td>\n",
       "    </tr>\n",
       "    <tr>\n",
       "      <th>2</th>\n",
       "      <td>edeng23/binance-trade-bot</td>\n",
       "      <td>Python</td>\n",
       "      <td># binance-trade-bot\\n\\n![github](https://img.s...</td>\n",
       "    </tr>\n",
       "    <tr>\n",
       "      <th>3</th>\n",
       "      <td>donnemartin/system-design-primer</td>\n",
       "      <td>Python</td>\n",
       "      <td>*[English](README.md) ∙ [日本語](README-ja.md) ∙ ...</td>\n",
       "    </tr>\n",
       "    <tr>\n",
       "      <th>4</th>\n",
       "      <td>dortania/OpenCore-Legacy-Patcher</td>\n",
       "      <td>Python</td>\n",
       "      <td>&lt;div align=\"center\"&gt;\\n             &lt;img src=\"i...</td>\n",
       "    </tr>\n",
       "  </tbody>\n",
       "</table>\n",
       "</div>"
      ],
      "text/plain": [
       "                                                repo language  \\\n",
       "0                     iterativv/NostalgiaForInfinity   Python   \n",
       "1  cl2333/Grokking-the-Coding-Interview-Patterns-...   Python   \n",
       "2                          edeng23/binance-trade-bot   Python   \n",
       "3                   donnemartin/system-design-primer   Python   \n",
       "4                   dortania/OpenCore-Legacy-Patcher   Python   \n",
       "\n",
       "                                     readme_contents  \n",
       "0  # NostalgiaForInfinity\\nTrading strategy for t...  \n",
       "1  # [Grokking-the-Coding-Interview-Patterns-for-...  \n",
       "2  # binance-trade-bot\\n\\n![github](https://img.s...  \n",
       "3  *[English](README.md) ∙ [日本語](README-ja.md) ∙ ...  \n",
       "4  <div align=\"center\">\\n             <img src=\"i...  "
      ]
     },
     "execution_count": 24,
     "metadata": {},
     "output_type": "execute_result"
    }
   ],
   "source": [
    "df.head()"
   ]
  },
  {
   "cell_type": "code",
   "execution_count": 25,
   "id": "b217f1be",
   "metadata": {},
   "outputs": [
    {
     "data": {
      "text/html": [
       "<div>\n",
       "<style scoped>\n",
       "    .dataframe tbody tr th:only-of-type {\n",
       "        vertical-align: middle;\n",
       "    }\n",
       "\n",
       "    .dataframe tbody tr th {\n",
       "        vertical-align: top;\n",
       "    }\n",
       "\n",
       "    .dataframe thead th {\n",
       "        text-align: right;\n",
       "    }\n",
       "</style>\n",
       "<table border=\"1\" class=\"dataframe\">\n",
       "  <thead>\n",
       "    <tr style=\"text-align: right;\">\n",
       "      <th></th>\n",
       "      <th>count</th>\n",
       "      <th>unique</th>\n",
       "      <th>top</th>\n",
       "      <th>freq</th>\n",
       "    </tr>\n",
       "  </thead>\n",
       "  <tbody>\n",
       "    <tr>\n",
       "      <th>repo</th>\n",
       "      <td>123</td>\n",
       "      <td>123</td>\n",
       "      <td>html5rocks/www.html5rocks.com</td>\n",
       "      <td>1</td>\n",
       "    </tr>\n",
       "    <tr>\n",
       "      <th>language</th>\n",
       "      <td>121</td>\n",
       "      <td>7</td>\n",
       "      <td>HTML</td>\n",
       "      <td>29</td>\n",
       "    </tr>\n",
       "    <tr>\n",
       "      <th>readme_contents</th>\n",
       "      <td>123</td>\n",
       "      <td>121</td>\n",
       "      <td></td>\n",
       "      <td>3</td>\n",
       "    </tr>\n",
       "  </tbody>\n",
       "</table>\n",
       "</div>"
      ],
      "text/plain": [
       "                count unique                            top freq\n",
       "repo              123    123  html5rocks/www.html5rocks.com    1\n",
       "language          121      7                           HTML   29\n",
       "readme_contents   123    121                                   3"
      ]
     },
     "execution_count": 25,
     "metadata": {},
     "output_type": "execute_result"
    }
   ],
   "source": [
    "df.describe().T"
   ]
  },
  {
   "cell_type": "markdown",
   "id": "185dfe09",
   "metadata": {},
   "source": [
    "### Distribution - \"language\""
   ]
  },
  {
   "cell_type": "code",
   "execution_count": 26,
   "id": "809104a9",
   "metadata": {},
   "outputs": [
    {
     "data": {
      "image/png": "[encoded data removed]",
      "text/plain": [
       "<Figure size 432x288 with 1 Axes>"
      ]
     },
     "metadata": {},
     "output_type": "display_data"
    }
   ],
   "source": [
    "sns.set(font_scale = 1)\n",
    "df['language'].hist()\n",
    "plt.title('Language Distribution')\n",
    "plt.show()"
   ]
  },
  {
   "cell_type": "markdown",
   "id": "64c43f2a",
   "metadata": {},
   "source": [
    "### Data Dictionary"
   ]
  },
  {
   "cell_type": "code",
   "execution_count": 27,
   "id": "24d39a51",
   "metadata": {},
   "outputs": [],
   "source": [
    "#print(get_data_dictionary(df).to_markdown())"
   ]
  },
  {
   "cell_type": "markdown",
   "id": "57a13a11",
   "metadata": {},
   "source": [
    "## Target Feature - 'language'"
   ]
  },
  {
   "cell_type": "code",
   "execution_count": 28,
   "id": "707c487b",
   "metadata": {},
   "outputs": [
    {
     "data": {
      "text/plain": [
       "HTML          29\n",
       "C#            27\n",
       "Python        25\n",
       "JavaScript    23\n",
       "Java          15\n",
       "NaN            2\n",
       "Ruby           1\n",
       "Shell          1\n",
       "Name: language, dtype: int64"
      ]
     },
     "execution_count": 28,
     "metadata": {},
     "output_type": "execute_result"
    }
   ],
   "source": [
    "df.language.value_counts(dropna = False)"
   ]
  },
  {
   "cell_type": "markdown",
   "id": "a983fc2f",
   "metadata": {},
   "source": [
    "### Acquire takeaway\n",
    "    - 123 entries in total\n",
    "    - mostly HTML, C#, Python and JavaScript\n",
    "    - only three columns"
   ]
  },
  {
   "cell_type": "markdown",
   "id": "c6821303",
   "metadata": {},
   "source": [
    "# Prepare\n",
    "\n",
    "#### Dropped Columns\n",
    "\n",
    "    No Columns were dropped.\n",
    "\n",
    "#### Handle Nulls\n",
    "\n",
    "    There were only two null observations for our target feature.  They got dropped. \n",
    "\n",
    "#### Convert Data Types\n",
    "\n",
    "    No features needed converting of data type. \n",
    "\n",
    "#### Rename\n",
    "\n",
    "    No columns were renamed.\n",
    "\n",
    "#### Engineered Features\n",
    "\n",
    "    Three features were engineered: clean, stemmed, and lemmatized. \n",
    "    \n",
    "    'clean'\n",
    "        - All text was converted to lowercase letters from readme_contents\n",
    "        - Removed any inconsistencies in unicode character encoding from readme_contents\n",
    "        - Dropped anything that isn't an ASCII character from readme_contents\n",
    "        - Removed anything that is not a through z, a number, a single quote, or whitespace from readme_contents\n",
    "        - Tokenized the readme_contents. In the context of NLP, this means breaking text down into discrete words, punctuation, etc.\n",
    "        - Removed stop words from readme_contents.  These are usually words that end up having the maximum frequency if you do a simple term or word frequency in a corpus. \n",
    "    \n",
    "    'stemmed'\n",
    "        - We create new words by attaching affixes in a process known as inflection. For example, \"calls\", \"called\", and \"calling\" all share the base stem \"call\". Stemmed from clean.\n",
    "        \n",
    "    'lemmatized'\n",
    "        - Lemmatization is very similar to stemming, however, the base form in this case is known as the root word, but not the root stem. The difference is that the root word is always a lexicographically correct word (present in the dictionary), but the root stem may not be so. Lemmatized from clean.\n",
    "\n",
    "#### Removed Outliers\n",
    "\n",
    "    - Java only had 15 observations so any repo project written in java got dropped.\n",
    "    - Ruby only had 1 observation so any repo project written in ruby got dropped.\n",
    "    - Shell only had 1 observation so any repo with project written in shell got dropped.\n",
    "        \n",
    "#### Scaling\n",
    "\n",
    "    No scaling was preformed.\n",
    "        \n",
    "#### Split\n",
    "\n",
    "    Split data into three data frames:\n",
    "    \n",
    "        - train\n",
    "        - validate\n",
    "        - test\n",
    "        \n",
    "    Used a random_state of 123\n",
    "    Stratified on our target feature, language\n",
    "\n",
    "### Prepare Takeaway\n",
    "\n",
    "    - All features and observations have no null or empty values.\n",
    "    - test_train_split were stratified on my target feature language"
   ]
  },
  {
   "cell_type": "markdown",
   "id": "fb6cb8ea",
   "metadata": {},
   "source": [
    "# Exploration (Brooke & Curtis)\n",
    "\n",
    " - Two questions with answers\n",
    " - At least two graphs"
   ]
  },
  {
   "cell_type": "code",
   "execution_count": 32,
   "id": "950bb417",
   "metadata": {},
   "outputs": [],
   "source": [
    "train, validate, test = prepare(acquire())"
   ]
  },
  {
   "cell_type": "markdown",
   "id": "6533d57e",
   "metadata": {},
   "source": [
    "# Modeling (Brandon)\n",
    "\n",
    " - Validate Model results\n",
    " - Best Validate Model\n",
    " - Test Model"
   ]
  },
  {
   "cell_type": "code",
   "execution_count": 39,
   "id": "5b237d5e",
   "metadata": {},
   "outputs": [],
   "source": [
    "train, validate, test = prepare(acquire())"
   ]
  },
  {
   "cell_type": "markdown",
   "id": "2d006187",
   "metadata": {},
   "source": [
    "# Conclusion (Curtis)\n",
    "\n",
    "- To include recommendation\n",
    "- To include takeaway"
   ]
  },
  {
   "cell_type": "code",
   "execution_count": null,
   "id": "d72dc557",
   "metadata": {},
   "outputs": [],
   "source": []
  },
  {
   "cell_type": "markdown",
   "id": "86d4ca85",
   "metadata": {},
   "source": [
    "# Thank You"
   ]
  }
 ],
 "metadata": {
  "kernelspec": {
   "display_name": "Python 3",
   "language": "python",
   "name": "python3"
  },
  "language_info": {
   "codemirror_mode": {
    "name": "ipython",
    "version": 3
   },
   "file_extension": ".py",
   "mimetype": "text/x-python",
   "name": "python",
   "nbconvert_exporter": "python",
   "pygments_lexer": "ipython3",
   "version": "3.8.8"
  }
 },
 "nbformat": 4,
 "nbformat_minor": 5
}
