{
 "cells": [
  {
   "cell_type": "code",
   "execution_count": 1,
   "id": "9588704b",
   "metadata": {},
   "outputs": [],
   "source": [
    "from acquire import acquire"
   ]
  },
  {
   "cell_type": "code",
   "execution_count": 1,
   "id": "180acee4",
   "metadata": {},
   "outputs": [],
   "source": [
    "# Standard Data Science Utility Belt\n",
    "import pandas as pd\n",
    "import numpy as np\n",
    "import seaborn as sns\n",
    "import matplotlib.pyplot as plt\n",
    "\n",
    "# User defined methods\n",
    "from acquire import acquire\n",
    "from prepare import prepare\n",
    "\n",
    "# Modeling Stuff\n",
    "\n",
    "import unicodedata\n",
    "import re\n",
    "import json\n",
    "\n",
    "import nltk\n",
    "from nltk.tokenize.toktok import ToktokTokenizer\n",
    "from nltk.corpus import stopwords\n",
    "from nltk import sent_tokenize\n",
    "import sklearn.preprocessing\n",
    "import re\n",
    "from scipy import stats\n",
    "from sklearn.feature_extraction.text import CountVectorizer\n",
    "from sklearn.feature_extraction.text import TfidfVectorizer\n",
    "from sklearn.model_selection import train_test_split\n",
    "from sklearn.tree import DecisionTreeClassifier\n",
    "from sklearn.naive_bayes import MultinomialNB\n",
    "from sklearn.ensemble import RandomForestClassifier\n",
    "from sklearn.naive_bayes import MultinomialNB\n",
    "from sklearn.svm import LinearSVC\n",
    "from sklearn.neighbors import KNeighborsClassifier\n",
    "from sklearn.metrics import classification_report, confusion_matrix, recall_score, plot_confusion_matrix\n",
    "from sklearn.linear_model import LogisticRegression\n",
    "from sklearn import svm\n",
    "from sklearn.linear_model import LinearRegression\n",
    "from sklearn.feature_selection import RFE\n",
    "from model import  vectorizer_split, tfidf_split, test_a_model, make_models_and_print_metrics_test_data, print_metrics\n",
    "# Viewing Options\n",
    "pd.set_option(\"display.max_rows\", None, \"display.max_columns\", None) \n",
    "pd.reset_option(\"display.max_rows\", \"display.max_columns\")\n",
    "\n",
    "# Ignore Warnings\n",
    "import warnings\n",
    "warnings.filterwarnings(\"ignore\")"
   ]
  },
  {
   "cell_type": "markdown",
   "id": "53bd0737",
   "metadata": {},
   "source": [
    "# Project Planning"
   ]
  },
  {
   "cell_type": "markdown",
   "id": "0e80556d",
   "metadata": {},
   "source": [
    "### Project and Goals\n",
    "\n",
    "    The goal of this project is to..."
   ]
  },
  {
   "cell_type": "markdown",
   "id": "907257a8",
   "metadata": {},
   "source": [
    "### Original Hypothesis\n",
    "\n",
    "    The best predictor is going to be..."
   ]
  },
  {
   "cell_type": "markdown",
   "id": "bebe6587",
   "metadata": {},
   "source": [
    "### Domain Knowledge Quick Tip\n",
    "    You can add a README file to a repository to communicate important information about your project. A README, along with a repository license, citation file, contribution guidelines, and a code of conduct, communicates expectations for your project and helps you manage contributions\n",
    "    \n",
    "    A README is often the first item a visitor will see when visiting your repository. README files typically include information on: What the project does, why the project is useful, how users can get started with the project, where users can get help with your project, and who maintains and contributes to the project"
   ]
  },
  {
   "cell_type": "markdown",
   "id": "adc6dc65",
   "metadata": {},
   "source": [
    "### The Plan\n",
    "\n",
    "    Acquire repos names by web scrapping\n",
    "    use the github api to pull the data using the prebuilt acquire.py script\n",
    "    clean the data\n",
    "    explore the data\n",
    "    model the data\n",
    "    evaluate the data\n",
    "    run the best model\n",
    "    deliverables\n",
    "    "
   ]
  },
  {
   "cell_type": "markdown",
   "id": "81f4d0bd",
   "metadata": {},
   "source": [
    "# Executive Summary - Conclusions & Next Steps"
   ]
  },
  {
   "cell_type": "markdown",
   "id": "45b25dde",
   "metadata": {},
   "source": [
    "### Conclusion\n",
    "    My best model was..."
   ]
  },
  {
   "cell_type": "markdown",
   "id": "744b2c15",
   "metadata": {},
   "source": [
    "### Recommendations\n",
    "\n",
    "    The data sugguests...."
   ]
  },
  {
   "cell_type": "markdown",
   "id": "8f0c7e29",
   "metadata": {},
   "source": [
    "### Key Takeaways\n",
    "\n",
    "    - Only so many repos were used.  \n",
    "    - Only english README.md's were used"
   ]
  },
  {
   "cell_type": "markdown",
   "id": "a6406d56",
   "metadata": {},
   "source": [
    "# Data Acquisition"
   ]
  },
  {
   "cell_type": "code",
   "execution_count": 3,
   "id": "8716187d",
   "metadata": {},
   "outputs": [],
   "source": [
    "df = acquire()"
   ]
  },
  {
   "cell_type": "markdown",
   "id": "fd4311a7",
   "metadata": {},
   "source": [
    "### .info(), .head(), .describe()"
   ]
  },
  {
   "cell_type": "code",
   "execution_count": 4,
   "id": "1b08bbee",
   "metadata": {},
   "outputs": [
    {
     "name": "stdout",
     "output_type": "stream",
     "text": [
      "<class 'pandas.core.frame.DataFrame'>\n",
      "RangeIndex: 121 entries, 0 to 120\n",
      "Data columns (total 3 columns):\n",
      " #   Column           Non-Null Count  Dtype \n",
      "---  ------           --------------  ----- \n",
      " 0   repo             121 non-null    object\n",
      " 1   language         119 non-null    object\n",
      " 2   readme_contents  121 non-null    object\n",
      "dtypes: object(3)\n",
      "memory usage: 3.0+ KB\n"
     ]
    }
   ],
   "source": [
    "df.info()"
   ]
  },
  {
   "cell_type": "code",
   "execution_count": 5,
   "id": "c22b4170",
   "metadata": {},
   "outputs": [
    {
     "data": {
      "text/html": [
       "<div>\n",
       "<style scoped>\n",
       "    .dataframe tbody tr th:only-of-type {\n",
       "        vertical-align: middle;\n",
       "    }\n",
       "\n",
       "    .dataframe tbody tr th {\n",
       "        vertical-align: top;\n",
       "    }\n",
       "\n",
       "    .dataframe thead th {\n",
       "        text-align: right;\n",
       "    }\n",
       "</style>\n",
       "<table border=\"1\" class=\"dataframe\">\n",
       "  <thead>\n",
       "    <tr style=\"text-align: right;\">\n",
       "      <th></th>\n",
       "      <th>repo</th>\n",
       "      <th>language</th>\n",
       "      <th>readme_contents</th>\n",
       "    </tr>\n",
       "  </thead>\n",
       "  <tbody>\n",
       "    <tr>\n",
       "      <th>0</th>\n",
       "      <td>iterativv/NostalgiaForInfinity</td>\n",
       "      <td>Python</td>\n",
       "      <td># NostalgiaForInfinity\\nTrading strategy for t...</td>\n",
       "    </tr>\n",
       "    <tr>\n",
       "      <th>1</th>\n",
       "      <td>cl2333/Grokking-the-Coding-Interview-Patterns-...</td>\n",
       "      <td>Python</td>\n",
       "      <td># [Grokking-the-Coding-Interview-Patterns-for-...</td>\n",
       "    </tr>\n",
       "    <tr>\n",
       "      <th>2</th>\n",
       "      <td>edeng23/binance-trade-bot</td>\n",
       "      <td>Python</td>\n",
       "      <td># binance-trade-bot\\n\\n![github](https://img.s...</td>\n",
       "    </tr>\n",
       "    <tr>\n",
       "      <th>3</th>\n",
       "      <td>donnemartin/system-design-primer</td>\n",
       "      <td>Python</td>\n",
       "      <td>*[English](README.md) ∙ [日本語](README-ja.md) ∙ ...</td>\n",
       "    </tr>\n",
       "    <tr>\n",
       "      <th>4</th>\n",
       "      <td>dortania/OpenCore-Legacy-Patcher</td>\n",
       "      <td>Python</td>\n",
       "      <td>&lt;div align=\"center\"&gt;\\n             &lt;img src=\"i...</td>\n",
       "    </tr>\n",
       "  </tbody>\n",
       "</table>\n",
       "</div>"
      ],
      "text/plain": [
       "                                                repo language  \\\n",
       "0                     iterativv/NostalgiaForInfinity   Python   \n",
       "1  cl2333/Grokking-the-Coding-Interview-Patterns-...   Python   \n",
       "2                          edeng23/binance-trade-bot   Python   \n",
       "3                   donnemartin/system-design-primer   Python   \n",
       "4                   dortania/OpenCore-Legacy-Patcher   Python   \n",
       "\n",
       "                                     readme_contents  \n",
       "0  # NostalgiaForInfinity\\nTrading strategy for t...  \n",
       "1  # [Grokking-the-Coding-Interview-Patterns-for-...  \n",
       "2  # binance-trade-bot\\n\\n![github](https://img.s...  \n",
       "3  *[English](README.md) ∙ [日本語](README-ja.md) ∙ ...  \n",
       "4  <div align=\"center\">\\n             <img src=\"i...  "
      ]
     },
     "execution_count": 5,
     "metadata": {},
     "output_type": "execute_result"
    }
   ],
   "source": [
    "df.head()"
   ]
  },
  {
   "cell_type": "code",
   "execution_count": 6,
   "id": "b217f1be",
   "metadata": {},
   "outputs": [
    {
     "data": {
      "text/html": [
       "<div>\n",
       "<style scoped>\n",
       "    .dataframe tbody tr th:only-of-type {\n",
       "        vertical-align: middle;\n",
       "    }\n",
       "\n",
       "    .dataframe tbody tr th {\n",
       "        vertical-align: top;\n",
       "    }\n",
       "\n",
       "    .dataframe thead th {\n",
       "        text-align: right;\n",
       "    }\n",
       "</style>\n",
       "<table border=\"1\" class=\"dataframe\">\n",
       "  <thead>\n",
       "    <tr style=\"text-align: right;\">\n",
       "      <th></th>\n",
       "      <th>count</th>\n",
       "      <th>unique</th>\n",
       "      <th>top</th>\n",
       "      <th>freq</th>\n",
       "    </tr>\n",
       "  </thead>\n",
       "  <tbody>\n",
       "    <tr>\n",
       "      <th>repo</th>\n",
       "      <td>121</td>\n",
       "      <td>121</td>\n",
       "      <td>w3c/html</td>\n",
       "      <td>1</td>\n",
       "    </tr>\n",
       "    <tr>\n",
       "      <th>language</th>\n",
       "      <td>119</td>\n",
       "      <td>5</td>\n",
       "      <td>HTML</td>\n",
       "      <td>29</td>\n",
       "    </tr>\n",
       "    <tr>\n",
       "      <th>readme_contents</th>\n",
       "      <td>121</td>\n",
       "      <td>119</td>\n",
       "      <td></td>\n",
       "      <td>3</td>\n",
       "    </tr>\n",
       "  </tbody>\n",
       "</table>\n",
       "</div>"
      ],
      "text/plain": [
       "                count unique       top freq\n",
       "repo              121    121  w3c/html    1\n",
       "language          119      5      HTML   29\n",
       "readme_contents   121    119              3"
      ]
     },
     "execution_count": 6,
     "metadata": {},
     "output_type": "execute_result"
    }
   ],
   "source": [
    "df.describe().T"
   ]
  },
  {
   "cell_type": "markdown",
   "id": "185dfe09",
   "metadata": {},
   "source": [
    "### Distribution - \"language\""
   ]
  },
  {
   "cell_type": "code",
   "execution_count": 7,
   "id": "809104a9",
   "metadata": {},
   "outputs": [
    {
     "data": {
      "image/png": "[encoded data removed]",
      "text/plain": [
       "<Figure size 432x288 with 1 Axes>"
      ]
     },
     "metadata": {},
     "output_type": "display_data"
    }
   ],
   "source": [
    "sns.set(font_scale = 1)\n",
    "df['language'].hist()\n",
    "plt.title('Language Distribution')\n",
    "plt.show()"
   ]
  },
  {
   "cell_type": "markdown",
   "id": "64c43f2a",
   "metadata": {},
   "source": [
    "### Data Dictionary"
   ]
  },
  {
   "cell_type": "code",
   "execution_count": 8,
   "id": "24d39a51",
   "metadata": {},
   "outputs": [],
   "source": [
    "#print(get_data_dictionary(df).to_markdown())"
   ]
  },
  {
   "cell_type": "markdown",
   "id": "57a13a11",
   "metadata": {},
   "source": [
    "## Target Feature - 'language'"
   ]
  },
  {
   "cell_type": "code",
   "execution_count": 9,
   "id": "707c487b",
   "metadata": {},
   "outputs": [
    {
     "data": {
      "text/plain": [
       "HTML          29\n",
       "C#            27\n",
       "Python        25\n",
       "JavaScript    23\n",
       "Java          15\n",
       "NaN            2\n",
       "Name: language, dtype: int64"
      ]
     },
     "execution_count": 9,
     "metadata": {},
     "output_type": "execute_result"
    }
   ],
   "source": [
    "df.language.value_counts(dropna = False)"
   ]
  },
  {
   "cell_type": "markdown",
   "id": "a983fc2f",
   "metadata": {},
   "source": [
    "### Acquire takeaway\n",
    "    - 123 entries in total\n",
    "    - mostly HTML, C#, Python and JavaScript\n",
    "    - only three columns"
   ]
  },
  {
   "cell_type": "markdown",
   "id": "c6821303",
   "metadata": {},
   "source": [
    "# Prepare\n",
    "\n",
    "#### Dropped Columns\n",
    "\n",
    "    No Columns were dropped.\n",
    "\n",
    "#### Handle Nulls\n",
    "\n",
    "    There were only two null observations for our target feature.  They got dropped. \n",
    "\n",
    "#### Convert Data Types\n",
    "\n",
    "    No features needed converting of data type. \n",
    "\n",
    "#### Rename\n",
    "\n",
    "    No columns were renamed.\n",
    "\n",
    "#### Engineered Features\n",
    "\n",
    "    Three features were engineered: clean, stemmed, and lemmatized. \n",
    "    \n",
    "    'clean'\n",
    "        - All text was converted to lowercase letters from readme_contents\n",
    "        - Removed any inconsistencies in unicode character encoding from readme_contents\n",
    "        - Dropped anything that isn't an ASCII character from readme_contents\n",
    "        - Removed anything that is not a through z, a number, a single quote, or whitespace from readme_contents\n",
    "        - Tokenized the readme_contents. In the context of NLP, this means breaking text down into discrete words, punctuation, etc.\n",
    "        - Removed stop words from readme_contents.  These are usually words that end up having the maximum frequency if you do a simple term or word frequency in a corpus. \n",
    "    \n",
    "    'stemmed'\n",
    "        - We create new words by attaching affixes in a process known as inflection. For example, \"calls\", \"called\", and \"calling\" all share the base stem \"call\". Stemmed from clean.\n",
    "        \n",
    "    'lemmatized'\n",
    "        - Lemmatization is very similar to stemming, however, the base form in this case is known as the root word, but not the root stem. The difference is that the root word is always a lexicographically correct word (present in the dictionary), but the root stem may not be so. Lemmatized from clean.\n",
    "\n",
    "#### Removed Outliers\n",
    "\n",
    "    - Java only had 15 observations so any repo project written in java got dropped.\n",
    "    - Ruby only had 1 observation so any repo project written in ruby got dropped.\n",
    "    - Shell only had 1 observation so any repo with project written in shell got dropped.\n",
    "        \n",
    "#### Scaling\n",
    "\n",
    "    No scaling was preformed.\n",
    "        \n",
    "#### Split\n",
    "\n",
    "    Split data into three data frames:\n",
    "    \n",
    "        - train\n",
    "        - validate\n",
    "        - test\n",
    "        \n",
    "    Used a random_state of 123\n",
    "    Stratified on our target feature, language\n",
    "\n",
    "### Prepare Takeaway\n",
    "\n",
    "    - All features and observations have no null or empty values.\n",
    "    - test_train_split were stratified on my target feature language"
   ]
  },
  {
   "cell_type": "markdown",
   "id": "fb6cb8ea",
   "metadata": {},
   "source": [
    "# Exploration (Brooke & Curtis)\n",
    "\n",
    " - Two questions with answers\n",
    " - At least two graphs"
   ]
  },
  {
   "cell_type": "code",
   "execution_count": 10,
   "id": "950bb417",
   "metadata": {},
   "outputs": [],
   "source": [
    "train, validate, test = prepare(acquire())"
   ]
  },
  {
   "cell_type": "markdown",
   "id": "6533d57e",
   "metadata": {},
   "source": [
    "# Modeling (Brandon)\n",
    "\n",
    " - Validate Model results\n",
    " - Best Validate Model\n",
    " - Test Model"
   ]
  },
  {
   "cell_type": "code",
   "execution_count": 11,
   "id": "5b237d5e",
   "metadata": {},
   "outputs": [],
   "source": [
    "train, validate, test = prepare(acquire())"
   ]
  },
  {
   "cell_type": "code",
   "execution_count": 18,
   "id": "ab2cf246",
   "metadata": {},
   "outputs": [
    {
     "name": "stdout",
     "output_type": "stream",
     "text": [
      "Baseline Accuracy:C# 31%\n"
     ]
    }
   ],
   "source": [
    "#Create a baseline model\n",
    "print(f'Baseline Accuracy:{train.language.value_counts().idxmax()} {round(max(train.language.value_counts()) / train.shape[0] *100)}%' )"
   ]
  },
  {
   "cell_type": "markdown",
   "id": "0d55761b",
   "metadata": {},
   "source": [
    "The cell above shows C# is the most commonly occuring langauge at 31% this will serve as our baseline"
   ]
  },
  {
   "cell_type": "code",
   "execution_count": 20,
   "id": "8cf94112",
   "metadata": {},
   "outputs": [],
   "source": [
    "# Creating a Dataframe to hold all of our scores\n",
    "score_df = pd.DataFrame(columns = ['model_name', 'train_score', 'validate_score'])"
   ]
  },
  {
   "cell_type": "code",
   "execution_count": 21,
   "id": "65430659",
   "metadata": {},
   "outputs": [],
   "source": [
    "# Creating our y train, validate and test\n",
    "y_train = train.language\n",
    "y_validate = validate.language\n",
    "y_test = test.language\n",
    "# Creating our x train validate and test using a function that \n",
    "# performs count vectorization on stemmed data\n",
    "X_train,X_validate,X_test = vectorizer_split('stemmed')"
   ]
  },
  {
   "cell_type": "code",
   "execution_count": 22,
   "id": "a6ce9957",
   "metadata": {},
   "outputs": [],
   "source": [
    "def run_models():\n",
    "    #Decision Tree\n",
    "    ## Create a for loop that creates 20 decision tree models with increasingly larger depths.\n",
    "    metrics = []\n",
    "    tree_models = []\n",
    "    for i in range(2, 22):\n",
    "        # Make the model\n",
    "        tree = DecisionTreeClassifier(max_depth=i, random_state=123)\n",
    "\n",
    "        # Fit the model (on train and only train)\n",
    "        tree = tree.fit(X_train, y_train)\n",
    "        y_predictions = tree.predict(X_train)\n",
    "        y_pred = tree.predict(X_validate)\n",
    "        # Use the model\n",
    "        in_sample_accuracy = round(tree.score(X_train, y_train),3)\n",
    "    \n",
    "        out_of_sample_accuracy = round(tree.score(X_validate, y_validate),3)\n",
    "        \n",
    "        in_sample_recall = round(sklearn.metrics.recall_score(y_train, y_predictions, pos_label=0, average='micro'),3)\n",
    "        \n",
    "        out_of_sample_recall = round(sklearn.metrics.recall_score(y_validate, y_pred, pos_label =0, average='micro'),3)\n",
    "        output = {\n",
    "            \"max_depth\": i,\n",
    "            \"train_accuracy\": in_sample_accuracy,\n",
    "            \"validate_accuracy\": out_of_sample_accuracy,\n",
    "            \"train_recall\": in_sample_recall,\n",
    "            \"validate_recall\": out_of_sample_recall\n",
    "        }\n",
    "        \n",
    "        # This creates the df below\n",
    "        metrics.append(output)\n",
    "        # tree_models will store all of my tree models incase i want them later\n",
    "        tree_models.append(tree)\n",
    "        \n",
    "    tree_df = pd.DataFrame(metrics)\n",
    "    tree_df[\"accuracy_difference\"] = tree_df.train_accuracy - tree_df.validate_accuracy    \n",
    "    \n",
    "    # Random Forest\n",
    "    ## Create a for loop that creates 20 Random Forrest models with increasingly larger depths.\n",
    "    metrics2 = []\n",
    "    forest_models = []\n",
    "    for i in range(2, 22):\n",
    "        # Make the model\n",
    "        forest = RandomForestClassifier(max_depth=i, random_state=123)\n",
    "    \n",
    "        # Fit the model (on train and only train)\n",
    "        forest = forest.fit(X_train, y_train)\n",
    "        \n",
    "        y_predictions = forest.predict(X_train)\n",
    "        y_pred = forest.predict(X_validate)\n",
    "        \n",
    "        # Use the model\n",
    "        in_sample_accuracy = round(forest.score(X_train, y_train),3)\n",
    "        \n",
    "        out_of_sample_accuracy = round(forest.score(X_validate, y_validate),3)\n",
    "        \n",
    "        in_sample_recall = round(sklearn.metrics.recall_score(y_train, y_predictions, pos_label =0, average='micro'),3)\n",
    "        \n",
    "        out_of_sample_recall = round(sklearn.metrics.recall_score(y_validate, y_pred, pos_label =0, average='micro'),3)\n",
    "        \n",
    "        output = {\n",
    "            \"max_depth\": i,\n",
    "            \"train_accuracy\": in_sample_accuracy,\n",
    "            \"validate_accuracy\": out_of_sample_accuracy,\n",
    "            \"train_recall\": in_sample_recall,\n",
    "            \"validate_recall\": out_of_sample_recall\n",
    "        }\n",
    "        \n",
    "        # This creates the df below\n",
    "        metrics2.append(output)\n",
    "        # tree_models will store all of my tree models incase i want them later\n",
    "        forest_models.append(forest)\n",
    "        \n",
    "        \n",
    "        \n",
    "    forest_df = pd.DataFrame(metrics2)\n",
    "    forest_df[\"accuracy_difference\"] = forest_df.train_accuracy - forest_df.validate_accuracy\n",
    "    \n",
    "\n",
    "    knn_metrics = []\n",
    "    knn_models = []\n",
    "    # loop through different values of k\n",
    "    for k in range(1, 21):\n",
    "            \n",
    "        # define the thing\n",
    "        knn = KNeighborsClassifier(n_neighbors=k)\n",
    "        \n",
    "        # fit the thing (remmeber only fit on training data)\n",
    "        knn.fit(X_train, y_train)\n",
    "        \n",
    "        y_predictions = knn.predict(X_train)\n",
    "        y_pred = knn.predict(X_validate)\n",
    "        # use the thing (calculate accuracy)\n",
    "        train_accuracy = round(knn.score(X_train, y_train),3)\n",
    "        validate_accuracy = round(knn.score(X_validate, y_validate),3)\n",
    "        train_recall = round(sklearn.metrics.recall_score(y_train, y_predictions, pos_label =0,average='micro'),3)\n",
    "        validate_recall = round(sklearn.metrics.recall_score(y_validate, y_pred, pos_label =0,average='micro'),3)\n",
    "        output = {\n",
    "            \"k\": k,\n",
    "            \"train_accuracy\": train_accuracy,\n",
    "            \"validate_accuracy\": validate_accuracy,\n",
    "            'train_recall':train_recall,\n",
    "            \"validate_recall\":validate_recall\n",
    "        }\n",
    "        \n",
    "        knn_metrics.append(output)\n",
    "        knn_models.append(knn)\n",
    "        # make a dataframe\n",
    "    \n",
    "    knn_df = pd.DataFrame(knn_metrics)\n",
    "    knn_df[\"accuracy_difference\"] = knn_df.train_accuracy - knn_df.validate_accuracy\n",
    "        \n",
    "    \n",
    "    return tree_models, forest_models,knn_models, tree_df, forest_df, knn_df"
   ]
  },
  {
   "cell_type": "code",
   "execution_count": 23,
   "id": "53ec5125",
   "metadata": {},
   "outputs": [],
   "source": [
    "# Run multiple variations of KNN, Decision Trees, and Random Forest\n",
    "# with differing variationds of neighbors, branches, and trees\n",
    "# saved those models to the coresponding dataframes so the best \n",
    "# performer could be called upon\n",
    "tree_models, forest_models,knn_models, tree_df, forest_df, knn_df = run_models()\n",
    "\n",
    "from sklearn import svm\n",
    "\n",
    "# make a list of algorithms we want to try for our models\n",
    "model_list = [MultinomialNB(), LinearSVC(), tree_models[tree_df.validate_accuracy.idxmax()], forest_models[forest_df.accuracy_difference.idxmin()], knn_models[knn_df.validate_accuracy.idxmax()], LogisticRegression(), svm.SVC(C= 2, decision_function_shape='ovo')]\n",
    "\n",
    "# name the models\n",
    "model_names = ['Naive_Bayes_stemmed_CV', 'SVC_stemmed_CV', 'Decision_tree_stemmed_CV', 'Random_forest_stemmed_CV', 'KNN_stemmed_CV', 'Log_reg_stemmed_CV','SVC_OVO_stemmed_CV']\n",
    "# Run the models\n",
    "for model, name in zip(model_list, model_names):\n",
    "    score_df = test_a_model(X_train, y_train, X_validate, y_validate, model, name, score_df)"
   ]
  },
  {
   "cell_type": "markdown",
   "id": "441ff75c",
   "metadata": {},
   "source": [
    "This process is iterative, it will be peromed the exact same way for each variation of stemmed and lemmatized as well as the differing vectorizations of TFIDF and count vectorization. All results are being saved to the data frame score_df. In a seperate notebook each of the models where closely analyzed."
   ]
  },
  {
   "cell_type": "code",
   "execution_count": 25,
   "id": "b6ad5439",
   "metadata": {},
   "outputs": [],
   "source": [
    "# Creating our x train validate and test using a function that \n",
    "# performs count vectorization on lemmatized data\n",
    "X_train,X_validate,X_test = vectorizer_split('lemmatized')"
   ]
  },
  {
   "cell_type": "code",
   "execution_count": 26,
   "id": "eba6ea43",
   "metadata": {},
   "outputs": [],
   "source": [
    "# Run multiple variations of KNN, Decision Trees, and Random Forest\n",
    "# with differing variationds of neighbors, branches, and trees\n",
    "# saved those models to the coresponding dataframes so the best \n",
    "# performer could be called upon\n",
    "tree_models, forest_models,knn_models, tree_df, forest_df, knn_df = run_models()\n",
    "\n",
    "from sklearn import svm\n",
    "\n",
    "# make a list of algorithms we want to try for our models\n",
    "model_list = [MultinomialNB(), LinearSVC(), tree_models[tree_df.validate_accuracy.idxmax()], forest_models[forest_df.accuracy_difference.idxmin()], knn_models[knn_df.validate_accuracy.idxmax()], LogisticRegression(), svm.SVC(C= 2, decision_function_shape='ovo')]\n",
    "\n",
    "# name the models\n",
    "model_names = ['Naive_Bayes_lemmatized_CV', 'SVC_lemmatized_CV', 'Decision_tree_lemmatized_CV', 'Random_forest_lemmatized_CV', 'KNN_lemmatized_CV', 'Log_reg_lemmatized_CV','SVC_OVO_lemmatized_CV']\n",
    "\n",
    "# Run the models\n",
    "for model, name in zip(model_list, model_names):\n",
    "    score_df = test_a_model(X_train, y_train, X_validate, y_validate, model, name, score_df)"
   ]
  },
  {
   "cell_type": "code",
   "execution_count": 27,
   "id": "6e6f816e",
   "metadata": {},
   "outputs": [],
   "source": [
    "# Creating our x train validate and test using a function that \n",
    "# performs TFIDF vectorization on stemmed data\n",
    "X_train,X_validate,X_test = tfidf_split('stemmed')"
   ]
  },
  {
   "cell_type": "code",
   "execution_count": 28,
   "id": "96b549e0",
   "metadata": {},
   "outputs": [],
   "source": [
    "# Run multiple variations of KNN, Decision Trees, and Random Forest\n",
    "# with differing variationds of neighbors, branches, and trees\n",
    "# saved those models to the coresponding dataframes so the best \n",
    "# performer could be called upon\n",
    "tree_models, forest_models,knn_models, tree_df, forest_df, knn_df = run_models()\n",
    "\n",
    "from sklearn import svm\n",
    "\n",
    "# make a list of algorithms we want to try for our models\n",
    "model_list = [MultinomialNB(), LinearSVC(), DecisionTreeClassifier(), forest_models[forest_df.accuracy_difference.idxmin()], knn_models[knn_df.validate_accuracy.idxmax()], LogisticRegression(), svm.SVC(C= 2, decision_function_shape='ovo')]\n",
    "\n",
    "# name the models\n",
    "model_names = ['Naive_Bayes_stemmed_TFIDF', 'SVC_stemmed_TFIDF', 'Decision_tree_stemmed_TFIDF', 'Random_forest_stemmed_TFIDF', 'KNN_bigrams_stemmed_TFIDF', 'Log_reg_stemmed_TFIDF','SVC_OVO_stemmed_TFIDF']\n",
    "\n",
    "# Run the models\n",
    "for model, name in zip(model_list, model_names):\n",
    "    score_df = test_a_model(X_train, y_train,X_validate, y_validate, model, name, score_df)"
   ]
  },
  {
   "cell_type": "code",
   "execution_count": 29,
   "id": "c2037a01",
   "metadata": {},
   "outputs": [],
   "source": [
    "# Creating our x train validate and test using a function that \n",
    "# performs TFIDF vectorization on lemmatized data\n",
    "X_train,X_validate,X_test = tfidf_split('lemmatized')"
   ]
  },
  {
   "cell_type": "code",
   "execution_count": 30,
   "id": "6a037c9c",
   "metadata": {},
   "outputs": [],
   "source": [
    "# Run multiple variations of KNN, Decision Trees, and Random Forest\n",
    "# with differing variationds of neighbors, branches, and trees\n",
    "# saved those models to the coresponding dataframes so the best \n",
    "# performer could be called upon\n",
    "tree_models, forest_models,knn_models, tree_df, forest_df, knn_df = run_models()\n",
    "\n",
    "from sklearn import svm\n",
    "\n",
    "# make a list of algorithms we want to try for our models\n",
    "model_list = [MultinomialNB(), LinearSVC(), tree_models[tree_df.validate_accuracy.idxmax()], forest_models[forest_df.validate_accuracy.idxmax()], knn_models[knn_df.validate_accuracy.idxmax()], LogisticRegression(), svm.SVC(C= 2, decision_function_shape='ovo')]\n",
    "\n",
    "# name the models\n",
    "model_names = ['Naive_Bayes_lemmatized_TFIDF', 'SVC_lemmatized_TFIDF', 'Decision_tree_lemmatized_TFIDF', 'Random_forest_lemmatized_TFIDF', 'KNN_lemmatized_TFIDF', 'Log_reg_lemmatized_TFIDF','SVC_OVO_lemmatized_TFIDF']\n",
    "\n",
    "# Run the models\n",
    "for model, name in zip(model_list, model_names):\n",
    "    score_df = test_a_model(X_train, y_train, X_validate, y_validate, model, name, score_df)"
   ]
  },
  {
   "cell_type": "code",
   "execution_count": 31,
   "id": "0e73bcd1",
   "metadata": {},
   "outputs": [],
   "source": [
    "# Creating a column to show us the difference between train and validate accuracy \n",
    "score_df[\"accuracy_difference\"] = score_df.train_score - score_df.validate_score"
   ]
  },
  {
   "cell_type": "code",
   "execution_count": 32,
   "id": "cdb2d7b4",
   "metadata": {},
   "outputs": [
    {
     "data": {
      "text/html": [
       "<style  type=\"text/css\" >\n",
       "#T_611fd_row0_col2,#T_611fd_row5_col3{\n",
       "            background-color:  yellow;\n",
       "        }</style><table id=\"T_611fd_\" ><thead>    <tr>        <th class=\"blank level0\" ></th>        <th class=\"col_heading level0 col0\" >model_name</th>        <th class=\"col_heading level0 col1\" >train_score</th>        <th class=\"col_heading level0 col2\" >validate_score</th>        <th class=\"col_heading level0 col3\" >accuracy_difference</th>    </tr></thead><tbody>\n",
       "                <tr>\n",
       "                        <th id=\"T_611fd_level0_row0\" class=\"row_heading level0 row0\" >23</th>\n",
       "                        <td id=\"T_611fd_row0_col0\" class=\"data row0 col0\" >Decision_tree_lemmatized_TFIDF</td>\n",
       "                        <td id=\"T_611fd_row0_col1\" class=\"data row0 col1\" >0.862069</td>\n",
       "                        <td id=\"T_611fd_row0_col2\" class=\"data row0 col2\" >0.720000</td>\n",
       "                        <td id=\"T_611fd_row0_col3\" class=\"data row0 col3\" >0.142069</td>\n",
       "            </tr>\n",
       "            <tr>\n",
       "                        <th id=\"T_611fd_level0_row1\" class=\"row_heading level0 row1\" >5</th>\n",
       "                        <td id=\"T_611fd_row1_col0\" class=\"data row1 col0\" >Log_reg_stemmed_CV</td>\n",
       "                        <td id=\"T_611fd_row1_col1\" class=\"data row1 col1\" >1.000000</td>\n",
       "                        <td id=\"T_611fd_row1_col2\" class=\"data row1 col2\" >0.640000</td>\n",
       "                        <td id=\"T_611fd_row1_col3\" class=\"data row1 col3\" >0.360000</td>\n",
       "            </tr>\n",
       "            <tr>\n",
       "                        <th id=\"T_611fd_level0_row2\" class=\"row_heading level0 row2\" >15</th>\n",
       "                        <td id=\"T_611fd_row2_col0\" class=\"data row2 col0\" >SVC_stemmed_TFIDF</td>\n",
       "                        <td id=\"T_611fd_row2_col1\" class=\"data row2 col1\" >1.000000</td>\n",
       "                        <td id=\"T_611fd_row2_col2\" class=\"data row2 col2\" >0.600000</td>\n",
       "                        <td id=\"T_611fd_row2_col3\" class=\"data row2 col3\" >0.400000</td>\n",
       "            </tr>\n",
       "            <tr>\n",
       "                        <th id=\"T_611fd_level0_row3\" class=\"row_heading level0 row3\" >2</th>\n",
       "                        <td id=\"T_611fd_row3_col0\" class=\"data row3 col0\" >Decision_tree_stemmed_CV</td>\n",
       "                        <td id=\"T_611fd_row3_col1\" class=\"data row3 col1\" >0.913793</td>\n",
       "                        <td id=\"T_611fd_row3_col2\" class=\"data row3 col2\" >0.600000</td>\n",
       "                        <td id=\"T_611fd_row3_col3\" class=\"data row3 col3\" >0.313793</td>\n",
       "            </tr>\n",
       "            <tr>\n",
       "                        <th id=\"T_611fd_level0_row4\" class=\"row_heading level0 row4\" >24</th>\n",
       "                        <td id=\"T_611fd_row4_col0\" class=\"data row4 col0\" >Random_forest_lemmatized_TFIDF</td>\n",
       "                        <td id=\"T_611fd_row4_col1\" class=\"data row4 col1\" >0.913793</td>\n",
       "                        <td id=\"T_611fd_row4_col2\" class=\"data row4 col2\" >0.600000</td>\n",
       "                        <td id=\"T_611fd_row4_col3\" class=\"data row4 col3\" >0.313793</td>\n",
       "            </tr>\n",
       "            <tr>\n",
       "                        <th id=\"T_611fd_level0_row5\" class=\"row_heading level0 row5\" >4</th>\n",
       "                        <td id=\"T_611fd_row5_col0\" class=\"data row5 col0\" >KNN_stemmed_CV</td>\n",
       "                        <td id=\"T_611fd_row5_col1\" class=\"data row5 col1\" >0.465517</td>\n",
       "                        <td id=\"T_611fd_row5_col2\" class=\"data row5 col2\" >0.600000</td>\n",
       "                        <td id=\"T_611fd_row5_col3\" class=\"data row5 col3\" >-0.134483</td>\n",
       "            </tr>\n",
       "            <tr>\n",
       "                        <th id=\"T_611fd_level0_row6\" class=\"row_heading level0 row6\" >6</th>\n",
       "                        <td id=\"T_611fd_row6_col0\" class=\"data row6 col0\" >SVC_OVO_stemmed_CV</td>\n",
       "                        <td id=\"T_611fd_row6_col1\" class=\"data row6 col1\" >0.913793</td>\n",
       "                        <td id=\"T_611fd_row6_col2\" class=\"data row6 col2\" >0.600000</td>\n",
       "                        <td id=\"T_611fd_row6_col3\" class=\"data row6 col3\" >0.313793</td>\n",
       "            </tr>\n",
       "            <tr>\n",
       "                        <th id=\"T_611fd_level0_row7\" class=\"row_heading level0 row7\" >9</th>\n",
       "                        <td id=\"T_611fd_row7_col0\" class=\"data row7 col0\" >Decision_tree_lemmatized_CV</td>\n",
       "                        <td id=\"T_611fd_row7_col1\" class=\"data row7 col1\" >0.982759</td>\n",
       "                        <td id=\"T_611fd_row7_col2\" class=\"data row7 col2\" >0.600000</td>\n",
       "                        <td id=\"T_611fd_row7_col3\" class=\"data row7 col3\" >0.382759</td>\n",
       "            </tr>\n",
       "            <tr>\n",
       "                        <th id=\"T_611fd_level0_row8\" class=\"row_heading level0 row8\" >11</th>\n",
       "                        <td id=\"T_611fd_row8_col0\" class=\"data row8 col0\" >KNN_lemmatized_CV</td>\n",
       "                        <td id=\"T_611fd_row8_col1\" class=\"data row8 col1\" >0.517241</td>\n",
       "                        <td id=\"T_611fd_row8_col2\" class=\"data row8 col2\" >0.600000</td>\n",
       "                        <td id=\"T_611fd_row8_col3\" class=\"data row8 col3\" >-0.082759</td>\n",
       "            </tr>\n",
       "            <tr>\n",
       "                        <th id=\"T_611fd_level0_row9\" class=\"row_heading level0 row9\" >18</th>\n",
       "                        <td id=\"T_611fd_row9_col0\" class=\"data row9 col0\" >KNN_bigrams_stemmed_TFIDF</td>\n",
       "                        <td id=\"T_611fd_row9_col1\" class=\"data row9 col1\" >0.724138</td>\n",
       "                        <td id=\"T_611fd_row9_col2\" class=\"data row9 col2\" >0.560000</td>\n",
       "                        <td id=\"T_611fd_row9_col3\" class=\"data row9 col3\" >0.164138</td>\n",
       "            </tr>\n",
       "    </tbody></table>"
      ],
      "text/plain": [
       "<pandas.io.formats.style.Styler at 0x7fbe7d8e8400>"
      ]
     },
     "execution_count": 32,
     "metadata": {},
     "output_type": "execute_result"
    }
   ],
   "source": [
    "# Sort the df_scores by the top 10 performing models highlights \n",
    "# the best validation score and the lowest difference between \n",
    "# the two.\n",
    "score_df.sort_values(by='validate_score', ascending=False).head(10).style.highlight_max('validate_score').highlight_min('accuracy_difference')"
   ]
  },
  {
   "cell_type": "markdown",
   "id": "33f23e26",
   "metadata": {},
   "source": [
    "# Key Takeaways\n",
    "- Best performing model was a Decision Tree with a Max depth of 3\n",
    "- Alot of models where over fitting, I tried to limit this but our data might just have some commonalities between them\n",
    "- In a seperate notebook I actually used Recursive Feature Engineering to pick the top features and run them for models that suffer from the curse of dimesionality but that **DID NOT** beat this decision tree model. \n",
    "- Moving foward I feel confident that this is our best performing model"
   ]
  },
  {
   "cell_type": "code",
   "execution_count": 33,
   "id": "8b20e703",
   "metadata": {},
   "outputs": [
    {
     "name": "stdout",
     "output_type": "stream",
     "text": [
      "                   ============== Decisiocion Tree ================           \n",
      "DecisionTreeClassifier(max_depth=3, random_state=123)\n",
      "~~~~~~~~Test Scores~~~~~~~~~\n",
      "              precision    recall  f1-score   support\n",
      "\n",
      "          C#       0.36      1.00      0.53         4\n",
      "        HTML       0.75      0.60      0.67         5\n",
      "  JavaScript       1.00      0.40      0.57         5\n",
      "      Python       1.00      0.57      0.73         7\n",
      "\n",
      "    accuracy                           0.62        21\n",
      "   macro avg       0.78      0.64      0.62        21\n",
      "weighted avg       0.82      0.62      0.64        21\n",
      "\n"
     ]
    },
    {
     "data": {
      "image/png": "[encoded data removed]",
      "text/plain": [
       "<Figure size 432x288 with 2 Axes>"
      ]
     },
     "metadata": {},
     "output_type": "display_data"
    },
    {
     "name": "stdout",
     "output_type": "stream",
     "text": [
      "\n",
      "-------------------------------------------------------------------\n",
      "\n"
     ]
    }
   ],
   "source": [
    "# Running the test on unseen data and creating a confusion matrix\n",
    "class_names = ['C#', 'HTML', 'JavaScript','Python' ]\n",
    "make_models_and_print_metrics_test_data(tree_models[tree_df.validate_accuracy.idxmax()], 'Decisiocion Tree', X_train, y_train, X_test, y_test, class_names)"
   ]
  },
  {
   "cell_type": "markdown",
   "id": "4ce04999",
   "metadata": {},
   "source": [
    "The best performing model on unseen test data doubled baseline prediction with an accuracy score of 62%. It looks like C# gives our models the largest problem. Most misclasifications where because of C#. In the future we may look at further cleaning of common words to reduce this misclassification"
   ]
  },
  {
   "cell_type": "markdown",
   "id": "2d006187",
   "metadata": {},
   "source": [
    "# Conclusion (Curtis)\n",
    "\n",
    "- To include recommendation\n",
    "- To include takeaway"
   ]
  },
  {
   "cell_type": "markdown",
   "id": "98c24da8",
   "metadata": {},
   "source": [
    "Our model could accuratley predict the language of the repos by 62% which had beat double the baseline model of 31%. Further cleaning of common words or stop words may improve the accuracy of the model. C# gave our models the hardest time with misclassifications of every other langauge falling under the C# moniker. "
   ]
  },
  {
   "cell_type": "markdown",
   "id": "86d4ca85",
   "metadata": {},
   "source": [
    "# Thank You"
   ]
  }
 ],
 "metadata": {
  "kernelspec": {
   "display_name": "Python 3",
   "language": "python",
   "name": "python3"
  },
  "language_info": {
   "codemirror_mode": {
    "name": "ipython",
    "version": 3
   },
   "file_extension": ".py",
   "mimetype": "text/x-python",
   "name": "python",
   "nbconvert_exporter": "python",
   "pygments_lexer": "ipython3",
   "version": "3.8.8"
  }
 },
 "nbformat": 4,
 "nbformat_minor": 5
}
