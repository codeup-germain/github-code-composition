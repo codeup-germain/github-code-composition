{
 "cells": [
  {
   "cell_type": "code",
   "execution_count": 1,
   "id": "b44ca195",
   "metadata": {},
   "outputs": [],
   "source": [
    "import pandas as pd\n",
    "import numpy as np\n",
    "import matplotlib.pyplot as plt\n",
    "\n",
    "import unicodedata\n",
    "import re\n",
    "import json\n",
    "\n",
    "import nltk\n",
    "from nltk.tokenize.toktok import ToktokTokenizer\n",
    "from nltk.corpus import stopwords\n",
    "from nltk import sent_tokenize\n",
    "from prepare import prepare"
   ]
  },
  {
   "cell_type": "code",
   "execution_count": 2,
   "id": "50bab94e",
   "metadata": {},
   "outputs": [],
   "source": [
    "with open('data.json') as json_file:\n",
    "    data = json.load(json_file)"
   ]
  },
  {
   "cell_type": "code",
   "execution_count": 3,
   "id": "0aabe181",
   "metadata": {},
   "outputs": [],
   "source": [
    "df = pd.DataFrame(data)"
   ]
  },
  {
   "cell_type": "code",
   "execution_count": 4,
   "id": "40dad93c",
   "metadata": {
    "scrolled": false
   },
   "outputs": [],
   "source": [
    "df = prepare(df)"
   ]
  },
  {
   "cell_type": "code",
   "execution_count": 5,
   "id": "77a9af38",
   "metadata": {},
   "outputs": [
    {
     "data": {
      "text/html": [
       "<div>\n",
       "<style scoped>\n",
       "    .dataframe tbody tr th:only-of-type {\n",
       "        vertical-align: middle;\n",
       "    }\n",
       "\n",
       "    .dataframe tbody tr th {\n",
       "        vertical-align: top;\n",
       "    }\n",
       "\n",
       "    .dataframe thead th {\n",
       "        text-align: right;\n",
       "    }\n",
       "</style>\n",
       "<table border=\"1\" class=\"dataframe\">\n",
       "  <thead>\n",
       "    <tr style=\"text-align: right;\">\n",
       "      <th></th>\n",
       "      <th>repo</th>\n",
       "      <th>language</th>\n",
       "      <th>readme_contents</th>\n",
       "      <th>clean</th>\n",
       "      <th>stemmed</th>\n",
       "      <th>lemmatized</th>\n",
       "    </tr>\n",
       "  </thead>\n",
       "  <tbody>\n",
       "    <tr>\n",
       "      <th>0</th>\n",
       "      <td>iterativv/NostalgiaForInfinity</td>\n",
       "      <td>Python</td>\n",
       "      <td># NostalgiaForInfinity\\nTrading strategy for t...</td>\n",
       "      <td>nostalgiaforinfinity trading strategy freqtrad...</td>\n",
       "      <td>nostalgiaforinfin trade strategi freqtradehttp...</td>\n",
       "      <td>nostalgiaforinfinity trading strategy freqtrad...</td>\n",
       "    </tr>\n",
       "    <tr>\n",
       "      <th>1</th>\n",
       "      <td>cl2333/Grokking-the-Coding-Interview-Patterns-...</td>\n",
       "      <td>Python</td>\n",
       "      <td># [Grokking-the-Coding-Interview-Patterns-for-...</td>\n",
       "      <td>grokkingthecodinginterviewpatternsforcodingque...</td>\n",
       "      <td>grokkingthecodinginterviewpatternsforcodingque...</td>\n",
       "      <td>grokkingthecodinginterviewpatternsforcodingque...</td>\n",
       "    </tr>\n",
       "    <tr>\n",
       "      <th>2</th>\n",
       "      <td>edeng23/binance-trade-bot</td>\n",
       "      <td>Python</td>\n",
       "      <td># binance-trade-bot\\n\\n![github](https://img.s...</td>\n",
       "      <td>binancetradebot githubhttpsimgshieldsiogithubw...</td>\n",
       "      <td>binancetradebot githubhttpsimgshieldsiogithubw...</td>\n",
       "      <td>binancetradebot githubhttpsimgshieldsiogithubw...</td>\n",
       "    </tr>\n",
       "    <tr>\n",
       "      <th>3</th>\n",
       "      <td>donnemartin/system-design-primer</td>\n",
       "      <td>Python</td>\n",
       "      <td>*[English](README.md) ∙ [日本語](README-ja.md) ∙ ...</td>\n",
       "      <td>englishreadmemd readmejamd readmezhhansmd read...</td>\n",
       "      <td>englishreadmemd readmejamd readmezhhansmd read...</td>\n",
       "      <td>englishreadmemd readmejamd readmezhhansmd read...</td>\n",
       "    </tr>\n",
       "    <tr>\n",
       "      <th>4</th>\n",
       "      <td>dortania/OpenCore-Legacy-Patcher</td>\n",
       "      <td>Python</td>\n",
       "      <td>&lt;div align=\"center\"&gt;\\n             &lt;img src=\"i...</td>\n",
       "      <td>div aligncenter img srcimagesocpatcherpng alto...</td>\n",
       "      <td>div aligncent img srcimagesocpatcherpng altope...</td>\n",
       "      <td>div aligncenter img srcimagesocpatcherpng alto...</td>\n",
       "    </tr>\n",
       "  </tbody>\n",
       "</table>\n",
       "</div>"
      ],
      "text/plain": [
       "                                                repo language  \\\n",
       "0                     iterativv/NostalgiaForInfinity   Python   \n",
       "1  cl2333/Grokking-the-Coding-Interview-Patterns-...   Python   \n",
       "2                          edeng23/binance-trade-bot   Python   \n",
       "3                   donnemartin/system-design-primer   Python   \n",
       "4                   dortania/OpenCore-Legacy-Patcher   Python   \n",
       "\n",
       "                                     readme_contents  \\\n",
       "0  # NostalgiaForInfinity\\nTrading strategy for t...   \n",
       "1  # [Grokking-the-Coding-Interview-Patterns-for-...   \n",
       "2  # binance-trade-bot\\n\\n![github](https://img.s...   \n",
       "3  *[English](README.md) ∙ [日本語](README-ja.md) ∙ ...   \n",
       "4  <div align=\"center\">\\n             <img src=\"i...   \n",
       "\n",
       "                                               clean  \\\n",
       "0  nostalgiaforinfinity trading strategy freqtrad...   \n",
       "1  grokkingthecodinginterviewpatternsforcodingque...   \n",
       "2  binancetradebot githubhttpsimgshieldsiogithubw...   \n",
       "3  englishreadmemd readmejamd readmezhhansmd read...   \n",
       "4  div aligncenter img srcimagesocpatcherpng alto...   \n",
       "\n",
       "                                             stemmed  \\\n",
       "0  nostalgiaforinfin trade strategi freqtradehttp...   \n",
       "1  grokkingthecodinginterviewpatternsforcodingque...   \n",
       "2  binancetradebot githubhttpsimgshieldsiogithubw...   \n",
       "3  englishreadmemd readmejamd readmezhhansmd read...   \n",
       "4  div aligncent img srcimagesocpatcherpng altope...   \n",
       "\n",
       "                                          lemmatized  \n",
       "0  nostalgiaforinfinity trading strategy freqtrad...  \n",
       "1  grokkingthecodinginterviewpatternsforcodingque...  \n",
       "2  binancetradebot githubhttpsimgshieldsiogithubw...  \n",
       "3  englishreadmemd readmejamd readmezhhansmd read...  \n",
       "4  div aligncenter img srcimagesocpatcherpng alto...  "
      ]
     },
     "execution_count": 5,
     "metadata": {},
     "output_type": "execute_result"
    }
   ],
   "source": [
    "df.head()"
   ]
  },
  {
   "cell_type": "code",
   "execution_count": 11,
   "id": "edd086b8",
   "metadata": {},
   "outputs": [],
   "source": [
    "def clean(text):\n",
    "    'A simple function to cleanup text data'\n",
    "    \n",
    "    ADDITIONAL_STOPWORDS = []\n",
    "    wnl = nltk.stem.WordNetLemmatizer()\n",
    "    stopwords = nltk.corpus.stopwords.words('english') + ADDITIONAL_STOPWORDS\n",
    "    text = (unicodedata.normalize('NFKD', text)\n",
    "             .encode('ascii', 'ignore')\n",
    "             .decode('utf-8', 'ignore')\n",
    "             .lower())\n",
    "    words = re.sub(r'[^\\w\\s]', '', text).split()\n",
    "    return [wnl.lemmatize(word) for word in words if word not in stopwords]"
   ]
  },
  {
   "cell_type": "code",
   "execution_count": 12,
   "id": "f68241a6",
   "metadata": {},
   "outputs": [
    {
     "data": {
      "text/html": [
       "<div>\n",
       "<style scoped>\n",
       "    .dataframe tbody tr th:only-of-type {\n",
       "        vertical-align: middle;\n",
       "    }\n",
       "\n",
       "    .dataframe tbody tr th {\n",
       "        vertical-align: top;\n",
       "    }\n",
       "\n",
       "    .dataframe thead th {\n",
       "        text-align: right;\n",
       "    }\n",
       "</style>\n",
       "<table border=\"1\" class=\"dataframe\">\n",
       "  <thead>\n",
       "    <tr style=\"text-align: right;\">\n",
       "      <th></th>\n",
       "      <th>n</th>\n",
       "      <th>percent</th>\n",
       "    </tr>\n",
       "  </thead>\n",
       "  <tbody>\n",
       "    <tr>\n",
       "      <th>Python</th>\n",
       "      <td>25</td>\n",
       "      <td>1.0</td>\n",
       "    </tr>\n",
       "  </tbody>\n",
       "</table>\n",
       "</div>"
      ],
      "text/plain": [
       "         n  percent\n",
       "Python  25      1.0"
      ]
     },
     "execution_count": 12,
     "metadata": {},
     "output_type": "execute_result"
    }
   ],
   "source": [
    "def show_counts_and_ratios(df, column):\n",
    "    \"\"\"\n",
    "    Takes in a dataframe and a string of a single column\n",
    "    Returns a dataframe with absolute value counts and percentage value counts\n",
    "    \"\"\"\n",
    "    labels = pd.concat([df[column].value_counts(),\n",
    "                    df[column].value_counts(normalize=True)], axis=1)\n",
    "    labels.columns = ['n', 'percent']\n",
    "    labels\n",
    "    return labels\n",
    "\n",
    "show_counts_and_ratios(df, \"language\")"
   ]
  },
  {
   "cell_type": "code",
   "execution_count": 14,
   "id": "26eff947",
   "metadata": {},
   "outputs": [],
   "source": [
    "python_words = clean(' '.join(df[df.language == 'Python'].readme_contents))"
   ]
  },
  {
   "cell_type": "code",
   "execution_count": 15,
   "id": "3ed288bf",
   "metadata": {},
   "outputs": [],
   "source": [
    "python_freq = pd.Series(python_words).value_counts()"
   ]
  },
  {
   "cell_type": "code",
   "execution_count": 17,
   "id": "92280e4b",
   "metadata": {},
   "outputs": [
    {
     "data": {
      "text/plain": [
       "yes            1611\n",
       "unknown         909\n",
       "apikey          556\n",
       "video           489\n",
       "python          447\n",
       "data            414\n",
       "api             387\n",
       "file            330\n",
       "format          293\n",
       "use             246\n",
       "download        220\n",
       "library         219\n",
       "open            210\n",
       "youtubedl       160\n",
       "default         159\n",
       "oauth           152\n",
       "string          152\n",
       "1               147\n",
       "using           144\n",
       "2               139\n",
       "code            135\n",
       "information     133\n",
       "number          125\n",
       "example         121\n",
       "also            120\n",
       "dtype: int64"
      ]
     },
     "execution_count": 17,
     "metadata": {},
     "output_type": "execute_result"
    }
   ],
   "source": [
    "python_freq.head(25)"
   ]
  },
  {
   "cell_type": "code",
   "execution_count": null,
   "id": "ab10efc7",
   "metadata": {},
   "outputs": [],
   "source": []
  }
 ],
 "metadata": {
  "kernelspec": {
   "display_name": "Python 3",
   "language": "python",
   "name": "python3"
  },
  "language_info": {
   "codemirror_mode": {
    "name": "ipython",
    "version": 3
   },
   "file_extension": ".py",
   "mimetype": "text/x-python",
   "name": "python",
   "nbconvert_exporter": "python",
   "pygments_lexer": "ipython3",
   "version": "3.8.8"
  }
 },
 "nbformat": 4,
 "nbformat_minor": 5
}
