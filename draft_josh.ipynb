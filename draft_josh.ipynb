{
 "cells": [
  {
   "cell_type": "code",
   "execution_count": 1,
   "id": "b44ca195",
   "metadata": {},
   "outputs": [],
   "source": [
    "import pandas as pd\n",
    "import numpy as np\n",
    "import matplotlib.pyplot as plt\n",
    "\n",
    "import unicodedata\n",
    "import re\n",
    "import json\n",
    "\n",
    "import nltk\n",
    "from nltk.tokenize.toktok import ToktokTokenizer\n",
    "from nltk.corpus import stopwords\n",
    "from nltk import sent_tokenize\n",
    "from prepare import prepare"
   ]
  },
  {
   "cell_type": "code",
   "execution_count": 2,
   "id": "50bab94e",
   "metadata": {},
   "outputs": [],
   "source": [
    "with open('data.json') as json_file:\n",
    "    data = json.load(json_file)"
   ]
  },
  {
   "cell_type": "code",
   "execution_count": 3,
   "id": "f2ded985",
   "metadata": {},
   "outputs": [],
   "source": [
    "df = pd.DataFrame(data)"
   ]
  },
  {
   "cell_type": "code",
   "execution_count": 4,
   "id": "8160302f",
   "metadata": {
    "scrolled": false
   },
   "outputs": [],
   "source": [
    "df = prepare(df)"
   ]
  },
  {
   "cell_type": "code",
   "execution_count": 5,
   "id": "7ef73189",
   "metadata": {},
   "outputs": [
    {
     "data": {
      "text/html": [
       "<div>\n",
       "<style scoped>\n",
       "    .dataframe tbody tr th:only-of-type {\n",
       "        vertical-align: middle;\n",
       "    }\n",
       "\n",
       "    .dataframe tbody tr th {\n",
       "        vertical-align: top;\n",
       "    }\n",
       "\n",
       "    .dataframe thead th {\n",
       "        text-align: right;\n",
       "    }\n",
       "</style>\n",
       "<table border=\"1\" class=\"dataframe\">\n",
       "  <thead>\n",
       "    <tr style=\"text-align: right;\">\n",
       "      <th></th>\n",
       "      <th>repo</th>\n",
       "      <th>language</th>\n",
       "      <th>readme_contents</th>\n",
       "      <th>clean</th>\n",
       "      <th>stemmed</th>\n",
       "      <th>lemmatized</th>\n",
       "    </tr>\n",
       "  </thead>\n",
       "  <tbody>\n",
       "    <tr>\n",
       "      <th>0</th>\n",
       "      <td>iterativv/NostalgiaForInfinity</td>\n",
       "      <td>Python</td>\n",
       "      <td># NostalgiaForInfinity\\nTrading strategy for t...</td>\n",
       "      <td>nostalgiaforinfinity trading strategy freqtrad...</td>\n",
       "      <td>nostalgiaforinfin trade strategi freqtradehttp...</td>\n",
       "      <td>nostalgiaforinfinity trading strategy freqtrad...</td>\n",
       "    </tr>\n",
       "    <tr>\n",
       "      <th>1</th>\n",
       "      <td>cl2333/Grokking-the-Coding-Interview-Patterns-...</td>\n",
       "      <td>Python</td>\n",
       "      <td># [Grokking-the-Coding-Interview-Patterns-for-...</td>\n",
       "      <td>grokkingthecodinginterviewpatternsforcodingque...</td>\n",
       "      <td>grokkingthecodinginterviewpatternsforcodingque...</td>\n",
       "      <td>grokkingthecodinginterviewpatternsforcodingque...</td>\n",
       "    </tr>\n",
       "    <tr>\n",
       "      <th>2</th>\n",
       "      <td>edeng23/binance-trade-bot</td>\n",
       "      <td>Python</td>\n",
       "      <td># binance-trade-bot\\n\\n![github](https://img.s...</td>\n",
       "      <td>binancetradebot githubhttpsimgshieldsiogithubw...</td>\n",
       "      <td>binancetradebot githubhttpsimgshieldsiogithubw...</td>\n",
       "      <td>binancetradebot githubhttpsimgshieldsiogithubw...</td>\n",
       "    </tr>\n",
       "    <tr>\n",
       "      <th>3</th>\n",
       "      <td>donnemartin/system-design-primer</td>\n",
       "      <td>Python</td>\n",
       "      <td>*[English](README.md) ∙ [日本語](README-ja.md) ∙ ...</td>\n",
       "      <td>englishreadmemd readmejamd readmezhhansmd read...</td>\n",
       "      <td>englishreadmemd readmejamd readmezhhansmd read...</td>\n",
       "      <td>englishreadmemd readmejamd readmezhhansmd read...</td>\n",
       "    </tr>\n",
       "    <tr>\n",
       "      <th>4</th>\n",
       "      <td>dortania/OpenCore-Legacy-Patcher</td>\n",
       "      <td>Python</td>\n",
       "      <td>&lt;div align=\"center\"&gt;\\n             &lt;img src=\"i...</td>\n",
       "      <td>div aligncenter img srcimagesocpatcherpng alto...</td>\n",
       "      <td>div aligncent img srcimagesocpatcherpng altope...</td>\n",
       "      <td>div aligncenter img srcimagesocpatcherpng alto...</td>\n",
       "    </tr>\n",
       "  </tbody>\n",
       "</table>\n",
       "</div>"
      ],
      "text/plain": [
       "                                                repo language  \\\n",
       "0                     iterativv/NostalgiaForInfinity   Python   \n",
       "1  cl2333/Grokking-the-Coding-Interview-Patterns-...   Python   \n",
       "2                          edeng23/binance-trade-bot   Python   \n",
       "3                   donnemartin/system-design-primer   Python   \n",
       "4                   dortania/OpenCore-Legacy-Patcher   Python   \n",
       "\n",
       "                                     readme_contents  \\\n",
       "0  # NostalgiaForInfinity\\nTrading strategy for t...   \n",
       "1  # [Grokking-the-Coding-Interview-Patterns-for-...   \n",
       "2  # binance-trade-bot\\n\\n![github](https://img.s...   \n",
       "3  *[English](README.md) ∙ [日本語](README-ja.md) ∙ ...   \n",
       "4  <div align=\"center\">\\n             <img src=\"i...   \n",
       "\n",
       "                                               clean  \\\n",
       "0  nostalgiaforinfinity trading strategy freqtrad...   \n",
       "1  grokkingthecodinginterviewpatternsforcodingque...   \n",
       "2  binancetradebot githubhttpsimgshieldsiogithubw...   \n",
       "3  englishreadmemd readmejamd readmezhhansmd read...   \n",
       "4  div aligncenter img srcimagesocpatcherpng alto...   \n",
       "\n",
       "                                             stemmed  \\\n",
       "0  nostalgiaforinfin trade strategi freqtradehttp...   \n",
       "1  grokkingthecodinginterviewpatternsforcodingque...   \n",
       "2  binancetradebot githubhttpsimgshieldsiogithubw...   \n",
       "3  englishreadmemd readmejamd readmezhhansmd read...   \n",
       "4  div aligncent img srcimagesocpatcherpng altope...   \n",
       "\n",
       "                                          lemmatized  \n",
       "0  nostalgiaforinfinity trading strategy freqtrad...  \n",
       "1  grokkingthecodinginterviewpatternsforcodingque...  \n",
       "2  binancetradebot githubhttpsimgshieldsiogithubw...  \n",
       "3  englishreadmemd readmejamd readmezhhansmd read...  \n",
       "4  div aligncenter img srcimagesocpatcherpng alto...  "
      ]
     },
     "execution_count": 5,
     "metadata": {},
     "output_type": "execute_result"
    }
   ],
   "source": [
    "df.head()"
   ]
  },
  {
   "cell_type": "markdown",
   "id": "7d7858d0",
   "metadata": {},
   "source": [
    "# Exploration"
   ]
  },
  {
   "cell_type": "code",
   "execution_count": 6,
   "id": "26d8721c",
   "metadata": {},
   "outputs": [],
   "source": [
    "def clean(text):\n",
    "    'A simple function to cleanup text data'\n",
    "    \n",
    "    ADDITIONAL_STOPWORDS = []\n",
    "    wnl = nltk.stem.WordNetLemmatizer()\n",
    "    stopwords = nltk.corpus.stopwords.words('english') + ADDITIONAL_STOPWORDS\n",
    "    text = (unicodedata.normalize('NFKD', text)\n",
    "             .encode('ascii', 'ignore')\n",
    "             .decode('utf-8', 'ignore')\n",
    "             .lower())\n",
    "    words = re.sub(r'[^\\w\\s]', '', text).split()\n",
    "    return [wnl.lemmatize(word) for word in words if word not in stopwords]"
   ]
  },
  {
   "cell_type": "code",
   "execution_count": 7,
   "id": "acc78e15",
   "metadata": {},
   "outputs": [
    {
     "data": {
      "text/html": [
       "<div>\n",
       "<style scoped>\n",
       "    .dataframe tbody tr th:only-of-type {\n",
       "        vertical-align: middle;\n",
       "    }\n",
       "\n",
       "    .dataframe tbody tr th {\n",
       "        vertical-align: top;\n",
       "    }\n",
       "\n",
       "    .dataframe thead th {\n",
       "        text-align: right;\n",
       "    }\n",
       "</style>\n",
       "<table border=\"1\" class=\"dataframe\">\n",
       "  <thead>\n",
       "    <tr style=\"text-align: right;\">\n",
       "      <th></th>\n",
       "      <th>n</th>\n",
       "      <th>percent</th>\n",
       "    </tr>\n",
       "  </thead>\n",
       "  <tbody>\n",
       "    <tr>\n",
       "      <th>HTML</th>\n",
       "      <td>29</td>\n",
       "      <td>0.239669</td>\n",
       "    </tr>\n",
       "    <tr>\n",
       "      <th>C#</th>\n",
       "      <td>27</td>\n",
       "      <td>0.223140</td>\n",
       "    </tr>\n",
       "    <tr>\n",
       "      <th>Python</th>\n",
       "      <td>25</td>\n",
       "      <td>0.206612</td>\n",
       "    </tr>\n",
       "    <tr>\n",
       "      <th>JavaScript</th>\n",
       "      <td>23</td>\n",
       "      <td>0.190083</td>\n",
       "    </tr>\n",
       "    <tr>\n",
       "      <th>Java</th>\n",
       "      <td>15</td>\n",
       "      <td>0.123967</td>\n",
       "    </tr>\n",
       "    <tr>\n",
       "      <th>Ruby</th>\n",
       "      <td>1</td>\n",
       "      <td>0.008264</td>\n",
       "    </tr>\n",
       "    <tr>\n",
       "      <th>Shell</th>\n",
       "      <td>1</td>\n",
       "      <td>0.008264</td>\n",
       "    </tr>\n",
       "  </tbody>\n",
       "</table>\n",
       "</div>"
      ],
      "text/plain": [
       "             n   percent\n",
       "HTML        29  0.239669\n",
       "C#          27  0.223140\n",
       "Python      25  0.206612\n",
       "JavaScript  23  0.190083\n",
       "Java        15  0.123967\n",
       "Ruby         1  0.008264\n",
       "Shell        1  0.008264"
      ]
     },
     "execution_count": 7,
     "metadata": {},
     "output_type": "execute_result"
    }
   ],
   "source": [
    "def show_counts_and_ratios(df, column):\n",
    "    \"\"\"\n",
    "    Takes in a dataframe and a string of a single column\n",
    "    Returns a dataframe with absolute value counts and percentage value counts\n",
    "    \"\"\"\n",
    "    labels = pd.concat([df[column].value_counts(),\n",
    "                    df[column].value_counts(normalize=True)], axis=1)\n",
    "    labels.columns = ['n', 'percent']\n",
    "    labels\n",
    "    return labels\n",
    "\n",
    "show_counts_and_ratios(df, \"language\")"
   ]
  },
  {
   "cell_type": "code",
   "execution_count": 11,
   "id": "d5784ffa",
   "metadata": {},
   "outputs": [],
   "source": [
    "python_words = clean(' '.join(df[df.language == 'Python'].readme_contents))"
   ]
  },
  {
   "cell_type": "code",
   "execution_count": 12,
   "id": "2f42467f",
   "metadata": {},
   "outputs": [],
   "source": [
    "c_sharp_words = clean(' '.join(df[df.language == 'C#'].readme_contents))"
   ]
  },
  {
   "cell_type": "code",
   "execution_count": 13,
   "id": "c181dff0",
   "metadata": {},
   "outputs": [],
   "source": [
    "html_words = clean(' '.join(df[df.language == 'HTML'].readme_contents))"
   ]
  },
  {
   "cell_type": "code",
   "execution_count": 14,
   "id": "972c5887",
   "metadata": {},
   "outputs": [],
   "source": [
    "javascript_words = clean(' '.join(df[df.language == 'JavaScript'].readme_contents))"
   ]
  },
  {
   "cell_type": "code",
   "execution_count": 15,
   "id": "bd0bdb56",
   "metadata": {},
   "outputs": [],
   "source": [
    "java_words = clean(' '.join(df[df.language == 'Java'].readme_contents))"
   ]
  },
  {
   "cell_type": "code",
   "execution_count": 16,
   "id": "e41162eb",
   "metadata": {},
   "outputs": [],
   "source": [
    "ruby_words = clean(' '.join(df[df.language == 'Ruby'].readme_contents))"
   ]
  },
  {
   "cell_type": "code",
   "execution_count": 17,
   "id": "5bbe6e53",
   "metadata": {},
   "outputs": [],
   "source": [
    "shell_words = clean(' '.join(df[df.language == 'Shell'].readme_contents))"
   ]
  },
  {
   "cell_type": "markdown",
   "id": "cb469c8b",
   "metadata": {},
   "source": [
    "### Freq"
   ]
  },
  {
   "cell_type": "code",
   "execution_count": 19,
   "id": "30651084",
   "metadata": {},
   "outputs": [],
   "source": [
    "python_freq = pd.Series(python_words).value_counts()"
   ]
  },
  {
   "cell_type": "code",
   "execution_count": 20,
   "id": "5840eace",
   "metadata": {},
   "outputs": [],
   "source": [
    "c_sharp_freq = pd.Series(c_sharp_words).value_counts()"
   ]
  },
  {
   "cell_type": "code",
   "execution_count": 21,
   "id": "96591820",
   "metadata": {},
   "outputs": [],
   "source": [
    "html_freq = pd.Series(html_words).value_counts()"
   ]
  },
  {
   "cell_type": "code",
   "execution_count": 22,
   "id": "0203ceef",
   "metadata": {},
   "outputs": [],
   "source": [
    "javascript_freq = pd.Series(javascript_words).value_counts()"
   ]
  },
  {
   "cell_type": "code",
   "execution_count": 23,
   "id": "df85caa1",
   "metadata": {},
   "outputs": [],
   "source": [
    "java_freq = pd.Series(java_words).value_counts()"
   ]
  },
  {
   "cell_type": "code",
   "execution_count": 24,
   "id": "9fe0a7bf",
   "metadata": {},
   "outputs": [],
   "source": [
    "ruby_freq = pd.Series(ruby_words).value_counts()"
   ]
  },
  {
   "cell_type": "code",
   "execution_count": 25,
   "id": "c7bbdf07",
   "metadata": {},
   "outputs": [],
   "source": [
    "shell_freq = pd.Series(shell_words).value_counts()"
   ]
  },
  {
   "cell_type": "code",
   "execution_count": 26,
   "id": "ef37c0eb",
   "metadata": {},
   "outputs": [
    {
     "data": {
      "text/plain": [
       "yes        1615\n",
       "unknown     909\n",
       "apikey      558\n",
       "video       489\n",
       "python      447\n",
       "dtype: int64"
      ]
     },
     "execution_count": 26,
     "metadata": {},
     "output_type": "execute_result"
    }
   ],
   "source": [
    "python_freq.head()"
   ]
  },
  {
   "cell_type": "code",
   "execution_count": 27,
   "id": "f621f246",
   "metadata": {},
   "outputs": [
    {
     "data": {
      "text/plain": [
       "new       192\n",
       "c         188\n",
       "use       186\n",
       "var       185\n",
       "string    156\n",
       "dtype: int64"
      ]
     },
     "execution_count": 27,
     "metadata": {},
     "output_type": "execute_result"
    }
   ],
   "source": [
    "c_sharp_freq.head()"
   ]
  },
  {
   "cell_type": "code",
   "execution_count": 30,
   "id": "16507596",
   "metadata": {},
   "outputs": [
    {
     "data": {
      "text/plain": [
       "html        97\n",
       "file        76\n",
       "use         76\n",
       "15001700    62\n",
       "dom         51\n",
       "dtype: int64"
      ]
     },
     "execution_count": 30,
     "metadata": {},
     "output_type": "execute_result"
    }
   ],
   "source": [
    "html_freq.head()"
   ]
  },
  {
   "cell_type": "code",
   "execution_count": 29,
   "id": "436e24c8",
   "metadata": {},
   "outputs": [
    {
     "data": {
      "text/plain": [
       "javascript    309\n",
       "function      276\n",
       "const         261\n",
       "1             240\n",
       "bad           205\n",
       "dtype: int64"
      ]
     },
     "execution_count": 29,
     "metadata": {},
     "output_type": "execute_result"
    }
   ],
   "source": [
    "javascript_freq.head()"
   ]
  },
  {
   "cell_type": "code",
   "execution_count": 31,
   "id": "0059739b",
   "metadata": {},
   "outputs": [
    {
     "data": {
      "text/plain": [
       "aligncentera    189\n",
       "td              189\n",
       "width100px      189\n",
       "altbr           189\n",
       "java            177\n",
       "dtype: int64"
      ]
     },
     "execution_count": 31,
     "metadata": {},
     "output_type": "execute_result"
    }
   ],
   "source": [
    "java_freq.head()"
   ]
  },
  {
   "cell_type": "markdown",
   "id": "7305aa4e",
   "metadata": {},
   "source": [
    "### Ruby and Shell only have one observation so we can either drop or go find more"
   ]
  },
  {
   "cell_type": "code",
   "execution_count": 32,
   "id": "c39965c6",
   "metadata": {},
   "outputs": [
    {
     "data": {
      "text/plain": [
       "cookbook    6\n",
       "chef        5\n",
       "sou         2\n",
       "backer      2\n",
       "amazon      2\n",
       "dtype: int64"
      ]
     },
     "execution_count": 32,
     "metadata": {},
     "output_type": "execute_result"
    }
   ],
   "source": [
    "ruby_freq.head()"
   ]
  },
  {
   "cell_type": "code",
   "execution_count": 33,
   "id": "2eb5c3df",
   "metadata": {},
   "outputs": [
    {
     "data": {
      "text/plain": [
       "java              13\n",
       "docker            10\n",
       "run                7\n",
       "openjdk            5\n",
       "dockerfilejava     5\n",
       "dtype: int64"
      ]
     },
     "execution_count": 33,
     "metadata": {},
     "output_type": "execute_result"
    }
   ],
   "source": [
    "shell_freq.head()"
   ]
  },
  {
   "cell_type": "code",
   "execution_count": null,
   "id": "6801ffcb",
   "metadata": {},
   "outputs": [],
   "source": []
  }
 ],
 "metadata": {
  "kernelspec": {
   "display_name": "Python 3",
   "language": "python",
   "name": "python3"
  },
  "language_info": {
   "codemirror_mode": {
    "name": "ipython",
    "version": 3
   },
   "file_extension": ".py",
   "mimetype": "text/x-python",
   "name": "python",
   "nbconvert_exporter": "python",
   "pygments_lexer": "ipython3",
   "version": "3.8.8"
  }
 },
 "nbformat": 4,
 "nbformat_minor": 5
}
