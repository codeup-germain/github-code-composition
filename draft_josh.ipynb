{
 "cells": [
  {
   "cell_type": "code",
   "execution_count": 1,
   "id": "b44ca195",
   "metadata": {},
   "outputs": [],
   "source": [
    "import pandas as pd\n",
    "import numpy as np\n",
    "import matplotlib.pyplot as plt\n",
    "\n",
    "import unicodedata\n",
    "import re\n",
    "import json\n",
    "\n",
    "import nltk\n",
    "from nltk.tokenize.toktok import ToktokTokenizer\n",
    "from nltk.corpus import stopwords\n",
    "from nltk import sent_tokenize\n",
    "from prepare import prepare"
   ]
  },
  {
   "cell_type": "code",
   "execution_count": 2,
   "id": "50bab94e",
   "metadata": {},
   "outputs": [],
   "source": [
    "with open('data.json') as json_file:\n",
    "    data = json.load(json_file)"
   ]
  },
  {
   "cell_type": "code",
   "execution_count": 3,
   "id": "ab49decd",
   "metadata": {},
   "outputs": [],
   "source": [
    "df = pd.DataFrame(data)"
   ]
  },
  {
   "cell_type": "code",
   "execution_count": 41,
   "id": "08802de2",
   "metadata": {},
   "outputs": [
    {
     "data": {
      "text/html": [
       "<div>\n",
       "<style scoped>\n",
       "    .dataframe tbody tr th:only-of-type {\n",
       "        vertical-align: middle;\n",
       "    }\n",
       "\n",
       "    .dataframe tbody tr th {\n",
       "        vertical-align: top;\n",
       "    }\n",
       "\n",
       "    .dataframe thead th {\n",
       "        text-align: right;\n",
       "    }\n",
       "</style>\n",
       "<table border=\"1\" class=\"dataframe\">\n",
       "  <thead>\n",
       "    <tr style=\"text-align: right;\">\n",
       "      <th></th>\n",
       "      <th>repo</th>\n",
       "      <th>language</th>\n",
       "      <th>readme_contents</th>\n",
       "      <th>clean</th>\n",
       "      <th>stemmed</th>\n",
       "      <th>lemmatized</th>\n",
       "    </tr>\n",
       "  </thead>\n",
       "  <tbody>\n",
       "    <tr>\n",
       "      <th>52</th>\n",
       "      <td>dockerfile/java</td>\n",
       "      <td>Shell</td>\n",
       "      <td>## Java Dockerfile\\n\\n\\nThis repository contai...</td>\n",
       "      <td>java dockerfile repository contains dockerfile...</td>\n",
       "      <td>java dockerfil repositori contain dockerfil ja...</td>\n",
       "      <td>java dockerfile repository contains dockerfile...</td>\n",
       "    </tr>\n",
       "  </tbody>\n",
       "</table>\n",
       "</div>"
      ],
      "text/plain": [
       "               repo language  \\\n",
       "52  dockerfile/java    Shell   \n",
       "\n",
       "                                      readme_contents  \\\n",
       "52  ## Java Dockerfile\\n\\n\\nThis repository contai...   \n",
       "\n",
       "                                                clean  \\\n",
       "52  java dockerfile repository contains dockerfile...   \n",
       "\n",
       "                                              stemmed  \\\n",
       "52  java dockerfil repositori contain dockerfil ja...   \n",
       "\n",
       "                                           lemmatized  \n",
       "52  java dockerfile repository contains dockerfile...  "
      ]
     },
     "execution_count": 41,
     "metadata": {},
     "output_type": "execute_result"
    }
   ],
   "source": [
    "df[df.language == 'Shell']"
   ]
  },
  {
   "cell_type": "markdown",
   "id": "7217978c",
   "metadata": {},
   "source": [
    "# Check out prepare for prepare details"
   ]
  },
  {
   "cell_type": "code",
   "execution_count": 4,
   "id": "b163b7c7",
   "metadata": {
    "scrolled": false
   },
   "outputs": [],
   "source": [
    "train, validate, test = prepare(df)"
   ]
  },
  {
   "cell_type": "code",
   "execution_count": 35,
   "id": "59a76e53",
   "metadata": {},
   "outputs": [
    {
     "data": {
      "text/plain": [
       "(408, 180, 150)"
      ]
     },
     "execution_count": 35,
     "metadata": {},
     "output_type": "execute_result"
    }
   ],
   "source": [
    "train.size, validate.size, test.size"
   ]
  },
  {
   "cell_type": "code",
   "execution_count": 36,
   "id": "ad8ccf17",
   "metadata": {},
   "outputs": [
    {
     "data": {
      "text/html": [
       "<div>\n",
       "<style scoped>\n",
       "    .dataframe tbody tr th:only-of-type {\n",
       "        vertical-align: middle;\n",
       "    }\n",
       "\n",
       "    .dataframe tbody tr th {\n",
       "        vertical-align: top;\n",
       "    }\n",
       "\n",
       "    .dataframe thead th {\n",
       "        text-align: right;\n",
       "    }\n",
       "</style>\n",
       "<table border=\"1\" class=\"dataframe\">\n",
       "  <thead>\n",
       "    <tr style=\"text-align: right;\">\n",
       "      <th></th>\n",
       "      <th>repo</th>\n",
       "      <th>language</th>\n",
       "      <th>readme_contents</th>\n",
       "      <th>clean</th>\n",
       "      <th>stemmed</th>\n",
       "      <th>lemmatized</th>\n",
       "    </tr>\n",
       "  </thead>\n",
       "  <tbody>\n",
       "    <tr>\n",
       "      <th>122</th>\n",
       "      <td>charlesmudy/responsive-html-email-template</td>\n",
       "      <td>HTML</td>\n",
       "      <td>Responsive HTML Email Template\\n========\\n\\nTh...</td>\n",
       "      <td>responsive html email template template design...</td>\n",
       "      <td>respons html email templat templat design work...</td>\n",
       "      <td>responsive html email template template design...</td>\n",
       "    </tr>\n",
       "    <tr>\n",
       "      <th>104</th>\n",
       "      <td>coolwanglu/pdf2htmlEX</td>\n",
       "      <td>HTML</td>\n",
       "      <td>pdf2htmlEX is no longer under active developme...</td>\n",
       "      <td>pdf2htmlex longer active development new maint...</td>\n",
       "      <td>pdf2htmlex longer activ develop new maintain w...</td>\n",
       "      <td>pdf2htmlex longer active development new maint...</td>\n",
       "    </tr>\n",
       "    <tr>\n",
       "      <th>112</th>\n",
       "      <td>modularcode/modular-admin-html</td>\n",
       "      <td>HTML</td>\n",
       "      <td># ModularAdmin: Free Bootstrap 4 Dashboard The...</td>\n",
       "      <td>modularadmin free bootstrap 4 dashboard theme ...</td>\n",
       "      <td>modularadmin free bootstrap 4 dashboard theme ...</td>\n",
       "      <td>modularadmin free bootstrap 4 dashboard theme ...</td>\n",
       "    </tr>\n",
       "    <tr>\n",
       "      <th>116</th>\n",
       "      <td>mailgun/transactional-email-templates</td>\n",
       "      <td>HTML</td>\n",
       "      <td># Responsive transactional HTML email template...</td>\n",
       "      <td>responsive transactional html email templates ...</td>\n",
       "      <td>respons transact html email templat transact h...</td>\n",
       "      <td>responsive transactional html email template t...</td>\n",
       "    </tr>\n",
       "    <tr>\n",
       "      <th>7</th>\n",
       "      <td>freqtrade/freqtrade-strategies</td>\n",
       "      <td>Python</td>\n",
       "      <td># Freqtrade strategies\\n\\nThis Git repo contai...</td>\n",
       "      <td>freqtrade strategies git repo contains free bu...</td>\n",
       "      <td>freqtrad strategi git repo contain free buysel...</td>\n",
       "      <td>freqtrade strategy git repo contains free buys...</td>\n",
       "    </tr>\n",
       "  </tbody>\n",
       "</table>\n",
       "</div>"
      ],
      "text/plain": [
       "                                           repo language  \\\n",
       "122  charlesmudy/responsive-html-email-template     HTML   \n",
       "104                       coolwanglu/pdf2htmlEX     HTML   \n",
       "112              modularcode/modular-admin-html     HTML   \n",
       "116       mailgun/transactional-email-templates     HTML   \n",
       "7                freqtrade/freqtrade-strategies   Python   \n",
       "\n",
       "                                       readme_contents  \\\n",
       "122  Responsive HTML Email Template\\n========\\n\\nTh...   \n",
       "104  pdf2htmlEX is no longer under active developme...   \n",
       "112  # ModularAdmin: Free Bootstrap 4 Dashboard The...   \n",
       "116  # Responsive transactional HTML email template...   \n",
       "7    # Freqtrade strategies\\n\\nThis Git repo contai...   \n",
       "\n",
       "                                                 clean  \\\n",
       "122  responsive html email template template design...   \n",
       "104  pdf2htmlex longer active development new maint...   \n",
       "112  modularadmin free bootstrap 4 dashboard theme ...   \n",
       "116  responsive transactional html email templates ...   \n",
       "7    freqtrade strategies git repo contains free bu...   \n",
       "\n",
       "                                               stemmed  \\\n",
       "122  respons html email templat templat design work...   \n",
       "104  pdf2htmlex longer activ develop new maintain w...   \n",
       "112  modularadmin free bootstrap 4 dashboard theme ...   \n",
       "116  respons transact html email templat transact h...   \n",
       "7    freqtrad strategi git repo contain free buysel...   \n",
       "\n",
       "                                            lemmatized  \n",
       "122  responsive html email template template design...  \n",
       "104  pdf2htmlex longer active development new maint...  \n",
       "112  modularadmin free bootstrap 4 dashboard theme ...  \n",
       "116  responsive transactional html email template t...  \n",
       "7    freqtrade strategy git repo contains free buys...  "
      ]
     },
     "execution_count": 36,
     "metadata": {},
     "output_type": "execute_result"
    }
   ],
   "source": [
    "train.head()"
   ]
  },
  {
   "cell_type": "code",
   "execution_count": null,
   "id": "a804345c",
   "metadata": {},
   "outputs": [],
   "source": []
  },
  {
   "cell_type": "markdown",
   "id": "027512fd",
   "metadata": {},
   "source": [
    "# No duplicates"
   ]
  },
  {
   "cell_type": "code",
   "execution_count": 6,
   "id": "e889adf5",
   "metadata": {},
   "outputs": [
    {
     "data": {
      "text/html": [
       "<div>\n",
       "<style scoped>\n",
       "    .dataframe tbody tr th:only-of-type {\n",
       "        vertical-align: middle;\n",
       "    }\n",
       "\n",
       "    .dataframe tbody tr th {\n",
       "        vertical-align: top;\n",
       "    }\n",
       "\n",
       "    .dataframe thead th {\n",
       "        text-align: right;\n",
       "    }\n",
       "</style>\n",
       "<table border=\"1\" class=\"dataframe\">\n",
       "  <thead>\n",
       "    <tr style=\"text-align: right;\">\n",
       "      <th></th>\n",
       "      <th>repo</th>\n",
       "      <th>language</th>\n",
       "      <th>readme_contents</th>\n",
       "      <th>clean</th>\n",
       "      <th>stemmed</th>\n",
       "      <th>lemmatized</th>\n",
       "    </tr>\n",
       "  </thead>\n",
       "  <tbody>\n",
       "  </tbody>\n",
       "</table>\n",
       "</div>"
      ],
      "text/plain": [
       "Empty DataFrame\n",
       "Columns: [repo, language, readme_contents, clean, stemmed, lemmatized]\n",
       "Index: []"
      ]
     },
     "execution_count": 6,
     "metadata": {},
     "output_type": "execute_result"
    }
   ],
   "source": [
    "df[df.duplicated()]"
   ]
  },
  {
   "cell_type": "markdown",
   "id": "cf6b4b85",
   "metadata": {},
   "source": [
    "# Exploration"
   ]
  },
  {
   "cell_type": "code",
   "execution_count": 7,
   "id": "5495f0f0",
   "metadata": {},
   "outputs": [],
   "source": [
    "def clean(text):\n",
    "    'A simple function to cleanup text data'\n",
    "    \n",
    "    ADDITIONAL_STOPWORDS = []\n",
    "    wnl = nltk.stem.WordNetLemmatizer()\n",
    "    stopwords = nltk.corpus.stopwords.words('english') + ADDITIONAL_STOPWORDS\n",
    "    text = (unicodedata.normalize('NFKD', text)\n",
    "             .encode('ascii', 'ignore')\n",
    "             .decode('utf-8', 'ignore')\n",
    "             .lower())\n",
    "    words = re.sub(r'[^\\w\\s]', '', text).split()\n",
    "    return [wnl.lemmatize(word) for word in words if word not in stopwords]"
   ]
  },
  {
   "cell_type": "code",
   "execution_count": 8,
   "id": "6a026e5c",
   "metadata": {},
   "outputs": [
    {
     "data": {
      "text/html": [
       "<div>\n",
       "<style scoped>\n",
       "    .dataframe tbody tr th:only-of-type {\n",
       "        vertical-align: middle;\n",
       "    }\n",
       "\n",
       "    .dataframe tbody tr th {\n",
       "        vertical-align: top;\n",
       "    }\n",
       "\n",
       "    .dataframe thead th {\n",
       "        text-align: right;\n",
       "    }\n",
       "</style>\n",
       "<table border=\"1\" class=\"dataframe\">\n",
       "  <thead>\n",
       "    <tr style=\"text-align: right;\">\n",
       "      <th></th>\n",
       "      <th>n</th>\n",
       "      <th>percent</th>\n",
       "    </tr>\n",
       "  </thead>\n",
       "  <tbody>\n",
       "    <tr>\n",
       "      <th>HTML</th>\n",
       "      <td>29</td>\n",
       "      <td>0.239669</td>\n",
       "    </tr>\n",
       "    <tr>\n",
       "      <th>C#</th>\n",
       "      <td>27</td>\n",
       "      <td>0.223140</td>\n",
       "    </tr>\n",
       "    <tr>\n",
       "      <th>Python</th>\n",
       "      <td>25</td>\n",
       "      <td>0.206612</td>\n",
       "    </tr>\n",
       "    <tr>\n",
       "      <th>JavaScript</th>\n",
       "      <td>23</td>\n",
       "      <td>0.190083</td>\n",
       "    </tr>\n",
       "    <tr>\n",
       "      <th>Java</th>\n",
       "      <td>15</td>\n",
       "      <td>0.123967</td>\n",
       "    </tr>\n",
       "    <tr>\n",
       "      <th>Shell</th>\n",
       "      <td>1</td>\n",
       "      <td>0.008264</td>\n",
       "    </tr>\n",
       "    <tr>\n",
       "      <th>Ruby</th>\n",
       "      <td>1</td>\n",
       "      <td>0.008264</td>\n",
       "    </tr>\n",
       "  </tbody>\n",
       "</table>\n",
       "</div>"
      ],
      "text/plain": [
       "             n   percent\n",
       "HTML        29  0.239669\n",
       "C#          27  0.223140\n",
       "Python      25  0.206612\n",
       "JavaScript  23  0.190083\n",
       "Java        15  0.123967\n",
       "Shell        1  0.008264\n",
       "Ruby         1  0.008264"
      ]
     },
     "execution_count": 8,
     "metadata": {},
     "output_type": "execute_result"
    }
   ],
   "source": [
    "def show_counts_and_ratios(df, column):\n",
    "    \"\"\"\n",
    "    Takes in a dataframe and a string of a single column\n",
    "    Returns a dataframe with absolute value counts and percentage value counts\n",
    "    \"\"\"\n",
    "    labels = pd.concat([df[column].value_counts(),\n",
    "                    df[column].value_counts(normalize=True)], axis=1)\n",
    "    labels.columns = ['n', 'percent']\n",
    "    labels\n",
    "    return labels\n",
    "\n",
    "show_counts_and_ratios(df, \"language\")"
   ]
  },
  {
   "cell_type": "code",
   "execution_count": 9,
   "id": "529a2811",
   "metadata": {},
   "outputs": [],
   "source": [
    "python_words = clean(' '.join(df[df.language == 'Python'].readme_contents))"
   ]
  },
  {
   "cell_type": "code",
   "execution_count": 10,
   "id": "5b0f8b04",
   "metadata": {},
   "outputs": [],
   "source": [
    "c_sharp_words = clean(' '.join(df[df.language == 'C#'].readme_contents))"
   ]
  },
  {
   "cell_type": "code",
   "execution_count": 11,
   "id": "b85afdda",
   "metadata": {},
   "outputs": [],
   "source": [
    "html_words = clean(' '.join(df[df.language == 'HTML'].readme_contents))"
   ]
  },
  {
   "cell_type": "code",
   "execution_count": 12,
   "id": "f0d4bc5a",
   "metadata": {},
   "outputs": [],
   "source": [
    "javascript_words = clean(' '.join(df[df.language == 'JavaScript'].readme_contents))"
   ]
  },
  {
   "cell_type": "code",
   "execution_count": 13,
   "id": "1db0213f",
   "metadata": {},
   "outputs": [],
   "source": [
    "java_words = clean(' '.join(df[df.language == 'Java'].readme_contents))"
   ]
  },
  {
   "cell_type": "code",
   "execution_count": 14,
   "id": "4d466608",
   "metadata": {},
   "outputs": [],
   "source": [
    "ruby_words = clean(' '.join(df[df.language == 'Ruby'].readme_contents))"
   ]
  },
  {
   "cell_type": "code",
   "execution_count": 15,
   "id": "e01ffe17",
   "metadata": {},
   "outputs": [],
   "source": [
    "shell_words = clean(' '.join(df[df.language == 'Shell'].readme_contents))"
   ]
  },
  {
   "cell_type": "markdown",
   "id": "d8d919b4",
   "metadata": {},
   "source": [
    "### Freq"
   ]
  },
  {
   "cell_type": "code",
   "execution_count": 16,
   "id": "6022c399",
   "metadata": {},
   "outputs": [],
   "source": [
    "python_freq = pd.Series(python_words).value_counts()"
   ]
  },
  {
   "cell_type": "code",
   "execution_count": 17,
   "id": "23d73aac",
   "metadata": {},
   "outputs": [],
   "source": [
    "c_sharp_freq = pd.Series(c_sharp_words).value_counts()"
   ]
  },
  {
   "cell_type": "code",
   "execution_count": 18,
   "id": "70e6a165",
   "metadata": {},
   "outputs": [],
   "source": [
    "html_freq = pd.Series(html_words).value_counts()"
   ]
  },
  {
   "cell_type": "code",
   "execution_count": 19,
   "id": "42a06042",
   "metadata": {},
   "outputs": [],
   "source": [
    "javascript_freq = pd.Series(javascript_words).value_counts()"
   ]
  },
  {
   "cell_type": "code",
   "execution_count": 20,
   "id": "c980271d",
   "metadata": {},
   "outputs": [],
   "source": [
    "java_freq = pd.Series(java_words).value_counts()"
   ]
  },
  {
   "cell_type": "code",
   "execution_count": 21,
   "id": "ae5f807a",
   "metadata": {},
   "outputs": [],
   "source": [
    "ruby_freq = pd.Series(ruby_words).value_counts()"
   ]
  },
  {
   "cell_type": "code",
   "execution_count": 22,
   "id": "aaefea21",
   "metadata": {},
   "outputs": [],
   "source": [
    "shell_freq = pd.Series(shell_words).value_counts()"
   ]
  },
  {
   "cell_type": "code",
   "execution_count": 23,
   "id": "b842ef00",
   "metadata": {},
   "outputs": [
    {
     "data": {
      "text/plain": [
       "yes        1615\n",
       "unknown     909\n",
       "apikey      558\n",
       "video       489\n",
       "python      447\n",
       "dtype: int64"
      ]
     },
     "execution_count": 23,
     "metadata": {},
     "output_type": "execute_result"
    }
   ],
   "source": [
    "python_freq.head()"
   ]
  },
  {
   "cell_type": "code",
   "execution_count": 24,
   "id": "a597117a",
   "metadata": {},
   "outputs": [
    {
     "data": {
      "text/plain": [
       "new       192\n",
       "c         188\n",
       "use       186\n",
       "var       185\n",
       "string    156\n",
       "dtype: int64"
      ]
     },
     "execution_count": 24,
     "metadata": {},
     "output_type": "execute_result"
    }
   ],
   "source": [
    "c_sharp_freq.head()"
   ]
  },
  {
   "cell_type": "code",
   "execution_count": 25,
   "id": "4bae7ba7",
   "metadata": {},
   "outputs": [
    {
     "data": {
      "text/plain": [
       "html        97\n",
       "use         76\n",
       "file        76\n",
       "15001700    62\n",
       "dom         51\n",
       "dtype: int64"
      ]
     },
     "execution_count": 25,
     "metadata": {},
     "output_type": "execute_result"
    }
   ],
   "source": [
    "html_freq.head()"
   ]
  },
  {
   "cell_type": "code",
   "execution_count": 26,
   "id": "7a974062",
   "metadata": {},
   "outputs": [
    {
     "data": {
      "text/plain": [
       "javascript    309\n",
       "function      276\n",
       "const         261\n",
       "1             240\n",
       "bad           205\n",
       "dtype: int64"
      ]
     },
     "execution_count": 26,
     "metadata": {},
     "output_type": "execute_result"
    }
   ],
   "source": [
    "javascript_freq.head()"
   ]
  },
  {
   "cell_type": "code",
   "execution_count": 27,
   "id": "b8765162",
   "metadata": {},
   "outputs": [
    {
     "data": {
      "text/plain": [
       "aligncentera    189\n",
       "td              189\n",
       "width100px      189\n",
       "altbr           189\n",
       "java            177\n",
       "dtype: int64"
      ]
     },
     "execution_count": 27,
     "metadata": {},
     "output_type": "execute_result"
    }
   ],
   "source": [
    "java_freq.head()"
   ]
  },
  {
   "cell_type": "markdown",
   "id": "e94fd3e4",
   "metadata": {},
   "source": [
    "### Ruby and Shell only have one observation so we can either drop or go find more"
   ]
  },
  {
   "cell_type": "code",
   "execution_count": 28,
   "id": "45d1825b",
   "metadata": {},
   "outputs": [
    {
     "data": {
      "text/plain": [
       "cookbook    6\n",
       "chef        5\n",
       "java        2\n",
       "project     2\n",
       "amazon      2\n",
       "dtype: int64"
      ]
     },
     "execution_count": 28,
     "metadata": {},
     "output_type": "execute_result"
    }
   ],
   "source": [
    "ruby_freq.head()"
   ]
  },
  {
   "cell_type": "code",
   "execution_count": 29,
   "id": "6d8748f2",
   "metadata": {},
   "outputs": [
    {
     "data": {
      "text/plain": [
       "java              13\n",
       "docker            10\n",
       "run                7\n",
       "jdk                5\n",
       "dockerfilejava     5\n",
       "dtype: int64"
      ]
     },
     "execution_count": 29,
     "metadata": {},
     "output_type": "execute_result"
    }
   ],
   "source": [
    "shell_freq.head()"
   ]
  },
  {
   "cell_type": "code",
   "execution_count": null,
   "id": "2f69f178",
   "metadata": {},
   "outputs": [],
   "source": []
  }
 ],
 "metadata": {
  "kernelspec": {
   "display_name": "Python 3",
   "language": "python",
   "name": "python3"
  },
  "language_info": {
   "codemirror_mode": {
    "name": "ipython",
    "version": 3
   },
   "file_extension": ".py",
   "mimetype": "text/x-python",
   "name": "python",
   "nbconvert_exporter": "python",
   "pygments_lexer": "ipython3",
   "version": "3.8.8"
  }
 },
 "nbformat": 4,
 "nbformat_minor": 5
}
