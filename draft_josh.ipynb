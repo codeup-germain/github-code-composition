{
 "cells": [
  {
   "cell_type": "code",
   "execution_count": 1,
   "id": "b44ca195",
   "metadata": {},
   "outputs": [],
   "source": [
    "import pandas as pd\n",
    "import numpy as np\n",
    "import matplotlib.pyplot as plt\n",
    "\n",
    "import unicodedata\n",
    "import re\n",
    "import json\n",
    "\n",
    "import nltk\n",
    "from nltk.tokenize.toktok import ToktokTokenizer\n",
    "from nltk.corpus import stopwords\n",
    "from nltk import sent_tokenize\n",
    "from prepare import prepare"
   ]
  },
  {
   "cell_type": "code",
   "execution_count": 2,
   "id": "50bab94e",
   "metadata": {},
   "outputs": [],
   "source": [
    "with open('data.json') as json_file:\n",
    "    data = json.load(json_file)"
   ]
  },
  {
   "cell_type": "code",
   "execution_count": 3,
   "id": "75c3b1f3",
   "metadata": {},
   "outputs": [],
   "source": [
    "df = pd.DataFrame(data)"
   ]
  },
  {
   "cell_type": "code",
   "execution_count": 4,
   "id": "df4190f7",
   "metadata": {
    "scrolled": false
   },
   "outputs": [],
   "source": [
    "df = prepare(df)"
   ]
  },
  {
   "cell_type": "code",
   "execution_count": 5,
   "id": "233ea203",
   "metadata": {},
   "outputs": [
    {
     "data": {
      "text/html": [
       "<div>\n",
       "<style scoped>\n",
       "    .dataframe tbody tr th:only-of-type {\n",
       "        vertical-align: middle;\n",
       "    }\n",
       "\n",
       "    .dataframe tbody tr th {\n",
       "        vertical-align: top;\n",
       "    }\n",
       "\n",
       "    .dataframe thead th {\n",
       "        text-align: right;\n",
       "    }\n",
       "</style>\n",
       "<table border=\"1\" class=\"dataframe\">\n",
       "  <thead>\n",
       "    <tr style=\"text-align: right;\">\n",
       "      <th></th>\n",
       "      <th>repo</th>\n",
       "      <th>language</th>\n",
       "      <th>readme_contents</th>\n",
       "      <th>clean</th>\n",
       "      <th>stemmed</th>\n",
       "      <th>lemmatized</th>\n",
       "    </tr>\n",
       "  </thead>\n",
       "  <tbody>\n",
       "    <tr>\n",
       "      <th>0</th>\n",
       "      <td>iterativv/NostalgiaForInfinity</td>\n",
       "      <td>Python</td>\n",
       "      <td># NostalgiaForInfinity\\nTrading strategy for t...</td>\n",
       "      <td>nostalgiaforinfinity trading strategy freqtrad...</td>\n",
       "      <td>nostalgiaforinfin trade strategi freqtradehttp...</td>\n",
       "      <td>nostalgiaforinfinity trading strategy freqtrad...</td>\n",
       "    </tr>\n",
       "    <tr>\n",
       "      <th>1</th>\n",
       "      <td>cl2333/Grokking-the-Coding-Interview-Patterns-...</td>\n",
       "      <td>Python</td>\n",
       "      <td># [Grokking-the-Coding-Interview-Patterns-for-...</td>\n",
       "      <td>grokkingthecodinginterviewpatternsforcodingque...</td>\n",
       "      <td>grokkingthecodinginterviewpatternsforcodingque...</td>\n",
       "      <td>grokkingthecodinginterviewpatternsforcodingque...</td>\n",
       "    </tr>\n",
       "    <tr>\n",
       "      <th>2</th>\n",
       "      <td>edeng23/binance-trade-bot</td>\n",
       "      <td>Python</td>\n",
       "      <td># binance-trade-bot\\n\\n![github](https://img.s...</td>\n",
       "      <td>binancetradebot githubhttpsimgshieldsiogithubw...</td>\n",
       "      <td>binancetradebot githubhttpsimgshieldsiogithubw...</td>\n",
       "      <td>binancetradebot githubhttpsimgshieldsiogithubw...</td>\n",
       "    </tr>\n",
       "    <tr>\n",
       "      <th>3</th>\n",
       "      <td>donnemartin/system-design-primer</td>\n",
       "      <td>Python</td>\n",
       "      <td>*[English](README.md) ∙ [日本語](README-ja.md) ∙ ...</td>\n",
       "      <td>englishreadmemd readmejamd readmezhhansmd read...</td>\n",
       "      <td>englishreadmemd readmejamd readmezhhansmd read...</td>\n",
       "      <td>englishreadmemd readmejamd readmezhhansmd read...</td>\n",
       "    </tr>\n",
       "    <tr>\n",
       "      <th>4</th>\n",
       "      <td>dortania/OpenCore-Legacy-Patcher</td>\n",
       "      <td>Python</td>\n",
       "      <td>&lt;div align=\"center\"&gt;\\n             &lt;img src=\"i...</td>\n",
       "      <td>div aligncenter img srcimagesocpatcherpng alto...</td>\n",
       "      <td>div aligncent img srcimagesocpatcherpng altope...</td>\n",
       "      <td>div aligncenter img srcimagesocpatcherpng alto...</td>\n",
       "    </tr>\n",
       "  </tbody>\n",
       "</table>\n",
       "</div>"
      ],
      "text/plain": [
       "                                                repo language  \\\n",
       "0                     iterativv/NostalgiaForInfinity   Python   \n",
       "1  cl2333/Grokking-the-Coding-Interview-Patterns-...   Python   \n",
       "2                          edeng23/binance-trade-bot   Python   \n",
       "3                   donnemartin/system-design-primer   Python   \n",
       "4                   dortania/OpenCore-Legacy-Patcher   Python   \n",
       "\n",
       "                                     readme_contents  \\\n",
       "0  # NostalgiaForInfinity\\nTrading strategy for t...   \n",
       "1  # [Grokking-the-Coding-Interview-Patterns-for-...   \n",
       "2  # binance-trade-bot\\n\\n![github](https://img.s...   \n",
       "3  *[English](README.md) ∙ [日本語](README-ja.md) ∙ ...   \n",
       "4  <div align=\"center\">\\n             <img src=\"i...   \n",
       "\n",
       "                                               clean  \\\n",
       "0  nostalgiaforinfinity trading strategy freqtrad...   \n",
       "1  grokkingthecodinginterviewpatternsforcodingque...   \n",
       "2  binancetradebot githubhttpsimgshieldsiogithubw...   \n",
       "3  englishreadmemd readmejamd readmezhhansmd read...   \n",
       "4  div aligncenter img srcimagesocpatcherpng alto...   \n",
       "\n",
       "                                             stemmed  \\\n",
       "0  nostalgiaforinfin trade strategi freqtradehttp...   \n",
       "1  grokkingthecodinginterviewpatternsforcodingque...   \n",
       "2  binancetradebot githubhttpsimgshieldsiogithubw...   \n",
       "3  englishreadmemd readmejamd readmezhhansmd read...   \n",
       "4  div aligncent img srcimagesocpatcherpng altope...   \n",
       "\n",
       "                                          lemmatized  \n",
       "0  nostalgiaforinfinity trading strategy freqtrad...  \n",
       "1  grokkingthecodinginterviewpatternsforcodingque...  \n",
       "2  binancetradebot githubhttpsimgshieldsiogithubw...  \n",
       "3  englishreadmemd readmejamd readmezhhansmd read...  \n",
       "4  div aligncenter img srcimagesocpatcherpng alto...  "
      ]
     },
     "execution_count": 5,
     "metadata": {},
     "output_type": "execute_result"
    }
   ],
   "source": [
    "df.head()"
   ]
  },
  {
   "cell_type": "code",
   "execution_count": null,
   "id": "e9e9bf9a",
   "metadata": {},
   "outputs": [],
   "source": []
  }
 ],
 "metadata": {
  "kernelspec": {
   "display_name": "Python 3",
   "language": "python",
   "name": "python3"
  },
  "language_info": {
   "codemirror_mode": {
    "name": "ipython",
    "version": 3
   },
   "file_extension": ".py",
   "mimetype": "text/x-python",
   "name": "python",
   "nbconvert_exporter": "python",
   "pygments_lexer": "ipython3",
   "version": "3.8.8"
  }
 },
 "nbformat": 4,
 "nbformat_minor": 5
}
