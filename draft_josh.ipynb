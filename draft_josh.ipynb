{
 "cells": [
  {
   "cell_type": "code",
   "execution_count": 1,
   "id": "b44ca195",
   "metadata": {},
   "outputs": [],
   "source": [
    "import pandas as pd\n",
    "import numpy as np\n",
    "import matplotlib.pyplot as plt\n",
    "\n",
    "import unicodedata\n",
    "import re\n",
    "import json\n",
    "\n",
    "import nltk\n",
    "from nltk.tokenize.toktok import ToktokTokenizer\n",
    "from nltk.corpus import stopwords\n",
    "from nltk import sent_tokenize\n",
    "from prepare import prepare"
   ]
  },
  {
   "cell_type": "code",
   "execution_count": 2,
   "id": "50bab94e",
   "metadata": {},
   "outputs": [],
   "source": [
    "with open('data.json') as json_file:\n",
    "    data = json.load(json_file)"
   ]
  },
  {
   "cell_type": "code",
   "execution_count": 29,
   "id": "ab49decd",
   "metadata": {},
   "outputs": [],
   "source": [
    "df = pd.DataFrame(data)"
   ]
  },
  {
   "cell_type": "code",
   "execution_count": 30,
   "id": "c715ff7e",
   "metadata": {},
   "outputs": [
    {
     "name": "stdout",
     "output_type": "stream",
     "text": [
      "<class 'pandas.core.frame.DataFrame'>\n",
      "RangeIndex: 123 entries, 0 to 122\n",
      "Data columns (total 3 columns):\n",
      " #   Column           Non-Null Count  Dtype \n",
      "---  ------           --------------  ----- \n",
      " 0   repo             123 non-null    object\n",
      " 1   language         121 non-null    object\n",
      " 2   readme_contents  123 non-null    object\n",
      "dtypes: object(3)\n",
      "memory usage: 3.0+ KB\n"
     ]
    }
   ],
   "source": [
    "df.info()"
   ]
  },
  {
   "cell_type": "code",
   "execution_count": 31,
   "id": "e23ba7c9",
   "metadata": {},
   "outputs": [],
   "source": [
    "df = df[df.language != \"Shell\"]"
   ]
  },
  {
   "cell_type": "code",
   "execution_count": 32,
   "id": "ed522566",
   "metadata": {},
   "outputs": [],
   "source": [
    "df = df[df.language != \"Java\"]"
   ]
  },
  {
   "cell_type": "code",
   "execution_count": 33,
   "id": "8292fbe2",
   "metadata": {},
   "outputs": [],
   "source": [
    "df = df[df.language != \"Ruby\"]"
   ]
  },
  {
   "cell_type": "code",
   "execution_count": 34,
   "id": "17301cfd",
   "metadata": {},
   "outputs": [],
   "source": [
    "df.language = df.language.astype('string')"
   ]
  },
  {
   "cell_type": "code",
   "execution_count": 35,
   "id": "85e207b6",
   "metadata": {},
   "outputs": [
    {
     "name": "stdout",
     "output_type": "stream",
     "text": [
      "<class 'pandas.core.frame.DataFrame'>\n",
      "Int64Index: 106 entries, 0 to 122\n",
      "Data columns (total 3 columns):\n",
      " #   Column           Non-Null Count  Dtype \n",
      "---  ------           --------------  ----- \n",
      " 0   repo             106 non-null    object\n",
      " 1   language         104 non-null    string\n",
      " 2   readme_contents  106 non-null    object\n",
      "dtypes: object(2), string(1)\n",
      "memory usage: 3.3+ KB\n"
     ]
    }
   ],
   "source": [
    "df.info()"
   ]
  },
  {
   "cell_type": "code",
   "execution_count": 37,
   "id": "13b9cac1",
   "metadata": {},
   "outputs": [],
   "source": [
    "df = df[~df['language'].isnull()]"
   ]
  },
  {
   "cell_type": "code",
   "execution_count": 38,
   "id": "78800e67",
   "metadata": {},
   "outputs": [
    {
     "data": {
      "text/plain": [
       "HTML          29\n",
       "C#            27\n",
       "Python        25\n",
       "JavaScript    23\n",
       "Name: language, dtype: Int64"
      ]
     },
     "execution_count": 38,
     "metadata": {},
     "output_type": "execute_result"
    }
   ],
   "source": [
    "df.language.value_counts(dropna=False)"
   ]
  },
  {
   "cell_type": "code",
   "execution_count": 24,
   "id": "dbd5f18e",
   "metadata": {},
   "outputs": [
    {
     "data": {
      "text/plain": [
       "str"
      ]
     },
     "execution_count": 24,
     "metadata": {},
     "output_type": "execute_result"
    }
   ],
   "source": [
    "type(df.language[0])"
   ]
  },
  {
   "cell_type": "markdown",
   "id": "7217978c",
   "metadata": {},
   "source": [
    "# Check out prepare for prepare details"
   ]
  },
  {
   "cell_type": "code",
   "execution_count": 39,
   "id": "b163b7c7",
   "metadata": {
    "scrolled": false
   },
   "outputs": [],
   "source": [
    "train, validate, test = prepare(df)"
   ]
  },
  {
   "cell_type": "code",
   "execution_count": null,
   "id": "59a76e53",
   "metadata": {},
   "outputs": [],
   "source": [
    "train.size, validate.size, test.size"
   ]
  },
  {
   "cell_type": "code",
   "execution_count": null,
   "id": "418bfd43",
   "metadata": {},
   "outputs": [],
   "source": [
    "train.head()"
   ]
  },
  {
   "cell_type": "code",
   "execution_count": null,
   "id": "3c948622",
   "metadata": {},
   "outputs": [],
   "source": []
  },
  {
   "cell_type": "markdown",
   "id": "027512fd",
   "metadata": {},
   "source": [
    "# No duplicates"
   ]
  },
  {
   "cell_type": "code",
   "execution_count": null,
   "id": "e889adf5",
   "metadata": {},
   "outputs": [],
   "source": [
    "df[df.duplicated()]"
   ]
  },
  {
   "cell_type": "markdown",
   "id": "cf6b4b85",
   "metadata": {},
   "source": [
    "# Exploration"
   ]
  },
  {
   "cell_type": "code",
   "execution_count": null,
   "id": "5495f0f0",
   "metadata": {},
   "outputs": [],
   "source": [
    "def clean(text):\n",
    "    'A simple function to cleanup text data'\n",
    "    \n",
    "    ADDITIONAL_STOPWORDS = []\n",
    "    wnl = nltk.stem.WordNetLemmatizer()\n",
    "    stopwords = nltk.corpus.stopwords.words('english') + ADDITIONAL_STOPWORDS\n",
    "    text = (unicodedata.normalize('NFKD', text)\n",
    "             .encode('ascii', 'ignore')\n",
    "             .decode('utf-8', 'ignore')\n",
    "             .lower())\n",
    "    words = re.sub(r'[^\\w\\s]', '', text).split()\n",
    "    return [wnl.lemmatize(word) for word in words if word not in stopwords]"
   ]
  },
  {
   "cell_type": "code",
   "execution_count": null,
   "id": "6a026e5c",
   "metadata": {},
   "outputs": [],
   "source": [
    "def show_counts_and_ratios(df, column):\n",
    "    \"\"\"\n",
    "    Takes in a dataframe and a string of a single column\n",
    "    Returns a dataframe with absolute value counts and percentage value counts\n",
    "    \"\"\"\n",
    "    labels = pd.concat([df[column].value_counts(),\n",
    "                    df[column].value_counts(normalize=True)], axis=1)\n",
    "    labels.columns = ['n', 'percent']\n",
    "    labels\n",
    "    return labels\n",
    "\n",
    "show_counts_and_ratios(df, \"language\")"
   ]
  },
  {
   "cell_type": "code",
   "execution_count": null,
   "id": "529a2811",
   "metadata": {},
   "outputs": [],
   "source": [
    "python_words = clean(' '.join(df[df.language == 'Python'].readme_contents))"
   ]
  },
  {
   "cell_type": "code",
   "execution_count": null,
   "id": "5b0f8b04",
   "metadata": {},
   "outputs": [],
   "source": [
    "c_sharp_words = clean(' '.join(df[df.language == 'C#'].readme_contents))"
   ]
  },
  {
   "cell_type": "code",
   "execution_count": null,
   "id": "b85afdda",
   "metadata": {},
   "outputs": [],
   "source": [
    "html_words = clean(' '.join(df[df.language == 'HTML'].readme_contents))"
   ]
  },
  {
   "cell_type": "code",
   "execution_count": null,
   "id": "f0d4bc5a",
   "metadata": {},
   "outputs": [],
   "source": [
    "javascript_words = clean(' '.join(df[df.language == 'JavaScript'].readme_contents))"
   ]
  },
  {
   "cell_type": "code",
   "execution_count": null,
   "id": "1db0213f",
   "metadata": {},
   "outputs": [],
   "source": [
    "java_words = clean(' '.join(df[df.language == 'Java'].readme_contents))"
   ]
  },
  {
   "cell_type": "code",
   "execution_count": null,
   "id": "4d466608",
   "metadata": {},
   "outputs": [],
   "source": [
    "ruby_words = clean(' '.join(df[df.language == 'Ruby'].readme_contents))"
   ]
  },
  {
   "cell_type": "code",
   "execution_count": null,
   "id": "e01ffe17",
   "metadata": {},
   "outputs": [],
   "source": [
    "shell_words = clean(' '.join(df[df.language == 'Shell'].readme_contents))"
   ]
  },
  {
   "cell_type": "markdown",
   "id": "d8d919b4",
   "metadata": {},
   "source": [
    "### Freq"
   ]
  },
  {
   "cell_type": "code",
   "execution_count": null,
   "id": "6022c399",
   "metadata": {},
   "outputs": [],
   "source": [
    "python_freq = pd.Series(python_words).value_counts()"
   ]
  },
  {
   "cell_type": "code",
   "execution_count": null,
   "id": "23d73aac",
   "metadata": {},
   "outputs": [],
   "source": [
    "c_sharp_freq = pd.Series(c_sharp_words).value_counts()"
   ]
  },
  {
   "cell_type": "code",
   "execution_count": null,
   "id": "70e6a165",
   "metadata": {},
   "outputs": [],
   "source": [
    "html_freq = pd.Series(html_words).value_counts()"
   ]
  },
  {
   "cell_type": "code",
   "execution_count": null,
   "id": "42a06042",
   "metadata": {},
   "outputs": [],
   "source": [
    "javascript_freq = pd.Series(javascript_words).value_counts()"
   ]
  },
  {
   "cell_type": "code",
   "execution_count": null,
   "id": "c980271d",
   "metadata": {},
   "outputs": [],
   "source": [
    "java_freq = pd.Series(java_words).value_counts()"
   ]
  },
  {
   "cell_type": "code",
   "execution_count": null,
   "id": "ae5f807a",
   "metadata": {},
   "outputs": [],
   "source": [
    "ruby_freq = pd.Series(ruby_words).value_counts()"
   ]
  },
  {
   "cell_type": "code",
   "execution_count": null,
   "id": "aaefea21",
   "metadata": {},
   "outputs": [],
   "source": [
    "shell_freq = pd.Series(shell_words).value_counts()"
   ]
  },
  {
   "cell_type": "code",
   "execution_count": null,
   "id": "b842ef00",
   "metadata": {},
   "outputs": [],
   "source": [
    "python_freq.head()"
   ]
  },
  {
   "cell_type": "code",
   "execution_count": null,
   "id": "a597117a",
   "metadata": {},
   "outputs": [],
   "source": [
    "c_sharp_freq.head()"
   ]
  },
  {
   "cell_type": "code",
   "execution_count": null,
   "id": "4bae7ba7",
   "metadata": {},
   "outputs": [],
   "source": [
    "html_freq.head()"
   ]
  },
  {
   "cell_type": "code",
   "execution_count": null,
   "id": "7a974062",
   "metadata": {},
   "outputs": [],
   "source": [
    "javascript_freq.head()"
   ]
  },
  {
   "cell_type": "code",
   "execution_count": null,
   "id": "b8765162",
   "metadata": {},
   "outputs": [],
   "source": [
    "java_freq.head()"
   ]
  },
  {
   "cell_type": "markdown",
   "id": "e94fd3e4",
   "metadata": {},
   "source": [
    "### Ruby and Shell only have one observation so we can either drop or go find more"
   ]
  },
  {
   "cell_type": "code",
   "execution_count": null,
   "id": "45d1825b",
   "metadata": {},
   "outputs": [],
   "source": [
    "ruby_freq.head()"
   ]
  },
  {
   "cell_type": "code",
   "execution_count": null,
   "id": "6d8748f2",
   "metadata": {},
   "outputs": [],
   "source": [
    "shell_freq.head()"
   ]
  },
  {
   "cell_type": "code",
   "execution_count": null,
   "id": "2f69f178",
   "metadata": {},
   "outputs": [],
   "source": []
  }
 ],
 "metadata": {
  "kernelspec": {
   "display_name": "Python 3",
   "language": "python",
   "name": "python3"
  },
  "language_info": {
   "codemirror_mode": {
    "name": "ipython",
    "version": 3
   },
   "file_extension": ".py",
   "mimetype": "text/x-python",
   "name": "python",
   "nbconvert_exporter": "python",
   "pygments_lexer": "ipython3",
   "version": "3.8.8"
  }
 },
 "nbformat": 4,
 "nbformat_minor": 5
}
